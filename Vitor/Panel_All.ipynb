{
  "cells": [
    {
      "attachments": {},
      "cell_type": "markdown",
      "metadata": {
        "id": "u7bO5ifsty9d"
      },
      "source": [
        "\n",
        "agrupar por cidade\n",
        "agrupar por ano count total por cidade\n",
        "valor de univercidade\n",
        "valor total de univercidade\n",
        "col: distric code\n",
        "county(condado):ano -> col:awardee(univercidades(gerar contador))-> toltal recebido"
      ]
    },
    {
      "attachments": {},
      "cell_type": "markdown",
      "metadata": {
        "id": "GlO3VZiUtrs8"
      },
      "source": [
        "Mantém a D_50 (é redundante, mas deixa la)\n",
        "Cria d_59 que vai ter tudo 0 ai quando agregarmos ela vai receber o valor de quantas vezes uma mesma universidade apareceu e vc pode usar a coluna d_50 para contar (se quiser)\n",
        "e uma outra coluna d_99 que vai receber também 0 no começo e quando agregar ela fica com 1,2,3,4... conforme aparecer a mesma universidade mais vezes com valores acima de 50k\n",
        "No fim temos 3 colunas\n",
        "d_50 que é uma dummy mesmo\n",
        "d_59 que tem quantas vezes uma universidade apareceu por ano com valor de 50k, 1,2,3,4...\n",
        "d_99 que tem quantas vezes uma universidade apareceu por ano com valor ACIMA de 50k, 1,2,3,4...\n",
        "\n",
        "\n",
        "Para os outros fundings usa o valor total, mas conta quantos fundins recebeu\n",
        "\n",
        "Preencher os valores que faltam"
      ]
    },
    {
      "cell_type": "code",
      "execution_count": 1,
      "metadata": {
        "id": "FuDxkZwrrtXo"
      },
      "outputs": [
        {
          "name": "stderr",
          "output_type": "stream",
          "text": [
            "C:\\Users\\fernav4\\AppData\\Local\\Temp\\ipykernel_16604\\3674381822.py:9: DtypeWarning: Columns (12,13,17,25,32,37,45,50,51) have mixed types. Specify dtype option on import or set low_memory=False.\n",
            "  nsf=pd.read_csv(base/ 'allNSF1.csv',index_col = False) #Change this to the clean data later\n"
          ]
        }
      ],
      "source": [
        "import pandas as pd\n",
        "import numpy as np\n",
        "from pathlib import Path\n",
        "\n",
        "#path append\n",
        "#base = Path('C:/workspace/nsf-award-extract') # Vitor's PC\n",
        "base = Path('C:/collaboration/vitor/NSF_DATA') # Server\n",
        "\n",
        "nsf=pd.read_csv(base/ 'allNSF1.csv',index_col = False) #Change this to the clean data later\n",
        "#dft=pd.read_csv(base/ 'test.csv',index_col = False) #Change this to the clean data later"
      ]
    },
    {
      "cell_type": "code",
      "execution_count": 2,
      "metadata": {},
      "outputs": [],
      "source": [
        "#Just checking if we have the same amount of register in each year as in this link https://www.nsf.gov/awardsearch/download.jsp\n",
        "#nsf['year'] = pd.to_datetime(nsf['date'], format='%m/%d/%Y').dt.year"
      ]
    },
    {
      "cell_type": "code",
      "execution_count": 3,
      "metadata": {},
      "outputs": [
        {
          "data": {
            "text/plain": [
              "Index(['Column', 'abstractText', 'agency', 'awardAgencyCode', 'awardee',\n",
              "       'awardeeAddress', 'awardeeCity', 'awardeeCountryCode', 'awardeeCounty',\n",
              "       'awardeeDistrictCode', 'awardeeName', 'awardeeStateCode',\n",
              "       'awardeeZipCode', 'cfdaNumber', 'month_date', 'day_date', 'Year_date',\n",
              "       'dunsNumber', 'estimatedTotalAmt', 'expDate 1', 'expDate 2',\n",
              "       'expDate 3', 'fundAgencyCode', 'fundProgramName', 'fundsObligatedAmt',\n",
              "       'id', 'parentDunsNumber', 'pdPIName', 'perfAddress', 'perfCity',\n",
              "       'perfCountryCode', 'perfLocation', 'perfZipCode', 'piEmail',\n",
              "       'piFirstName', 'piLastName', 'piMiddeInitial', 'piPhone', 'poEmail',\n",
              "       'startDate', 'title', 'transType', 'perfCounty', 'perfDistrictCode',\n",
              "       'perfStateCode', 'primaryProgram', 'coPDPI', 'poName', 'poPhone',\n",
              "       'publicationResearch', 'publicationConference',\n",
              "       'projectOutComesReport'],\n",
              "      dtype='object')"
            ]
          },
          "execution_count": 3,
          "metadata": {},
          "output_type": "execute_result"
        }
      ],
      "source": [
        "nsf.columns\n"
      ]
    },
    {
      "attachments": {},
      "cell_type": "markdown",
      "metadata": {},
      "source": [
        "Filling the missing county"
      ]
    },
    {
      "cell_type": "code",
      "execution_count": 4,
      "metadata": {},
      "outputs": [],
      "source": [
        "mapping = nsf.groupby('awardee')['awardeeCounty'].first().to_dict()\n",
        "nsf['awardeeCounty'] = nsf['awardeeCounty'].fillna(nsf['awardee'].map(mapping))"
      ]
    },
    {
      "attachments": {},
      "cell_type": "markdown",
      "metadata": {},
      "source": [
        "Keeping only the funding with fundProgramName specified "
      ]
    },
    {
      "cell_type": "code",
      "execution_count": 5,
      "metadata": {},
      "outputs": [],
      "source": [
        "nsf = nsf[~nsf['fundProgramName'].isna()]"
      ]
    },
    {
      "attachments": {},
      "cell_type": "markdown",
      "metadata": {},
      "source": [
        "# Extracting the Universities that has missing county\n",
        "We need to use this list to find the county and later use the filled file to map this location back to the main file"
      ]
    },
    {
      "cell_type": "code",
      "execution_count": 6,
      "metadata": {},
      "outputs": [
        {
          "data": {
            "text/html": [
              "<div>\n",
              "<style scoped>\n",
              "    .dataframe tbody tr th:only-of-type {\n",
              "        vertical-align: middle;\n",
              "    }\n",
              "\n",
              "    .dataframe tbody tr th {\n",
              "        vertical-align: top;\n",
              "    }\n",
              "\n",
              "    .dataframe thead th {\n",
              "        text-align: right;\n",
              "    }\n",
              "</style>\n",
              "<table border=\"1\" class=\"dataframe\">\n",
              "  <thead>\n",
              "    <tr style=\"text-align: right;\">\n",
              "      <th></th>\n",
              "      <th>Column</th>\n",
              "      <th>abstractText</th>\n",
              "      <th>agency</th>\n",
              "      <th>awardAgencyCode</th>\n",
              "      <th>awardee</th>\n",
              "      <th>awardeeAddress</th>\n",
              "      <th>awardeeCity</th>\n",
              "      <th>awardeeCountryCode</th>\n",
              "      <th>awardeeCounty</th>\n",
              "      <th>awardeeDistrictCode</th>\n",
              "      <th>...</th>\n",
              "      <th>perfCounty</th>\n",
              "      <th>perfDistrictCode</th>\n",
              "      <th>perfStateCode</th>\n",
              "      <th>primaryProgram</th>\n",
              "      <th>coPDPI</th>\n",
              "      <th>poName</th>\n",
              "      <th>poPhone</th>\n",
              "      <th>publicationResearch</th>\n",
              "      <th>publicationConference</th>\n",
              "      <th>projectOutComesReport</th>\n",
              "    </tr>\n",
              "  </thead>\n",
              "  <tbody>\n",
              "    <tr>\n",
              "      <th>8</th>\n",
              "      <td>7</td>\n",
              "      <td>Continuous aseptic processing and packaging is...</td>\n",
              "      <td>NSF</td>\n",
              "      <td>4900.0</td>\n",
              "      <td>NORTH CAROLINA STATE UNIVERSITY</td>\n",
              "      <td>2601 Wolf Village Way</td>\n",
              "      <td>Raleigh</td>\n",
              "      <td>US</td>\n",
              "      <td>None</td>\n",
              "      <td>NC04</td>\n",
              "      <td>...</td>\n",
              "      <td>NaN</td>\n",
              "      <td>NaN</td>\n",
              "      <td>NaN</td>\n",
              "      <td>NaN</td>\n",
              "      <td>NaN</td>\n",
              "      <td>NaN</td>\n",
              "      <td>NaN</td>\n",
              "      <td>NaN</td>\n",
              "      <td>NaN</td>\n",
              "      <td>NaN</td>\n",
              "    </tr>\n",
              "    <tr>\n",
              "      <th>368</th>\n",
              "      <td>38</td>\n",
              "      <td>The Trek of the Mammoth is a three-week multid...</td>\n",
              "      <td>NSF</td>\n",
              "      <td>4900.0</td>\n",
              "      <td>CHADRON STATE COLLEGE</td>\n",
              "      <td>10th and Main Streets</td>\n",
              "      <td>chadron</td>\n",
              "      <td>US</td>\n",
              "      <td>None</td>\n",
              "      <td>NE03</td>\n",
              "      <td>...</td>\n",
              "      <td>NaN</td>\n",
              "      <td>NaN</td>\n",
              "      <td>NaN</td>\n",
              "      <td>NaN</td>\n",
              "      <td>Ronald R Weedon</td>\n",
              "      <td>NaN</td>\n",
              "      <td>NaN</td>\n",
              "      <td>NaN</td>\n",
              "      <td>NaN</td>\n",
              "      <td>NaN</td>\n",
              "    </tr>\n",
              "    <tr>\n",
              "      <th>385</th>\n",
              "      <td>55</td>\n",
              "      <td>This three-year project is designed to improve...</td>\n",
              "      <td>NSF</td>\n",
              "      <td>4900.0</td>\n",
              "      <td>MCNEESE STATE UNIVERSITY</td>\n",
              "      <td>Box 90655</td>\n",
              "      <td>Lake Charles</td>\n",
              "      <td>US</td>\n",
              "      <td>None</td>\n",
              "      <td>LA07</td>\n",
              "      <td>...</td>\n",
              "      <td>NaN</td>\n",
              "      <td>NaN</td>\n",
              "      <td>NaN</td>\n",
              "      <td>NaN</td>\n",
              "      <td>Gary D Kratzer</td>\n",
              "      <td>NaN</td>\n",
              "      <td>NaN</td>\n",
              "      <td>NaN</td>\n",
              "      <td>NaN</td>\n",
              "      <td>NaN</td>\n",
              "    </tr>\n",
              "    <tr>\n",
              "      <th>924</th>\n",
              "      <td>7</td>\n",
              "      <td>PROJECT PTRA-PLUS is a program of the American...</td>\n",
              "      <td>NSF</td>\n",
              "      <td>4900.0</td>\n",
              "      <td>AMERICAN ASSOCIATION OF PHYSICS TEACHERS INC</td>\n",
              "      <td>One Physics Ellipse</td>\n",
              "      <td>College Park</td>\n",
              "      <td>US</td>\n",
              "      <td>None</td>\n",
              "      <td>MD05</td>\n",
              "      <td>...</td>\n",
              "      <td>NaN</td>\n",
              "      <td>MD05</td>\n",
              "      <td>MD</td>\n",
              "      <td>490106 NSF, EDUCATION &amp; HUMAN RESOURC</td>\n",
              "      <td>James H Nelson</td>\n",
              "      <td>NaN</td>\n",
              "      <td>NaN</td>\n",
              "      <td>NaN</td>\n",
              "      <td>NaN</td>\n",
              "      <td>NaN</td>\n",
              "    </tr>\n",
              "    <tr>\n",
              "      <th>993</th>\n",
              "      <td>76</td>\n",
              "      <td>The Bermuda Biological Station will receive su...</td>\n",
              "      <td>NSF</td>\n",
              "      <td>4900.0</td>\n",
              "      <td>BERMUDA INSTITUTE OF OCEAN SCIENCES (BIOS) INC.</td>\n",
              "      <td>17 Biological Station</td>\n",
              "      <td>St. George's    GE01</td>\n",
              "      <td>BD</td>\n",
              "      <td>None</td>\n",
              "      <td>NaN</td>\n",
              "      <td>...</td>\n",
              "      <td>NaN</td>\n",
              "      <td>NaN</td>\n",
              "      <td>NaN</td>\n",
              "      <td>490100 NSF RESEARCH &amp; RELATED ACTIVIT</td>\n",
              "      <td>NaN</td>\n",
              "      <td>NaN</td>\n",
              "      <td>NaN</td>\n",
              "      <td>NaN</td>\n",
              "      <td>NaN</td>\n",
              "      <td>NaN</td>\n",
              "    </tr>\n",
              "    <tr>\n",
              "      <th>...</th>\n",
              "      <td>...</td>\n",
              "      <td>...</td>\n",
              "      <td>...</td>\n",
              "      <td>...</td>\n",
              "      <td>...</td>\n",
              "      <td>...</td>\n",
              "      <td>...</td>\n",
              "      <td>...</td>\n",
              "      <td>...</td>\n",
              "      <td>...</td>\n",
              "      <td>...</td>\n",
              "      <td>...</td>\n",
              "      <td>...</td>\n",
              "      <td>...</td>\n",
              "      <td>...</td>\n",
              "      <td>...</td>\n",
              "      <td>...</td>\n",
              "      <td>...</td>\n",
              "      <td>...</td>\n",
              "      <td>...</td>\n",
              "      <td>...</td>\n",
              "    </tr>\n",
              "    <tr>\n",
              "      <th>191110</th>\n",
              "      <td>11257</td>\n",
              "      <td>New cryptographic systems can improve the secu...</td>\n",
              "      <td>NSF</td>\n",
              "      <td>4900.0</td>\n",
              "      <td>NORTH CAROLINA STATE UNIVERSITY</td>\n",
              "      <td>2601 Wolf Village Way</td>\n",
              "      <td>Raleigh</td>\n",
              "      <td>US</td>\n",
              "      <td>None</td>\n",
              "      <td>NC04</td>\n",
              "      <td>...</td>\n",
              "      <td>RALEIGH</td>\n",
              "      <td>NC02</td>\n",
              "      <td>NC</td>\n",
              "      <td>NaN</td>\n",
              "      <td>NaN</td>\n",
              "      <td>Sankar Basu</td>\n",
              "      <td>7.032928e+09</td>\n",
              "      <td>NaN</td>\n",
              "      <td>NaN</td>\n",
              "      <td>NaN</td>\n",
              "    </tr>\n",
              "    <tr>\n",
              "      <th>191356</th>\n",
              "      <td>11503</td>\n",
              "      <td>The U.S. Southwest is a drought-prone region t...</td>\n",
              "      <td>NSF</td>\n",
              "      <td>4900.0</td>\n",
              "      <td>NaN</td>\n",
              "      <td>NaN</td>\n",
              "      <td>Ann Arbor</td>\n",
              "      <td>US</td>\n",
              "      <td>NaN</td>\n",
              "      <td>MI</td>\n",
              "      <td>...</td>\n",
              "      <td>DAVIS</td>\n",
              "      <td>CA04</td>\n",
              "      <td>CA</td>\n",
              "      <td>NaN</td>\n",
              "      <td>NaN</td>\n",
              "      <td>Soumaya Belmecheri</td>\n",
              "      <td>7.032929e+09</td>\n",
              "      <td>Macarewich, Sophia I. and Poulsen, Christopher...</td>\n",
              "      <td>NaN</td>\n",
              "      <td>Water resource use in the southwestern U.S. (h...</td>\n",
              "    </tr>\n",
              "    <tr>\n",
              "      <th>191433</th>\n",
              "      <td>11580</td>\n",
              "      <td>Extreme weather events (heat waves and cold sn...</td>\n",
              "      <td>NSF</td>\n",
              "      <td>4900.0</td>\n",
              "      <td>NORTH CAROLINA STATE UNIVERSITY</td>\n",
              "      <td>2601 Wolf Village Way</td>\n",
              "      <td>Raleigh</td>\n",
              "      <td>US</td>\n",
              "      <td>None</td>\n",
              "      <td>NC04</td>\n",
              "      <td>...</td>\n",
              "      <td>Raleigh</td>\n",
              "      <td>NC02</td>\n",
              "      <td>NC</td>\n",
              "      <td>NaN</td>\n",
              "      <td>NaN</td>\n",
              "      <td>Bruce Hamilton</td>\n",
              "      <td>7.032920e+09</td>\n",
              "      <td>NaN</td>\n",
              "      <td>NaN</td>\n",
              "      <td>NaN</td>\n",
              "    </tr>\n",
              "    <tr>\n",
              "      <th>191476</th>\n",
              "      <td>11623</td>\n",
              "      <td>This award is funded in whole or in part under...</td>\n",
              "      <td>NSF</td>\n",
              "      <td>4900.0</td>\n",
              "      <td>NORTH CAROLINA STATE UNIVERSITY</td>\n",
              "      <td>2601 Wolf Village Way</td>\n",
              "      <td>Raleigh</td>\n",
              "      <td>US</td>\n",
              "      <td>None</td>\n",
              "      <td>NC04</td>\n",
              "      <td>...</td>\n",
              "      <td>RALEIGH</td>\n",
              "      <td>NC02</td>\n",
              "      <td>NC</td>\n",
              "      <td>NaN</td>\n",
              "      <td>NaN</td>\n",
              "      <td>Bianca Garner</td>\n",
              "      <td>7.032928e+09</td>\n",
              "      <td>NaN</td>\n",
              "      <td>NaN</td>\n",
              "      <td>NaN</td>\n",
              "    </tr>\n",
              "    <tr>\n",
              "      <th>191543</th>\n",
              "      <td>11690</td>\n",
              "      <td>The broader impact /commercial potential of th...</td>\n",
              "      <td>NSF</td>\n",
              "      <td>4900.0</td>\n",
              "      <td>LIV LABS INC.</td>\n",
              "      <td>1415 LAKE AVE</td>\n",
              "      <td>Wilmette</td>\n",
              "      <td>US</td>\n",
              "      <td>None</td>\n",
              "      <td>IL02</td>\n",
              "      <td>...</td>\n",
              "      <td>BOSTON</td>\n",
              "      <td>MA07</td>\n",
              "      <td>MA</td>\n",
              "      <td>NaN</td>\n",
              "      <td>Holly B Jimison</td>\n",
              "      <td>Alastair Monk</td>\n",
              "      <td>7.032924e+09</td>\n",
              "      <td>NaN</td>\n",
              "      <td>NaN</td>\n",
              "      <td>NaN</td>\n",
              "    </tr>\n",
              "  </tbody>\n",
              "</table>\n",
              "<p>3773 rows × 52 columns</p>\n",
              "</div>"
            ],
            "text/plain": [
              "        Column                                       abstractText agency  \\\n",
              "8            7  Continuous aseptic processing and packaging is...    NSF   \n",
              "368         38  The Trek of the Mammoth is a three-week multid...    NSF   \n",
              "385         55  This three-year project is designed to improve...    NSF   \n",
              "924          7  PROJECT PTRA-PLUS is a program of the American...    NSF   \n",
              "993         76  The Bermuda Biological Station will receive su...    NSF   \n",
              "...        ...                                                ...    ...   \n",
              "191110   11257  New cryptographic systems can improve the secu...    NSF   \n",
              "191356   11503  The U.S. Southwest is a drought-prone region t...    NSF   \n",
              "191433   11580  Extreme weather events (heat waves and cold sn...    NSF   \n",
              "191476   11623  This award is funded in whole or in part under...    NSF   \n",
              "191543   11690  The broader impact /commercial potential of th...    NSF   \n",
              "\n",
              "        awardAgencyCode                                          awardee  \\\n",
              "8                4900.0                  NORTH CAROLINA STATE UNIVERSITY   \n",
              "368              4900.0                            CHADRON STATE COLLEGE   \n",
              "385              4900.0                         MCNEESE STATE UNIVERSITY   \n",
              "924              4900.0     AMERICAN ASSOCIATION OF PHYSICS TEACHERS INC   \n",
              "993              4900.0  BERMUDA INSTITUTE OF OCEAN SCIENCES (BIOS) INC.   \n",
              "...                 ...                                              ...   \n",
              "191110           4900.0                  NORTH CAROLINA STATE UNIVERSITY   \n",
              "191356           4900.0                                              NaN   \n",
              "191433           4900.0                  NORTH CAROLINA STATE UNIVERSITY   \n",
              "191476           4900.0                  NORTH CAROLINA STATE UNIVERSITY   \n",
              "191543           4900.0                                    LIV LABS INC.   \n",
              "\n",
              "               awardeeAddress           awardeeCity awardeeCountryCode  \\\n",
              "8       2601 Wolf Village Way               Raleigh                 US   \n",
              "368     10th and Main Streets               chadron                 US   \n",
              "385                 Box 90655          Lake Charles                 US   \n",
              "924       One Physics Ellipse          College Park                 US   \n",
              "993     17 Biological Station  St. George's    GE01                 BD   \n",
              "...                       ...                   ...                ...   \n",
              "191110  2601 Wolf Village Way               Raleigh                 US   \n",
              "191356                    NaN             Ann Arbor                 US   \n",
              "191433  2601 Wolf Village Way               Raleigh                 US   \n",
              "191476  2601 Wolf Village Way               Raleigh                 US   \n",
              "191543          1415 LAKE AVE              Wilmette                 US   \n",
              "\n",
              "       awardeeCounty awardeeDistrictCode  ... perfCounty perfDistrictCode  \\\n",
              "8               None                NC04  ...        NaN              NaN   \n",
              "368             None                NE03  ...        NaN              NaN   \n",
              "385             None                LA07  ...        NaN              NaN   \n",
              "924             None                MD05  ...        NaN             MD05   \n",
              "993             None                 NaN  ...        NaN              NaN   \n",
              "...              ...                 ...  ...        ...              ...   \n",
              "191110          None                NC04  ...    RALEIGH             NC02   \n",
              "191356           NaN                  MI  ...      DAVIS             CA04   \n",
              "191433          None                NC04  ...    Raleigh             NC02   \n",
              "191476          None                NC04  ...    RALEIGH             NC02   \n",
              "191543          None                IL02  ...     BOSTON             MA07   \n",
              "\n",
              "       perfStateCode                         primaryProgram           coPDPI  \\\n",
              "8                NaN                                    NaN              NaN   \n",
              "368              NaN                                    NaN  Ronald R Weedon   \n",
              "385              NaN                                    NaN   Gary D Kratzer   \n",
              "924               MD  490106 NSF, EDUCATION & HUMAN RESOURC   James H Nelson   \n",
              "993              NaN  490100 NSF RESEARCH & RELATED ACTIVIT              NaN   \n",
              "...              ...                                    ...              ...   \n",
              "191110            NC                                    NaN              NaN   \n",
              "191356            CA                                    NaN              NaN   \n",
              "191433            NC                                    NaN              NaN   \n",
              "191476            NC                                    NaN              NaN   \n",
              "191543            MA                                    NaN  Holly B Jimison   \n",
              "\n",
              "                    poName       poPhone  \\\n",
              "8                      NaN           NaN   \n",
              "368                    NaN           NaN   \n",
              "385                    NaN           NaN   \n",
              "924                    NaN           NaN   \n",
              "993                    NaN           NaN   \n",
              "...                    ...           ...   \n",
              "191110         Sankar Basu  7.032928e+09   \n",
              "191356  Soumaya Belmecheri  7.032929e+09   \n",
              "191433      Bruce Hamilton  7.032920e+09   \n",
              "191476       Bianca Garner  7.032928e+09   \n",
              "191543       Alastair Monk  7.032924e+09   \n",
              "\n",
              "                                      publicationResearch  \\\n",
              "8                                                     NaN   \n",
              "368                                                   NaN   \n",
              "385                                                   NaN   \n",
              "924                                                   NaN   \n",
              "993                                                   NaN   \n",
              "...                                                   ...   \n",
              "191110                                                NaN   \n",
              "191356  Macarewich, Sophia I. and Poulsen, Christopher...   \n",
              "191433                                                NaN   \n",
              "191476                                                NaN   \n",
              "191543                                                NaN   \n",
              "\n",
              "        publicationConference  \\\n",
              "8                         NaN   \n",
              "368                       NaN   \n",
              "385                       NaN   \n",
              "924                       NaN   \n",
              "993                       NaN   \n",
              "...                       ...   \n",
              "191110                    NaN   \n",
              "191356                    NaN   \n",
              "191433                    NaN   \n",
              "191476                    NaN   \n",
              "191543                    NaN   \n",
              "\n",
              "                                    projectOutComesReport  \n",
              "8                                                     NaN  \n",
              "368                                                   NaN  \n",
              "385                                                   NaN  \n",
              "924                                                   NaN  \n",
              "993                                                   NaN  \n",
              "...                                                   ...  \n",
              "191110                                                NaN  \n",
              "191356  Water resource use in the southwestern U.S. (h...  \n",
              "191433                                                NaN  \n",
              "191476                                                NaN  \n",
              "191543                                                NaN  \n",
              "\n",
              "[3773 rows x 52 columns]"
            ]
          },
          "execution_count": 6,
          "metadata": {},
          "output_type": "execute_result"
        }
      ],
      "source": [
        "nsf[nsf['awardeeCounty'].isna()]"
      ]
    },
    {
      "cell_type": "code",
      "execution_count": 7,
      "metadata": {},
      "outputs": [],
      "source": [
        "missing_NSF = nsf[nsf['awardeeCounty'].isna()].drop_duplicates(subset='awardee')\n",
        "missing_NSF.to_csv(base/ \"missing_NSF.csv\", index = False)\n"
      ]
    },
    {
      "attachments": {},
      "cell_type": "markdown",
      "metadata": {},
      "source": [
        "Code for filling the missing value should come here"
      ]
    },
    {
      "cell_type": "code",
      "execution_count": 10,
      "metadata": {},
      "outputs": [
        {
          "ename": "GeocoderUnavailable",
          "evalue": "HTTPSConnectionPool(host='nominatim.openstreetmap.org', port=443): Max retries exceeded with url: /search?q=123+Main+St%2C+New+York&format=json&limit=1 (Caused by ReadTimeoutError(\"HTTPSConnectionPool(host='nominatim.openstreetmap.org', port=443): Read timed out. (read timeout=1)\"))",
          "output_type": "error",
          "traceback": [
            "\u001b[1;31m---------------------------------------------------------------------------\u001b[0m",
            "\u001b[1;31mTimeoutError\u001b[0m                              Traceback (most recent call last)",
            "File \u001b[1;32mc:\\ProgramData\\Anaconda3\\envs\\tf211\\lib\\site-packages\\urllib3\\connectionpool.py:449\u001b[0m, in \u001b[0;36mHTTPConnectionPool._make_request\u001b[1;34m(self, conn, method, url, timeout, chunked, **httplib_request_kw)\u001b[0m\n\u001b[0;32m    445\u001b[0m         \u001b[39mexcept\u001b[39;00m \u001b[39mBaseException\u001b[39;00m \u001b[39mas\u001b[39;00m e:\n\u001b[0;32m    446\u001b[0m             \u001b[39m# Remove the TypeError from the exception chain in\u001b[39;00m\n\u001b[0;32m    447\u001b[0m             \u001b[39m# Python 3 (including for exceptions like SystemExit).\u001b[39;00m\n\u001b[0;32m    448\u001b[0m             \u001b[39m# Otherwise it looks like a bug in the code.\u001b[39;00m\n\u001b[1;32m--> 449\u001b[0m             six\u001b[39m.\u001b[39;49mraise_from(e, \u001b[39mNone\u001b[39;49;00m)\n\u001b[0;32m    450\u001b[0m \u001b[39mexcept\u001b[39;00m (SocketTimeout, BaseSSLError, SocketError) \u001b[39mas\u001b[39;00m e:\n",
            "File \u001b[1;32m<string>:3\u001b[0m, in \u001b[0;36mraise_from\u001b[1;34m(value, from_value)\u001b[0m\n",
            "File \u001b[1;32mc:\\ProgramData\\Anaconda3\\envs\\tf211\\lib\\site-packages\\urllib3\\connectionpool.py:444\u001b[0m, in \u001b[0;36mHTTPConnectionPool._make_request\u001b[1;34m(self, conn, method, url, timeout, chunked, **httplib_request_kw)\u001b[0m\n\u001b[0;32m    443\u001b[0m \u001b[39mtry\u001b[39;00m:\n\u001b[1;32m--> 444\u001b[0m     httplib_response \u001b[39m=\u001b[39m conn\u001b[39m.\u001b[39;49mgetresponse()\n\u001b[0;32m    445\u001b[0m \u001b[39mexcept\u001b[39;00m \u001b[39mBaseException\u001b[39;00m \u001b[39mas\u001b[39;00m e:\n\u001b[0;32m    446\u001b[0m     \u001b[39m# Remove the TypeError from the exception chain in\u001b[39;00m\n\u001b[0;32m    447\u001b[0m     \u001b[39m# Python 3 (including for exceptions like SystemExit).\u001b[39;00m\n\u001b[0;32m    448\u001b[0m     \u001b[39m# Otherwise it looks like a bug in the code.\u001b[39;00m\n",
            "File \u001b[1;32mc:\\ProgramData\\Anaconda3\\envs\\tf211\\lib\\http\\client.py:1368\u001b[0m, in \u001b[0;36mHTTPConnection.getresponse\u001b[1;34m(self)\u001b[0m\n\u001b[0;32m   1367\u001b[0m \u001b[39mtry\u001b[39;00m:\n\u001b[1;32m-> 1368\u001b[0m     response\u001b[39m.\u001b[39;49mbegin()\n\u001b[0;32m   1369\u001b[0m \u001b[39mexcept\u001b[39;00m \u001b[39mConnectionError\u001b[39;00m:\n",
            "File \u001b[1;32mc:\\ProgramData\\Anaconda3\\envs\\tf211\\lib\\http\\client.py:317\u001b[0m, in \u001b[0;36mHTTPResponse.begin\u001b[1;34m(self)\u001b[0m\n\u001b[0;32m    316\u001b[0m \u001b[39mwhile\u001b[39;00m \u001b[39mTrue\u001b[39;00m:\n\u001b[1;32m--> 317\u001b[0m     version, status, reason \u001b[39m=\u001b[39m \u001b[39mself\u001b[39;49m\u001b[39m.\u001b[39;49m_read_status()\n\u001b[0;32m    318\u001b[0m     \u001b[39mif\u001b[39;00m status \u001b[39m!=\u001b[39m CONTINUE:\n",
            "File \u001b[1;32mc:\\ProgramData\\Anaconda3\\envs\\tf211\\lib\\http\\client.py:278\u001b[0m, in \u001b[0;36mHTTPResponse._read_status\u001b[1;34m(self)\u001b[0m\n\u001b[0;32m    277\u001b[0m \u001b[39mdef\u001b[39;00m \u001b[39m_read_status\u001b[39m(\u001b[39mself\u001b[39m):\n\u001b[1;32m--> 278\u001b[0m     line \u001b[39m=\u001b[39m \u001b[39mstr\u001b[39m(\u001b[39mself\u001b[39;49m\u001b[39m.\u001b[39;49mfp\u001b[39m.\u001b[39;49mreadline(_MAXLINE \u001b[39m+\u001b[39;49m \u001b[39m1\u001b[39;49m), \u001b[39m\"\u001b[39m\u001b[39miso-8859-1\u001b[39m\u001b[39m\"\u001b[39m)\n\u001b[0;32m    279\u001b[0m     \u001b[39mif\u001b[39;00m \u001b[39mlen\u001b[39m(line) \u001b[39m>\u001b[39m _MAXLINE:\n",
            "File \u001b[1;32mc:\\ProgramData\\Anaconda3\\envs\\tf211\\lib\\socket.py:705\u001b[0m, in \u001b[0;36mSocketIO.readinto\u001b[1;34m(self, b)\u001b[0m\n\u001b[0;32m    704\u001b[0m \u001b[39mtry\u001b[39;00m:\n\u001b[1;32m--> 705\u001b[0m     \u001b[39mreturn\u001b[39;00m \u001b[39mself\u001b[39;49m\u001b[39m.\u001b[39;49m_sock\u001b[39m.\u001b[39;49mrecv_into(b)\n\u001b[0;32m    706\u001b[0m \u001b[39mexcept\u001b[39;00m timeout:\n",
            "File \u001b[1;32mc:\\ProgramData\\Anaconda3\\envs\\tf211\\lib\\ssl.py:1273\u001b[0m, in \u001b[0;36mSSLSocket.recv_into\u001b[1;34m(self, buffer, nbytes, flags)\u001b[0m\n\u001b[0;32m   1270\u001b[0m         \u001b[39mraise\u001b[39;00m \u001b[39mValueError\u001b[39;00m(\n\u001b[0;32m   1271\u001b[0m           \u001b[39m\"\u001b[39m\u001b[39mnon-zero flags not allowed in calls to recv_into() on \u001b[39m\u001b[39m%s\u001b[39;00m\u001b[39m\"\u001b[39m \u001b[39m%\u001b[39m\n\u001b[0;32m   1272\u001b[0m           \u001b[39mself\u001b[39m\u001b[39m.\u001b[39m\u001b[39m__class__\u001b[39m)\n\u001b[1;32m-> 1273\u001b[0m     \u001b[39mreturn\u001b[39;00m \u001b[39mself\u001b[39;49m\u001b[39m.\u001b[39;49mread(nbytes, buffer)\n\u001b[0;32m   1274\u001b[0m \u001b[39melse\u001b[39;00m:\n",
            "File \u001b[1;32mc:\\ProgramData\\Anaconda3\\envs\\tf211\\lib\\ssl.py:1129\u001b[0m, in \u001b[0;36mSSLSocket.read\u001b[1;34m(self, len, buffer)\u001b[0m\n\u001b[0;32m   1128\u001b[0m \u001b[39mif\u001b[39;00m buffer \u001b[39mis\u001b[39;00m \u001b[39mnot\u001b[39;00m \u001b[39mNone\u001b[39;00m:\n\u001b[1;32m-> 1129\u001b[0m     \u001b[39mreturn\u001b[39;00m \u001b[39mself\u001b[39;49m\u001b[39m.\u001b[39;49m_sslobj\u001b[39m.\u001b[39;49mread(\u001b[39mlen\u001b[39;49m, buffer)\n\u001b[0;32m   1130\u001b[0m \u001b[39melse\u001b[39;00m:\n",
            "\u001b[1;31mTimeoutError\u001b[0m: The read operation timed out",
            "\nDuring handling of the above exception, another exception occurred:\n",
            "\u001b[1;31mReadTimeoutError\u001b[0m                          Traceback (most recent call last)",
            "File \u001b[1;32mc:\\ProgramData\\Anaconda3\\envs\\tf211\\lib\\site-packages\\urllib3\\connectionpool.py:703\u001b[0m, in \u001b[0;36mHTTPConnectionPool.urlopen\u001b[1;34m(self, method, url, body, headers, retries, redirect, assert_same_host, timeout, pool_timeout, release_conn, chunked, body_pos, **response_kw)\u001b[0m\n\u001b[0;32m    702\u001b[0m \u001b[39m# Make the request on the httplib connection object.\u001b[39;00m\n\u001b[1;32m--> 703\u001b[0m httplib_response \u001b[39m=\u001b[39m \u001b[39mself\u001b[39;49m\u001b[39m.\u001b[39;49m_make_request(\n\u001b[0;32m    704\u001b[0m     conn,\n\u001b[0;32m    705\u001b[0m     method,\n\u001b[0;32m    706\u001b[0m     url,\n\u001b[0;32m    707\u001b[0m     timeout\u001b[39m=\u001b[39;49mtimeout_obj,\n\u001b[0;32m    708\u001b[0m     body\u001b[39m=\u001b[39;49mbody,\n\u001b[0;32m    709\u001b[0m     headers\u001b[39m=\u001b[39;49mheaders,\n\u001b[0;32m    710\u001b[0m     chunked\u001b[39m=\u001b[39;49mchunked,\n\u001b[0;32m    711\u001b[0m )\n\u001b[0;32m    713\u001b[0m \u001b[39m# If we're going to release the connection in ``finally:``, then\u001b[39;00m\n\u001b[0;32m    714\u001b[0m \u001b[39m# the response doesn't need to know about the connection. Otherwise\u001b[39;00m\n\u001b[0;32m    715\u001b[0m \u001b[39m# it will also try to release it and we'll have a double-release\u001b[39;00m\n\u001b[0;32m    716\u001b[0m \u001b[39m# mess.\u001b[39;00m\n",
            "File \u001b[1;32mc:\\ProgramData\\Anaconda3\\envs\\tf211\\lib\\site-packages\\urllib3\\connectionpool.py:451\u001b[0m, in \u001b[0;36mHTTPConnectionPool._make_request\u001b[1;34m(self, conn, method, url, timeout, chunked, **httplib_request_kw)\u001b[0m\n\u001b[0;32m    450\u001b[0m \u001b[39mexcept\u001b[39;00m (SocketTimeout, BaseSSLError, SocketError) \u001b[39mas\u001b[39;00m e:\n\u001b[1;32m--> 451\u001b[0m     \u001b[39mself\u001b[39;49m\u001b[39m.\u001b[39;49m_raise_timeout(err\u001b[39m=\u001b[39;49me, url\u001b[39m=\u001b[39;49murl, timeout_value\u001b[39m=\u001b[39;49mread_timeout)\n\u001b[0;32m    452\u001b[0m     \u001b[39mraise\u001b[39;00m\n",
            "File \u001b[1;32mc:\\ProgramData\\Anaconda3\\envs\\tf211\\lib\\site-packages\\urllib3\\connectionpool.py:340\u001b[0m, in \u001b[0;36mHTTPConnectionPool._raise_timeout\u001b[1;34m(self, err, url, timeout_value)\u001b[0m\n\u001b[0;32m    339\u001b[0m \u001b[39mif\u001b[39;00m \u001b[39misinstance\u001b[39m(err, SocketTimeout):\n\u001b[1;32m--> 340\u001b[0m     \u001b[39mraise\u001b[39;00m ReadTimeoutError(\n\u001b[0;32m    341\u001b[0m         \u001b[39mself\u001b[39m, url, \u001b[39m\"\u001b[39m\u001b[39mRead timed out. (read timeout=\u001b[39m\u001b[39m%s\u001b[39;00m\u001b[39m)\u001b[39m\u001b[39m\"\u001b[39m \u001b[39m%\u001b[39m timeout_value\n\u001b[0;32m    342\u001b[0m     )\n\u001b[0;32m    344\u001b[0m \u001b[39m# See the above comment about EAGAIN in Python 3. In Python 2 we have\u001b[39;00m\n\u001b[0;32m    345\u001b[0m \u001b[39m# to specifically catch it and throw the timeout error\u001b[39;00m\n",
            "\u001b[1;31mReadTimeoutError\u001b[0m: HTTPSConnectionPool(host='nominatim.openstreetmap.org', port=443): Read timed out. (read timeout=1)",
            "\nDuring handling of the above exception, another exception occurred:\n",
            "\u001b[1;31mMaxRetryError\u001b[0m                             Traceback (most recent call last)",
            "File \u001b[1;32mc:\\ProgramData\\Anaconda3\\envs\\tf211\\lib\\site-packages\\requests\\adapters.py:489\u001b[0m, in \u001b[0;36mHTTPAdapter.send\u001b[1;34m(self, request, stream, timeout, verify, cert, proxies)\u001b[0m\n\u001b[0;32m    488\u001b[0m \u001b[39mif\u001b[39;00m \u001b[39mnot\u001b[39;00m chunked:\n\u001b[1;32m--> 489\u001b[0m     resp \u001b[39m=\u001b[39m conn\u001b[39m.\u001b[39;49murlopen(\n\u001b[0;32m    490\u001b[0m         method\u001b[39m=\u001b[39;49mrequest\u001b[39m.\u001b[39;49mmethod,\n\u001b[0;32m    491\u001b[0m         url\u001b[39m=\u001b[39;49murl,\n\u001b[0;32m    492\u001b[0m         body\u001b[39m=\u001b[39;49mrequest\u001b[39m.\u001b[39;49mbody,\n\u001b[0;32m    493\u001b[0m         headers\u001b[39m=\u001b[39;49mrequest\u001b[39m.\u001b[39;49mheaders,\n\u001b[0;32m    494\u001b[0m         redirect\u001b[39m=\u001b[39;49m\u001b[39mFalse\u001b[39;49;00m,\n\u001b[0;32m    495\u001b[0m         assert_same_host\u001b[39m=\u001b[39;49m\u001b[39mFalse\u001b[39;49;00m,\n\u001b[0;32m    496\u001b[0m         preload_content\u001b[39m=\u001b[39;49m\u001b[39mFalse\u001b[39;49;00m,\n\u001b[0;32m    497\u001b[0m         decode_content\u001b[39m=\u001b[39;49m\u001b[39mFalse\u001b[39;49;00m,\n\u001b[0;32m    498\u001b[0m         retries\u001b[39m=\u001b[39;49m\u001b[39mself\u001b[39;49m\u001b[39m.\u001b[39;49mmax_retries,\n\u001b[0;32m    499\u001b[0m         timeout\u001b[39m=\u001b[39;49mtimeout,\n\u001b[0;32m    500\u001b[0m     )\n\u001b[0;32m    502\u001b[0m \u001b[39m# Send the request.\u001b[39;00m\n\u001b[0;32m    503\u001b[0m \u001b[39melse\u001b[39;00m:\n",
            "File \u001b[1;32mc:\\ProgramData\\Anaconda3\\envs\\tf211\\lib\\site-packages\\urllib3\\connectionpool.py:815\u001b[0m, in \u001b[0;36mHTTPConnectionPool.urlopen\u001b[1;34m(self, method, url, body, headers, retries, redirect, assert_same_host, timeout, pool_timeout, release_conn, chunked, body_pos, **response_kw)\u001b[0m\n\u001b[0;32m    812\u001b[0m     log\u001b[39m.\u001b[39mwarning(\n\u001b[0;32m    813\u001b[0m         \u001b[39m\"\u001b[39m\u001b[39mRetrying (\u001b[39m\u001b[39m%r\u001b[39;00m\u001b[39m) after connection broken by \u001b[39m\u001b[39m'\u001b[39m\u001b[39m%r\u001b[39;00m\u001b[39m'\u001b[39m\u001b[39m: \u001b[39m\u001b[39m%s\u001b[39;00m\u001b[39m\"\u001b[39m, retries, err, url\n\u001b[0;32m    814\u001b[0m     )\n\u001b[1;32m--> 815\u001b[0m     \u001b[39mreturn\u001b[39;00m \u001b[39mself\u001b[39m\u001b[39m.\u001b[39murlopen(\n\u001b[0;32m    816\u001b[0m         method,\n\u001b[0;32m    817\u001b[0m         url,\n\u001b[0;32m    818\u001b[0m         body,\n\u001b[0;32m    819\u001b[0m         headers,\n\u001b[0;32m    820\u001b[0m         retries,\n\u001b[0;32m    821\u001b[0m         redirect,\n\u001b[0;32m    822\u001b[0m         assert_same_host,\n\u001b[0;32m    823\u001b[0m         timeout\u001b[39m=\u001b[39mtimeout,\n\u001b[0;32m    824\u001b[0m         pool_timeout\u001b[39m=\u001b[39mpool_timeout,\n\u001b[0;32m    825\u001b[0m         release_conn\u001b[39m=\u001b[39mrelease_conn,\n\u001b[0;32m    826\u001b[0m         chunked\u001b[39m=\u001b[39mchunked,\n\u001b[0;32m    827\u001b[0m         body_pos\u001b[39m=\u001b[39mbody_pos,\n\u001b[0;32m    828\u001b[0m         \u001b[39m*\u001b[39m\u001b[39m*\u001b[39mresponse_kw\n\u001b[0;32m    829\u001b[0m     )\n\u001b[0;32m    831\u001b[0m \u001b[39m# Handle redirect?\u001b[39;00m\n",
            "File \u001b[1;32mc:\\ProgramData\\Anaconda3\\envs\\tf211\\lib\\site-packages\\urllib3\\connectionpool.py:815\u001b[0m, in \u001b[0;36mHTTPConnectionPool.urlopen\u001b[1;34m(self, method, url, body, headers, retries, redirect, assert_same_host, timeout, pool_timeout, release_conn, chunked, body_pos, **response_kw)\u001b[0m\n\u001b[0;32m    812\u001b[0m     log\u001b[39m.\u001b[39mwarning(\n\u001b[0;32m    813\u001b[0m         \u001b[39m\"\u001b[39m\u001b[39mRetrying (\u001b[39m\u001b[39m%r\u001b[39;00m\u001b[39m) after connection broken by \u001b[39m\u001b[39m'\u001b[39m\u001b[39m%r\u001b[39;00m\u001b[39m'\u001b[39m\u001b[39m: \u001b[39m\u001b[39m%s\u001b[39;00m\u001b[39m\"\u001b[39m, retries, err, url\n\u001b[0;32m    814\u001b[0m     )\n\u001b[1;32m--> 815\u001b[0m     \u001b[39mreturn\u001b[39;00m \u001b[39mself\u001b[39m\u001b[39m.\u001b[39murlopen(\n\u001b[0;32m    816\u001b[0m         method,\n\u001b[0;32m    817\u001b[0m         url,\n\u001b[0;32m    818\u001b[0m         body,\n\u001b[0;32m    819\u001b[0m         headers,\n\u001b[0;32m    820\u001b[0m         retries,\n\u001b[0;32m    821\u001b[0m         redirect,\n\u001b[0;32m    822\u001b[0m         assert_same_host,\n\u001b[0;32m    823\u001b[0m         timeout\u001b[39m=\u001b[39mtimeout,\n\u001b[0;32m    824\u001b[0m         pool_timeout\u001b[39m=\u001b[39mpool_timeout,\n\u001b[0;32m    825\u001b[0m         release_conn\u001b[39m=\u001b[39mrelease_conn,\n\u001b[0;32m    826\u001b[0m         chunked\u001b[39m=\u001b[39mchunked,\n\u001b[0;32m    827\u001b[0m         body_pos\u001b[39m=\u001b[39mbody_pos,\n\u001b[0;32m    828\u001b[0m         \u001b[39m*\u001b[39m\u001b[39m*\u001b[39mresponse_kw\n\u001b[0;32m    829\u001b[0m     )\n\u001b[0;32m    831\u001b[0m \u001b[39m# Handle redirect?\u001b[39;00m\n",
            "File \u001b[1;32mc:\\ProgramData\\Anaconda3\\envs\\tf211\\lib\\site-packages\\urllib3\\connectionpool.py:787\u001b[0m, in \u001b[0;36mHTTPConnectionPool.urlopen\u001b[1;34m(self, method, url, body, headers, retries, redirect, assert_same_host, timeout, pool_timeout, release_conn, chunked, body_pos, **response_kw)\u001b[0m\n\u001b[0;32m    785\u001b[0m     e \u001b[39m=\u001b[39m ProtocolError(\u001b[39m\"\u001b[39m\u001b[39mConnection aborted.\u001b[39m\u001b[39m\"\u001b[39m, e)\n\u001b[1;32m--> 787\u001b[0m retries \u001b[39m=\u001b[39m retries\u001b[39m.\u001b[39;49mincrement(\n\u001b[0;32m    788\u001b[0m     method, url, error\u001b[39m=\u001b[39;49me, _pool\u001b[39m=\u001b[39;49m\u001b[39mself\u001b[39;49m, _stacktrace\u001b[39m=\u001b[39;49msys\u001b[39m.\u001b[39;49mexc_info()[\u001b[39m2\u001b[39;49m]\n\u001b[0;32m    789\u001b[0m )\n\u001b[0;32m    790\u001b[0m retries\u001b[39m.\u001b[39msleep()\n",
            "File \u001b[1;32mc:\\ProgramData\\Anaconda3\\envs\\tf211\\lib\\site-packages\\urllib3\\util\\retry.py:592\u001b[0m, in \u001b[0;36mRetry.increment\u001b[1;34m(self, method, url, response, error, _pool, _stacktrace)\u001b[0m\n\u001b[0;32m    591\u001b[0m \u001b[39mif\u001b[39;00m new_retry\u001b[39m.\u001b[39mis_exhausted():\n\u001b[1;32m--> 592\u001b[0m     \u001b[39mraise\u001b[39;00m MaxRetryError(_pool, url, error \u001b[39mor\u001b[39;00m ResponseError(cause))\n\u001b[0;32m    594\u001b[0m log\u001b[39m.\u001b[39mdebug(\u001b[39m\"\u001b[39m\u001b[39mIncremented Retry for (url=\u001b[39m\u001b[39m'\u001b[39m\u001b[39m%s\u001b[39;00m\u001b[39m'\u001b[39m\u001b[39m): \u001b[39m\u001b[39m%r\u001b[39;00m\u001b[39m\"\u001b[39m, url, new_retry)\n",
            "\u001b[1;31mMaxRetryError\u001b[0m: HTTPSConnectionPool(host='nominatim.openstreetmap.org', port=443): Max retries exceeded with url: /search?q=123+Main+St%2C+New+York&format=json&limit=1 (Caused by ReadTimeoutError(\"HTTPSConnectionPool(host='nominatim.openstreetmap.org', port=443): Read timed out. (read timeout=1)\"))",
            "\nDuring handling of the above exception, another exception occurred:\n",
            "\u001b[1;31mConnectionError\u001b[0m                           Traceback (most recent call last)",
            "File \u001b[1;32m~\\AppData\\Roaming\\Python\\Python310\\site-packages\\geopy\\adapters.py:457\u001b[0m, in \u001b[0;36mRequestsAdapter._request\u001b[1;34m(self, url, timeout, headers)\u001b[0m\n\u001b[0;32m    456\u001b[0m \u001b[39mtry\u001b[39;00m:\n\u001b[1;32m--> 457\u001b[0m     resp \u001b[39m=\u001b[39m \u001b[39mself\u001b[39;49m\u001b[39m.\u001b[39;49msession\u001b[39m.\u001b[39;49mget(url, timeout\u001b[39m=\u001b[39;49mtimeout, headers\u001b[39m=\u001b[39;49mheaders)\n\u001b[0;32m    458\u001b[0m \u001b[39mexcept\u001b[39;00m \u001b[39mException\u001b[39;00m \u001b[39mas\u001b[39;00m error:\n",
            "File \u001b[1;32mc:\\ProgramData\\Anaconda3\\envs\\tf211\\lib\\site-packages\\requests\\sessions.py:600\u001b[0m, in \u001b[0;36mSession.get\u001b[1;34m(self, url, **kwargs)\u001b[0m\n\u001b[0;32m    599\u001b[0m kwargs\u001b[39m.\u001b[39msetdefault(\u001b[39m\"\u001b[39m\u001b[39mallow_redirects\u001b[39m\u001b[39m\"\u001b[39m, \u001b[39mTrue\u001b[39;00m)\n\u001b[1;32m--> 600\u001b[0m \u001b[39mreturn\u001b[39;00m \u001b[39mself\u001b[39m\u001b[39m.\u001b[39mrequest(\u001b[39m\"\u001b[39m\u001b[39mGET\u001b[39m\u001b[39m\"\u001b[39m, url, \u001b[39m*\u001b[39m\u001b[39m*\u001b[39mkwargs)\n",
            "File \u001b[1;32mc:\\ProgramData\\Anaconda3\\envs\\tf211\\lib\\site-packages\\requests\\sessions.py:587\u001b[0m, in \u001b[0;36mSession.request\u001b[1;34m(self, method, url, params, data, headers, cookies, files, auth, timeout, allow_redirects, proxies, hooks, stream, verify, cert, json)\u001b[0m\n\u001b[0;32m    586\u001b[0m send_kwargs\u001b[39m.\u001b[39mupdate(settings)\n\u001b[1;32m--> 587\u001b[0m resp \u001b[39m=\u001b[39m \u001b[39mself\u001b[39m\u001b[39m.\u001b[39msend(prep, \u001b[39m*\u001b[39m\u001b[39m*\u001b[39msend_kwargs)\n\u001b[0;32m    589\u001b[0m \u001b[39mreturn\u001b[39;00m resp\n",
            "File \u001b[1;32mc:\\ProgramData\\Anaconda3\\envs\\tf211\\lib\\site-packages\\requests\\sessions.py:701\u001b[0m, in \u001b[0;36mSession.send\u001b[1;34m(self, request, **kwargs)\u001b[0m\n\u001b[0;32m    700\u001b[0m \u001b[39m# Send the request\u001b[39;00m\n\u001b[1;32m--> 701\u001b[0m r \u001b[39m=\u001b[39m adapter\u001b[39m.\u001b[39msend(request, \u001b[39m*\u001b[39m\u001b[39m*\u001b[39mkwargs)\n\u001b[0;32m    703\u001b[0m \u001b[39m# Total elapsed time of the request (approximately)\u001b[39;00m\n",
            "File \u001b[1;32mc:\\ProgramData\\Anaconda3\\envs\\tf211\\lib\\site-packages\\requests\\adapters.py:565\u001b[0m, in \u001b[0;36mHTTPAdapter.send\u001b[1;34m(self, request, stream, timeout, verify, cert, proxies)\u001b[0m\n\u001b[0;32m    563\u001b[0m         \u001b[39mraise\u001b[39;00m SSLError(e, request\u001b[39m=\u001b[39mrequest)\n\u001b[1;32m--> 565\u001b[0m     \u001b[39mraise\u001b[39;00m \u001b[39mConnectionError\u001b[39;00m(e, request\u001b[39m=\u001b[39mrequest)\n\u001b[0;32m    567\u001b[0m \u001b[39mexcept\u001b[39;00m ClosedPoolError \u001b[39mas\u001b[39;00m e:\n",
            "\u001b[1;31mConnectionError\u001b[0m: HTTPSConnectionPool(host='nominatim.openstreetmap.org', port=443): Max retries exceeded with url: /search?q=123+Main+St%2C+New+York&format=json&limit=1 (Caused by ReadTimeoutError(\"HTTPSConnectionPool(host='nominatim.openstreetmap.org', port=443): Read timed out. (read timeout=1)\"))",
            "\nDuring handling of the above exception, another exception occurred:\n",
            "\u001b[1;31mGeocoderUnavailable\u001b[0m                       Traceback (most recent call last)",
            "Cell \u001b[1;32mIn[10], line 24\u001b[0m\n\u001b[0;32m     21\u001b[0m         \u001b[39mreturn\u001b[39;00m get_county(row)\n\u001b[0;32m     22\u001b[0m     \u001b[39mreturn\u001b[39;00m \u001b[39mNone\u001b[39;00m\n\u001b[1;32m---> 24\u001b[0m df[\u001b[39m'\u001b[39m\u001b[39mCounty\u001b[39m\u001b[39m'\u001b[39m] \u001b[39m=\u001b[39m df\u001b[39m.\u001b[39;49mapply(get_county, axis\u001b[39m=\u001b[39;49m\u001b[39m1\u001b[39;49m)\n\u001b[0;32m     25\u001b[0m \u001b[39mprint\u001b[39m(df)\n",
            "File \u001b[1;32m~\\AppData\\Roaming\\Python\\Python310\\site-packages\\pandas\\core\\frame.py:9568\u001b[0m, in \u001b[0;36mDataFrame.apply\u001b[1;34m(self, func, axis, raw, result_type, args, **kwargs)\u001b[0m\n\u001b[0;32m   9557\u001b[0m \u001b[39mfrom\u001b[39;00m \u001b[39mpandas\u001b[39;00m\u001b[39m.\u001b[39;00m\u001b[39mcore\u001b[39;00m\u001b[39m.\u001b[39;00m\u001b[39mapply\u001b[39;00m \u001b[39mimport\u001b[39;00m frame_apply\n\u001b[0;32m   9559\u001b[0m op \u001b[39m=\u001b[39m frame_apply(\n\u001b[0;32m   9560\u001b[0m     \u001b[39mself\u001b[39m,\n\u001b[0;32m   9561\u001b[0m     func\u001b[39m=\u001b[39mfunc,\n\u001b[1;32m   (...)\u001b[0m\n\u001b[0;32m   9566\u001b[0m     kwargs\u001b[39m=\u001b[39mkwargs,\n\u001b[0;32m   9567\u001b[0m )\n\u001b[1;32m-> 9568\u001b[0m \u001b[39mreturn\u001b[39;00m op\u001b[39m.\u001b[39;49mapply()\u001b[39m.\u001b[39m__finalize__(\u001b[39mself\u001b[39m, method\u001b[39m=\u001b[39m\u001b[39m\"\u001b[39m\u001b[39mapply\u001b[39m\u001b[39m\"\u001b[39m)\n",
            "File \u001b[1;32m~\\AppData\\Roaming\\Python\\Python310\\site-packages\\pandas\\core\\apply.py:764\u001b[0m, in \u001b[0;36mFrameApply.apply\u001b[1;34m(self)\u001b[0m\n\u001b[0;32m    761\u001b[0m \u001b[39melif\u001b[39;00m \u001b[39mself\u001b[39m\u001b[39m.\u001b[39mraw:\n\u001b[0;32m    762\u001b[0m     \u001b[39mreturn\u001b[39;00m \u001b[39mself\u001b[39m\u001b[39m.\u001b[39mapply_raw()\n\u001b[1;32m--> 764\u001b[0m \u001b[39mreturn\u001b[39;00m \u001b[39mself\u001b[39;49m\u001b[39m.\u001b[39;49mapply_standard()\n",
            "File \u001b[1;32m~\\AppData\\Roaming\\Python\\Python310\\site-packages\\pandas\\core\\apply.py:891\u001b[0m, in \u001b[0;36mFrameApply.apply_standard\u001b[1;34m(self)\u001b[0m\n\u001b[0;32m    890\u001b[0m \u001b[39mdef\u001b[39;00m \u001b[39mapply_standard\u001b[39m(\u001b[39mself\u001b[39m):\n\u001b[1;32m--> 891\u001b[0m     results, res_index \u001b[39m=\u001b[39m \u001b[39mself\u001b[39;49m\u001b[39m.\u001b[39;49mapply_series_generator()\n\u001b[0;32m    893\u001b[0m     \u001b[39m# wrap results\u001b[39;00m\n\u001b[0;32m    894\u001b[0m     \u001b[39mreturn\u001b[39;00m \u001b[39mself\u001b[39m\u001b[39m.\u001b[39mwrap_results(results, res_index)\n",
            "File \u001b[1;32m~\\AppData\\Roaming\\Python\\Python310\\site-packages\\pandas\\core\\apply.py:907\u001b[0m, in \u001b[0;36mFrameApply.apply_series_generator\u001b[1;34m(self)\u001b[0m\n\u001b[0;32m    904\u001b[0m \u001b[39mwith\u001b[39;00m option_context(\u001b[39m\"\u001b[39m\u001b[39mmode.chained_assignment\u001b[39m\u001b[39m\"\u001b[39m, \u001b[39mNone\u001b[39;00m):\n\u001b[0;32m    905\u001b[0m     \u001b[39mfor\u001b[39;00m i, v \u001b[39min\u001b[39;00m \u001b[39menumerate\u001b[39m(series_gen):\n\u001b[0;32m    906\u001b[0m         \u001b[39m# ignore SettingWithCopy here in case the user mutates\u001b[39;00m\n\u001b[1;32m--> 907\u001b[0m         results[i] \u001b[39m=\u001b[39m \u001b[39mself\u001b[39;49m\u001b[39m.\u001b[39;49mf(v)\n\u001b[0;32m    908\u001b[0m         \u001b[39mif\u001b[39;00m \u001b[39misinstance\u001b[39m(results[i], ABCSeries):\n\u001b[0;32m    909\u001b[0m             \u001b[39m# If we have a view on v, we need to make a copy because\u001b[39;00m\n\u001b[0;32m    910\u001b[0m             \u001b[39m#  series_generator will swap out the underlying data\u001b[39;00m\n\u001b[0;32m    911\u001b[0m             results[i] \u001b[39m=\u001b[39m results[i]\u001b[39m.\u001b[39mcopy(deep\u001b[39m=\u001b[39m\u001b[39mFalse\u001b[39;00m)\n",
            "Cell \u001b[1;32mIn[10], line 17\u001b[0m, in \u001b[0;36mget_county\u001b[1;34m(row)\u001b[0m\n\u001b[0;32m     15\u001b[0m \u001b[39mdef\u001b[39;00m \u001b[39mget_county\u001b[39m(row):\n\u001b[0;32m     16\u001b[0m     \u001b[39mtry\u001b[39;00m:\n\u001b[1;32m---> 17\u001b[0m         location \u001b[39m=\u001b[39m geolocator\u001b[39m.\u001b[39;49mgeocode(row[\u001b[39m'\u001b[39;49m\u001b[39mAddress\u001b[39;49m\u001b[39m'\u001b[39;49m] \u001b[39m+\u001b[39;49m \u001b[39m'\u001b[39;49m\u001b[39m, \u001b[39;49m\u001b[39m'\u001b[39;49m \u001b[39m+\u001b[39;49m row[\u001b[39m'\u001b[39;49m\u001b[39mCity\u001b[39;49m\u001b[39m'\u001b[39;49m])\n\u001b[0;32m     18\u001b[0m         \u001b[39mif\u001b[39;00m location:\n\u001b[0;32m     19\u001b[0m             \u001b[39mreturn\u001b[39;00m location\u001b[39m.\u001b[39mraw[\u001b[39m'\u001b[39m\u001b[39maddress\u001b[39m\u001b[39m'\u001b[39m]\u001b[39m.\u001b[39mget(\u001b[39m'\u001b[39m\u001b[39mcounty\u001b[39m\u001b[39m'\u001b[39m)\n",
            "File \u001b[1;32m~\\AppData\\Roaming\\Python\\Python310\\site-packages\\geopy\\geocoders\\nominatim.py:297\u001b[0m, in \u001b[0;36mNominatim.geocode\u001b[1;34m(self, query, exactly_one, timeout, limit, addressdetails, language, geometry, extratags, country_codes, viewbox, bounded, featuretype, namedetails)\u001b[0m\n\u001b[0;32m    295\u001b[0m logger\u001b[39m.\u001b[39mdebug(\u001b[39m\"\u001b[39m\u001b[39m%s\u001b[39;00m\u001b[39m.geocode: \u001b[39m\u001b[39m%s\u001b[39;00m\u001b[39m\"\u001b[39m, \u001b[39mself\u001b[39m\u001b[39m.\u001b[39m\u001b[39m__class__\u001b[39m\u001b[39m.\u001b[39m\u001b[39m__name__\u001b[39m, url)\n\u001b[0;32m    296\u001b[0m callback \u001b[39m=\u001b[39m partial(\u001b[39mself\u001b[39m\u001b[39m.\u001b[39m_parse_json, exactly_one\u001b[39m=\u001b[39mexactly_one)\n\u001b[1;32m--> 297\u001b[0m \u001b[39mreturn\u001b[39;00m \u001b[39mself\u001b[39;49m\u001b[39m.\u001b[39;49m_call_geocoder(url, callback, timeout\u001b[39m=\u001b[39;49mtimeout)\n",
            "File \u001b[1;32m~\\AppData\\Roaming\\Python\\Python310\\site-packages\\geopy\\geocoders\\base.py:368\u001b[0m, in \u001b[0;36mGeocoder._call_geocoder\u001b[1;34m(self, url, callback, timeout, is_json, headers)\u001b[0m\n\u001b[0;32m    366\u001b[0m \u001b[39mtry\u001b[39;00m:\n\u001b[0;32m    367\u001b[0m     \u001b[39mif\u001b[39;00m is_json:\n\u001b[1;32m--> 368\u001b[0m         result \u001b[39m=\u001b[39m \u001b[39mself\u001b[39;49m\u001b[39m.\u001b[39;49madapter\u001b[39m.\u001b[39;49mget_json(url, timeout\u001b[39m=\u001b[39;49mtimeout, headers\u001b[39m=\u001b[39;49mreq_headers)\n\u001b[0;32m    369\u001b[0m     \u001b[39melse\u001b[39;00m:\n\u001b[0;32m    370\u001b[0m         result \u001b[39m=\u001b[39m \u001b[39mself\u001b[39m\u001b[39m.\u001b[39madapter\u001b[39m.\u001b[39mget_text(url, timeout\u001b[39m=\u001b[39mtimeout, headers\u001b[39m=\u001b[39mreq_headers)\n",
            "File \u001b[1;32m~\\AppData\\Roaming\\Python\\Python310\\site-packages\\geopy\\adapters.py:447\u001b[0m, in \u001b[0;36mRequestsAdapter.get_json\u001b[1;34m(self, url, timeout, headers)\u001b[0m\n\u001b[0;32m    446\u001b[0m \u001b[39mdef\u001b[39;00m \u001b[39mget_json\u001b[39m(\u001b[39mself\u001b[39m, url, \u001b[39m*\u001b[39m, timeout, headers):\n\u001b[1;32m--> 447\u001b[0m     resp \u001b[39m=\u001b[39m \u001b[39mself\u001b[39;49m\u001b[39m.\u001b[39;49m_request(url, timeout\u001b[39m=\u001b[39;49mtimeout, headers\u001b[39m=\u001b[39;49mheaders)\n\u001b[0;32m    448\u001b[0m     \u001b[39mtry\u001b[39;00m:\n\u001b[0;32m    449\u001b[0m         \u001b[39mreturn\u001b[39;00m resp\u001b[39m.\u001b[39mjson()\n",
            "File \u001b[1;32m~\\AppData\\Roaming\\Python\\Python310\\site-packages\\geopy\\adapters.py:469\u001b[0m, in \u001b[0;36mRequestsAdapter._request\u001b[1;34m(self, url, timeout, headers)\u001b[0m\n\u001b[0;32m    467\u001b[0m         \u001b[39mraise\u001b[39;00m GeocoderServiceError(message)\n\u001b[0;32m    468\u001b[0m     \u001b[39melse\u001b[39;00m:\n\u001b[1;32m--> 469\u001b[0m         \u001b[39mraise\u001b[39;00m GeocoderUnavailable(message)\n\u001b[0;32m    470\u001b[0m \u001b[39melif\u001b[39;00m \u001b[39misinstance\u001b[39m(error, requests\u001b[39m.\u001b[39mTimeout):\n\u001b[0;32m    471\u001b[0m     \u001b[39mraise\u001b[39;00m GeocoderTimedOut(\u001b[39m\"\u001b[39m\u001b[39mService timed out\u001b[39m\u001b[39m\"\u001b[39m)\n",
            "\u001b[1;31mGeocoderUnavailable\u001b[0m: HTTPSConnectionPool(host='nominatim.openstreetmap.org', port=443): Max retries exceeded with url: /search?q=123+Main+St%2C+New+York&format=json&limit=1 (Caused by ReadTimeoutError(\"HTTPSConnectionPool(host='nominatim.openstreetmap.org', port=443): Read timed out. (read timeout=1)\"))"
          ]
        }
      ],
      "source": [
        "#not working\n",
        "import pandas as pd\n",
        "from geopy.geocoders import Nominatim\n",
        "from geopy.exc import GeocoderTimedOut\n",
        "\n",
        "# Sample data\n",
        "data = {\n",
        "    'City': ['New York', 'Los Angeles'],\n",
        "    'Address': ['123 Main St', '456 Elm St']\n",
        "}\n",
        "df = pd.DataFrame(data)\n",
        "\n",
        "# Geocoding\n",
        "geolocator = Nominatim(user_agent='my_application')\n",
        "\n",
        "def get_county(row):\n",
        "    try:\n",
        "        location = geolocator.geocode(row['Address'] + ', ' + row['City'])\n",
        "        if location:\n",
        "            return location.raw['address'].get('county')\n",
        "    except GeocoderTimedOut:\n",
        "        return get_county(row)\n",
        "    return None\n",
        "\n",
        "df['County'] = df.apply(get_county, axis=1)\n",
        "print(df)\n",
        "\n"
      ]
    },
    {
      "cell_type": "code",
      "execution_count": null,
      "metadata": {},
      "outputs": [],
      "source": [
        "\n",
        "#Not working"
      ]
    },
    {
      "cell_type": "code",
      "execution_count": 13,
      "metadata": {},
      "outputs": [
        {
          "ename": "KeyError",
          "evalue": "'address'",
          "output_type": "error",
          "traceback": [
            "\u001b[1;31m---------------------------------------------------------------------------\u001b[0m",
            "\u001b[1;31mKeyError\u001b[0m                                  Traceback (most recent call last)",
            "Cell \u001b[1;32mIn[13], line 23\u001b[0m\n\u001b[0;32m     19\u001b[0m     \u001b[39melse\u001b[39;00m:\n\u001b[0;32m     20\u001b[0m         \u001b[39mreturn\u001b[39;00m \u001b[39mNone\u001b[39;00m\n\u001b[1;32m---> 23\u001b[0m df[\u001b[39m'\u001b[39m\u001b[39mCounty\u001b[39m\u001b[39m'\u001b[39m] \u001b[39m=\u001b[39m df\u001b[39m.\u001b[39;49mapply(get_county, axis\u001b[39m=\u001b[39;49m\u001b[39m1\u001b[39;49m)\n\u001b[0;32m     24\u001b[0m \u001b[39mprint\u001b[39m(df)\n",
            "File \u001b[1;32m~\\AppData\\Roaming\\Python\\Python310\\site-packages\\pandas\\core\\frame.py:9568\u001b[0m, in \u001b[0;36mDataFrame.apply\u001b[1;34m(self, func, axis, raw, result_type, args, **kwargs)\u001b[0m\n\u001b[0;32m   9557\u001b[0m \u001b[39mfrom\u001b[39;00m \u001b[39mpandas\u001b[39;00m\u001b[39m.\u001b[39;00m\u001b[39mcore\u001b[39;00m\u001b[39m.\u001b[39;00m\u001b[39mapply\u001b[39;00m \u001b[39mimport\u001b[39;00m frame_apply\n\u001b[0;32m   9559\u001b[0m op \u001b[39m=\u001b[39m frame_apply(\n\u001b[0;32m   9560\u001b[0m     \u001b[39mself\u001b[39m,\n\u001b[0;32m   9561\u001b[0m     func\u001b[39m=\u001b[39mfunc,\n\u001b[1;32m   (...)\u001b[0m\n\u001b[0;32m   9566\u001b[0m     kwargs\u001b[39m=\u001b[39mkwargs,\n\u001b[0;32m   9567\u001b[0m )\n\u001b[1;32m-> 9568\u001b[0m \u001b[39mreturn\u001b[39;00m op\u001b[39m.\u001b[39;49mapply()\u001b[39m.\u001b[39m__finalize__(\u001b[39mself\u001b[39m, method\u001b[39m=\u001b[39m\u001b[39m\"\u001b[39m\u001b[39mapply\u001b[39m\u001b[39m\"\u001b[39m)\n",
            "File \u001b[1;32m~\\AppData\\Roaming\\Python\\Python310\\site-packages\\pandas\\core\\apply.py:764\u001b[0m, in \u001b[0;36mFrameApply.apply\u001b[1;34m(self)\u001b[0m\n\u001b[0;32m    761\u001b[0m \u001b[39melif\u001b[39;00m \u001b[39mself\u001b[39m\u001b[39m.\u001b[39mraw:\n\u001b[0;32m    762\u001b[0m     \u001b[39mreturn\u001b[39;00m \u001b[39mself\u001b[39m\u001b[39m.\u001b[39mapply_raw()\n\u001b[1;32m--> 764\u001b[0m \u001b[39mreturn\u001b[39;00m \u001b[39mself\u001b[39;49m\u001b[39m.\u001b[39;49mapply_standard()\n",
            "File \u001b[1;32m~\\AppData\\Roaming\\Python\\Python310\\site-packages\\pandas\\core\\apply.py:891\u001b[0m, in \u001b[0;36mFrameApply.apply_standard\u001b[1;34m(self)\u001b[0m\n\u001b[0;32m    890\u001b[0m \u001b[39mdef\u001b[39;00m \u001b[39mapply_standard\u001b[39m(\u001b[39mself\u001b[39m):\n\u001b[1;32m--> 891\u001b[0m     results, res_index \u001b[39m=\u001b[39m \u001b[39mself\u001b[39;49m\u001b[39m.\u001b[39;49mapply_series_generator()\n\u001b[0;32m    893\u001b[0m     \u001b[39m# wrap results\u001b[39;00m\n\u001b[0;32m    894\u001b[0m     \u001b[39mreturn\u001b[39;00m \u001b[39mself\u001b[39m\u001b[39m.\u001b[39mwrap_results(results, res_index)\n",
            "File \u001b[1;32m~\\AppData\\Roaming\\Python\\Python310\\site-packages\\pandas\\core\\apply.py:907\u001b[0m, in \u001b[0;36mFrameApply.apply_series_generator\u001b[1;34m(self)\u001b[0m\n\u001b[0;32m    904\u001b[0m \u001b[39mwith\u001b[39;00m option_context(\u001b[39m\"\u001b[39m\u001b[39mmode.chained_assignment\u001b[39m\u001b[39m\"\u001b[39m, \u001b[39mNone\u001b[39;00m):\n\u001b[0;32m    905\u001b[0m     \u001b[39mfor\u001b[39;00m i, v \u001b[39min\u001b[39;00m \u001b[39menumerate\u001b[39m(series_gen):\n\u001b[0;32m    906\u001b[0m         \u001b[39m# ignore SettingWithCopy here in case the user mutates\u001b[39;00m\n\u001b[1;32m--> 907\u001b[0m         results[i] \u001b[39m=\u001b[39m \u001b[39mself\u001b[39;49m\u001b[39m.\u001b[39;49mf(v)\n\u001b[0;32m    908\u001b[0m         \u001b[39mif\u001b[39;00m \u001b[39misinstance\u001b[39m(results[i], ABCSeries):\n\u001b[0;32m    909\u001b[0m             \u001b[39m# If we have a view on v, we need to make a copy because\u001b[39;00m\n\u001b[0;32m    910\u001b[0m             \u001b[39m#  series_generator will swap out the underlying data\u001b[39;00m\n\u001b[0;32m    911\u001b[0m             results[i] \u001b[39m=\u001b[39m results[i]\u001b[39m.\u001b[39mcopy(deep\u001b[39m=\u001b[39m\u001b[39mFalse\u001b[39;00m)\n",
            "Cell \u001b[1;32mIn[13], line 17\u001b[0m, in \u001b[0;36mget_county\u001b[1;34m(row)\u001b[0m\n\u001b[0;32m     15\u001b[0m location \u001b[39m=\u001b[39m geolocator\u001b[39m.\u001b[39mgeocode(row[\u001b[39m'\u001b[39m\u001b[39mAddress\u001b[39m\u001b[39m'\u001b[39m] \u001b[39m+\u001b[39m \u001b[39m'\u001b[39m\u001b[39m, \u001b[39m\u001b[39m'\u001b[39m \u001b[39m+\u001b[39m row[\u001b[39m'\u001b[39m\u001b[39mCity\u001b[39m\u001b[39m'\u001b[39m])\n\u001b[0;32m     16\u001b[0m \u001b[39mif\u001b[39;00m location:\n\u001b[1;32m---> 17\u001b[0m     address \u001b[39m=\u001b[39m location\u001b[39m.\u001b[39;49mraw[\u001b[39m'\u001b[39;49m\u001b[39maddress\u001b[39;49m\u001b[39m'\u001b[39;49m]\n\u001b[0;32m     18\u001b[0m     \u001b[39mreturn\u001b[39;00m address\u001b[39m.\u001b[39mget(\u001b[39m'\u001b[39m\u001b[39mcounty\u001b[39m\u001b[39m'\u001b[39m)\n\u001b[0;32m     19\u001b[0m \u001b[39melse\u001b[39;00m:\n",
            "\u001b[1;31mKeyError\u001b[0m: 'address'"
          ]
        }
      ],
      "source": [
        "import pandas as pd\n",
        "from geopy.geocoders import Nominatim\n",
        "\n",
        "# Sample data\n",
        "data = {\n",
        "    'City': ['New York', 'Los Angeles'],\n",
        "    'Address': ['123 Main St', '456 Elm St']\n",
        "}\n",
        "df = pd.DataFrame(data)\n",
        "\n",
        "# Geocoding\n",
        "geolocator = Nominatim(user_agent='my_application', timeout=5)\n",
        "\n",
        "def get_county(row):\n",
        "    location = geolocator.geocode(row['Address'] + ', ' + row['City'])\n",
        "    if location:\n",
        "        address = location.raw['address']\n",
        "        return address.get('county')\n",
        "    else:\n",
        "        return None\n",
        "\n",
        "\n",
        "df['County'] = df.apply(get_county, axis=1)\n",
        "print(df)\n"
      ]
    },
    {
      "cell_type": "code",
      "execution_count": null,
      "metadata": {},
      "outputs": [],
      "source": []
    },
    {
      "cell_type": "code",
      "execution_count": 8,
      "metadata": {},
      "outputs": [
        {
          "data": {
            "text/html": [
              "<div>\n",
              "<style scoped>\n",
              "    .dataframe tbody tr th:only-of-type {\n",
              "        vertical-align: middle;\n",
              "    }\n",
              "\n",
              "    .dataframe tbody tr th {\n",
              "        vertical-align: top;\n",
              "    }\n",
              "\n",
              "    .dataframe thead th {\n",
              "        text-align: right;\n",
              "    }\n",
              "</style>\n",
              "<table border=\"1\" class=\"dataframe\">\n",
              "  <thead>\n",
              "    <tr style=\"text-align: right;\">\n",
              "      <th></th>\n",
              "      <th>Column</th>\n",
              "      <th>abstractText</th>\n",
              "      <th>agency</th>\n",
              "      <th>awardAgencyCode</th>\n",
              "      <th>awardee</th>\n",
              "      <th>awardeeAddress</th>\n",
              "      <th>awardeeCity</th>\n",
              "      <th>awardeeCountryCode</th>\n",
              "      <th>awardeeCounty</th>\n",
              "      <th>awardeeDistrictCode</th>\n",
              "      <th>...</th>\n",
              "      <th>perfCounty</th>\n",
              "      <th>perfDistrictCode</th>\n",
              "      <th>perfStateCode</th>\n",
              "      <th>primaryProgram</th>\n",
              "      <th>coPDPI</th>\n",
              "      <th>poName</th>\n",
              "      <th>poPhone</th>\n",
              "      <th>publicationResearch</th>\n",
              "      <th>publicationConference</th>\n",
              "      <th>projectOutComesReport</th>\n",
              "    </tr>\n",
              "  </thead>\n",
              "  <tbody>\n",
              "    <tr>\n",
              "      <th>8</th>\n",
              "      <td>7</td>\n",
              "      <td>Continuous aseptic processing and packaging is...</td>\n",
              "      <td>NSF</td>\n",
              "      <td>4900.0</td>\n",
              "      <td>NORTH CAROLINA STATE UNIVERSITY</td>\n",
              "      <td>2601 Wolf Village Way</td>\n",
              "      <td>Raleigh</td>\n",
              "      <td>US</td>\n",
              "      <td>None</td>\n",
              "      <td>NC04</td>\n",
              "      <td>...</td>\n",
              "      <td>NaN</td>\n",
              "      <td>NaN</td>\n",
              "      <td>NaN</td>\n",
              "      <td>NaN</td>\n",
              "      <td>NaN</td>\n",
              "      <td>NaN</td>\n",
              "      <td>NaN</td>\n",
              "      <td>NaN</td>\n",
              "      <td>NaN</td>\n",
              "      <td>NaN</td>\n",
              "    </tr>\n",
              "    <tr>\n",
              "      <th>368</th>\n",
              "      <td>38</td>\n",
              "      <td>The Trek of the Mammoth is a three-week multid...</td>\n",
              "      <td>NSF</td>\n",
              "      <td>4900.0</td>\n",
              "      <td>CHADRON STATE COLLEGE</td>\n",
              "      <td>10th and Main Streets</td>\n",
              "      <td>chadron</td>\n",
              "      <td>US</td>\n",
              "      <td>None</td>\n",
              "      <td>NE03</td>\n",
              "      <td>...</td>\n",
              "      <td>NaN</td>\n",
              "      <td>NaN</td>\n",
              "      <td>NaN</td>\n",
              "      <td>NaN</td>\n",
              "      <td>Ronald R Weedon</td>\n",
              "      <td>NaN</td>\n",
              "      <td>NaN</td>\n",
              "      <td>NaN</td>\n",
              "      <td>NaN</td>\n",
              "      <td>NaN</td>\n",
              "    </tr>\n",
              "    <tr>\n",
              "      <th>385</th>\n",
              "      <td>55</td>\n",
              "      <td>This three-year project is designed to improve...</td>\n",
              "      <td>NSF</td>\n",
              "      <td>4900.0</td>\n",
              "      <td>MCNEESE STATE UNIVERSITY</td>\n",
              "      <td>Box 90655</td>\n",
              "      <td>Lake Charles</td>\n",
              "      <td>US</td>\n",
              "      <td>None</td>\n",
              "      <td>LA07</td>\n",
              "      <td>...</td>\n",
              "      <td>NaN</td>\n",
              "      <td>NaN</td>\n",
              "      <td>NaN</td>\n",
              "      <td>NaN</td>\n",
              "      <td>Gary D Kratzer</td>\n",
              "      <td>NaN</td>\n",
              "      <td>NaN</td>\n",
              "      <td>NaN</td>\n",
              "      <td>NaN</td>\n",
              "      <td>NaN</td>\n",
              "    </tr>\n",
              "    <tr>\n",
              "      <th>924</th>\n",
              "      <td>7</td>\n",
              "      <td>PROJECT PTRA-PLUS is a program of the American...</td>\n",
              "      <td>NSF</td>\n",
              "      <td>4900.0</td>\n",
              "      <td>AMERICAN ASSOCIATION OF PHYSICS TEACHERS INC</td>\n",
              "      <td>One Physics Ellipse</td>\n",
              "      <td>College Park</td>\n",
              "      <td>US</td>\n",
              "      <td>None</td>\n",
              "      <td>MD05</td>\n",
              "      <td>...</td>\n",
              "      <td>NaN</td>\n",
              "      <td>MD05</td>\n",
              "      <td>MD</td>\n",
              "      <td>490106 NSF, EDUCATION &amp; HUMAN RESOURC</td>\n",
              "      <td>James H Nelson</td>\n",
              "      <td>NaN</td>\n",
              "      <td>NaN</td>\n",
              "      <td>NaN</td>\n",
              "      <td>NaN</td>\n",
              "      <td>NaN</td>\n",
              "    </tr>\n",
              "    <tr>\n",
              "      <th>993</th>\n",
              "      <td>76</td>\n",
              "      <td>The Bermuda Biological Station will receive su...</td>\n",
              "      <td>NSF</td>\n",
              "      <td>4900.0</td>\n",
              "      <td>BERMUDA INSTITUTE OF OCEAN SCIENCES (BIOS) INC.</td>\n",
              "      <td>17 Biological Station</td>\n",
              "      <td>St. George's    GE01</td>\n",
              "      <td>BD</td>\n",
              "      <td>None</td>\n",
              "      <td>NaN</td>\n",
              "      <td>...</td>\n",
              "      <td>NaN</td>\n",
              "      <td>NaN</td>\n",
              "      <td>NaN</td>\n",
              "      <td>490100 NSF RESEARCH &amp; RELATED ACTIVIT</td>\n",
              "      <td>NaN</td>\n",
              "      <td>NaN</td>\n",
              "      <td>NaN</td>\n",
              "      <td>NaN</td>\n",
              "      <td>NaN</td>\n",
              "      <td>NaN</td>\n",
              "    </tr>\n",
              "    <tr>\n",
              "      <th>...</th>\n",
              "      <td>...</td>\n",
              "      <td>...</td>\n",
              "      <td>...</td>\n",
              "      <td>...</td>\n",
              "      <td>...</td>\n",
              "      <td>...</td>\n",
              "      <td>...</td>\n",
              "      <td>...</td>\n",
              "      <td>...</td>\n",
              "      <td>...</td>\n",
              "      <td>...</td>\n",
              "      <td>...</td>\n",
              "      <td>...</td>\n",
              "      <td>...</td>\n",
              "      <td>...</td>\n",
              "      <td>...</td>\n",
              "      <td>...</td>\n",
              "      <td>...</td>\n",
              "      <td>...</td>\n",
              "      <td>...</td>\n",
              "      <td>...</td>\n",
              "    </tr>\n",
              "    <tr>\n",
              "      <th>190032</th>\n",
              "      <td>10179</td>\n",
              "      <td>The broader impact/commercial potential of thi...</td>\n",
              "      <td>NSF</td>\n",
              "      <td>4900.0</td>\n",
              "      <td>INCEPTION ROBOTICS, LLC</td>\n",
              "      <td>4467 TECHNOLOGY DRIVE</td>\n",
              "      <td>College Park</td>\n",
              "      <td>US</td>\n",
              "      <td>None</td>\n",
              "      <td>MD</td>\n",
              "      <td>...</td>\n",
              "      <td>COLLEGE PARK</td>\n",
              "      <td>MD04</td>\n",
              "      <td>MD</td>\n",
              "      <td>NaN</td>\n",
              "      <td>NaN</td>\n",
              "      <td>Elizabeth Mirowski</td>\n",
              "      <td>7.032923e+09</td>\n",
              "      <td>NaN</td>\n",
              "      <td>NaN</td>\n",
              "      <td>NaN</td>\n",
              "    </tr>\n",
              "    <tr>\n",
              "      <th>190037</th>\n",
              "      <td>10184</td>\n",
              "      <td>The broader impact of this Small Business Inno...</td>\n",
              "      <td>NSF</td>\n",
              "      <td>4900.0</td>\n",
              "      <td>RE-SYNTH INTERNATIONAL, CORP.</td>\n",
              "      <td>207 CALLE DEL PARQUE AM TOWER FL 1</td>\n",
              "      <td>San Juan</td>\n",
              "      <td>US</td>\n",
              "      <td>None</td>\n",
              "      <td>PR</td>\n",
              "      <td>...</td>\n",
              "      <td>SAN JUAN</td>\n",
              "      <td>PR00</td>\n",
              "      <td>PR</td>\n",
              "      <td>NaN</td>\n",
              "      <td>NaN</td>\n",
              "      <td>Elizabeth Mirowski</td>\n",
              "      <td>7.032923e+09</td>\n",
              "      <td>NaN</td>\n",
              "      <td>NaN</td>\n",
              "      <td>NaN</td>\n",
              "    </tr>\n",
              "    <tr>\n",
              "      <th>190209</th>\n",
              "      <td>10356</td>\n",
              "      <td>The broader impact/commercial potential of thi...</td>\n",
              "      <td>NSF</td>\n",
              "      <td>4900.0</td>\n",
              "      <td>CRYPTYX BIOSCIENCE, INC.</td>\n",
              "      <td>WASHINGTON ROAD</td>\n",
              "      <td>Princeton</td>\n",
              "      <td>US</td>\n",
              "      <td>None</td>\n",
              "      <td>NJ</td>\n",
              "      <td>...</td>\n",
              "      <td>PRINCETON</td>\n",
              "      <td>NJ12</td>\n",
              "      <td>NJ</td>\n",
              "      <td>NaN</td>\n",
              "      <td>NaN</td>\n",
              "      <td>Erik Pierstorff</td>\n",
              "      <td>7.032922e+09</td>\n",
              "      <td>NaN</td>\n",
              "      <td>NaN</td>\n",
              "      <td>NaN</td>\n",
              "    </tr>\n",
              "    <tr>\n",
              "      <th>190329</th>\n",
              "      <td>10476</td>\n",
              "      <td>The broader impact of this Small Business Inno...</td>\n",
              "      <td>NSF</td>\n",
              "      <td>4900.0</td>\n",
              "      <td>HARDSHELL LABS, INC.</td>\n",
              "      <td>61313 ONAGA TRAIL</td>\n",
              "      <td>JOSHUA TREE</td>\n",
              "      <td>US</td>\n",
              "      <td>None</td>\n",
              "      <td>CA</td>\n",
              "      <td>...</td>\n",
              "      <td>JOSHUA TREE</td>\n",
              "      <td>CA23</td>\n",
              "      <td>CA</td>\n",
              "      <td>NaN</td>\n",
              "      <td>NaN</td>\n",
              "      <td>Rajesh Mehta</td>\n",
              "      <td>7.032922e+09</td>\n",
              "      <td>NaN</td>\n",
              "      <td>NaN</td>\n",
              "      <td>NaN</td>\n",
              "    </tr>\n",
              "    <tr>\n",
              "      <th>191543</th>\n",
              "      <td>11690</td>\n",
              "      <td>The broader impact /commercial potential of th...</td>\n",
              "      <td>NSF</td>\n",
              "      <td>4900.0</td>\n",
              "      <td>LIV LABS INC.</td>\n",
              "      <td>1415 LAKE AVE</td>\n",
              "      <td>Wilmette</td>\n",
              "      <td>US</td>\n",
              "      <td>None</td>\n",
              "      <td>IL02</td>\n",
              "      <td>...</td>\n",
              "      <td>BOSTON</td>\n",
              "      <td>MA07</td>\n",
              "      <td>MA</td>\n",
              "      <td>NaN</td>\n",
              "      <td>Holly B Jimison</td>\n",
              "      <td>Alastair Monk</td>\n",
              "      <td>7.032924e+09</td>\n",
              "      <td>NaN</td>\n",
              "      <td>NaN</td>\n",
              "      <td>NaN</td>\n",
              "    </tr>\n",
              "  </tbody>\n",
              "</table>\n",
              "<p>359 rows × 52 columns</p>\n",
              "</div>"
            ],
            "text/plain": [
              "        Column                                       abstractText agency  \\\n",
              "8            7  Continuous aseptic processing and packaging is...    NSF   \n",
              "368         38  The Trek of the Mammoth is a three-week multid...    NSF   \n",
              "385         55  This three-year project is designed to improve...    NSF   \n",
              "924          7  PROJECT PTRA-PLUS is a program of the American...    NSF   \n",
              "993         76  The Bermuda Biological Station will receive su...    NSF   \n",
              "...        ...                                                ...    ...   \n",
              "190032   10179  The broader impact/commercial potential of thi...    NSF   \n",
              "190037   10184  The broader impact of this Small Business Inno...    NSF   \n",
              "190209   10356  The broader impact/commercial potential of thi...    NSF   \n",
              "190329   10476  The broader impact of this Small Business Inno...    NSF   \n",
              "191543   11690  The broader impact /commercial potential of th...    NSF   \n",
              "\n",
              "        awardAgencyCode                                          awardee  \\\n",
              "8                4900.0                  NORTH CAROLINA STATE UNIVERSITY   \n",
              "368              4900.0                            CHADRON STATE COLLEGE   \n",
              "385              4900.0                         MCNEESE STATE UNIVERSITY   \n",
              "924              4900.0     AMERICAN ASSOCIATION OF PHYSICS TEACHERS INC   \n",
              "993              4900.0  BERMUDA INSTITUTE OF OCEAN SCIENCES (BIOS) INC.   \n",
              "...                 ...                                              ...   \n",
              "190032           4900.0                          INCEPTION ROBOTICS, LLC   \n",
              "190037           4900.0                    RE-SYNTH INTERNATIONAL, CORP.   \n",
              "190209           4900.0                         CRYPTYX BIOSCIENCE, INC.   \n",
              "190329           4900.0                             HARDSHELL LABS, INC.   \n",
              "191543           4900.0                                    LIV LABS INC.   \n",
              "\n",
              "                            awardeeAddress           awardeeCity  \\\n",
              "8                    2601 Wolf Village Way               Raleigh   \n",
              "368                  10th and Main Streets               chadron   \n",
              "385                              Box 90655          Lake Charles   \n",
              "924                    One Physics Ellipse          College Park   \n",
              "993                  17 Biological Station  St. George's    GE01   \n",
              "...                                    ...                   ...   \n",
              "190032               4467 TECHNOLOGY DRIVE          College Park   \n",
              "190037  207 CALLE DEL PARQUE AM TOWER FL 1              San Juan   \n",
              "190209                     WASHINGTON ROAD             Princeton   \n",
              "190329                   61313 ONAGA TRAIL           JOSHUA TREE   \n",
              "191543                       1415 LAKE AVE              Wilmette   \n",
              "\n",
              "       awardeeCountryCode awardeeCounty awardeeDistrictCode  ...  \\\n",
              "8                      US          None                NC04  ...   \n",
              "368                    US          None                NE03  ...   \n",
              "385                    US          None                LA07  ...   \n",
              "924                    US          None                MD05  ...   \n",
              "993                    BD          None                 NaN  ...   \n",
              "...                   ...           ...                 ...  ...   \n",
              "190032                 US          None                  MD  ...   \n",
              "190037                 US          None                  PR  ...   \n",
              "190209                 US          None                  NJ  ...   \n",
              "190329                 US          None                  CA  ...   \n",
              "191543                 US          None                IL02  ...   \n",
              "\n",
              "          perfCounty perfDistrictCode perfStateCode  \\\n",
              "8                NaN              NaN           NaN   \n",
              "368              NaN              NaN           NaN   \n",
              "385              NaN              NaN           NaN   \n",
              "924              NaN             MD05            MD   \n",
              "993              NaN              NaN           NaN   \n",
              "...              ...              ...           ...   \n",
              "190032  COLLEGE PARK             MD04            MD   \n",
              "190037      SAN JUAN             PR00            PR   \n",
              "190209     PRINCETON             NJ12            NJ   \n",
              "190329   JOSHUA TREE             CA23            CA   \n",
              "191543        BOSTON             MA07            MA   \n",
              "\n",
              "                               primaryProgram           coPDPI  \\\n",
              "8                                         NaN              NaN   \n",
              "368                                       NaN  Ronald R Weedon   \n",
              "385                                       NaN   Gary D Kratzer   \n",
              "924     490106 NSF, EDUCATION & HUMAN RESOURC   James H Nelson   \n",
              "993     490100 NSF RESEARCH & RELATED ACTIVIT              NaN   \n",
              "...                                       ...              ...   \n",
              "190032                                    NaN              NaN   \n",
              "190037                                    NaN              NaN   \n",
              "190209                                    NaN              NaN   \n",
              "190329                                    NaN              NaN   \n",
              "191543                                    NaN  Holly B Jimison   \n",
              "\n",
              "                    poName       poPhone publicationResearch  \\\n",
              "8                      NaN           NaN                 NaN   \n",
              "368                    NaN           NaN                 NaN   \n",
              "385                    NaN           NaN                 NaN   \n",
              "924                    NaN           NaN                 NaN   \n",
              "993                    NaN           NaN                 NaN   \n",
              "...                    ...           ...                 ...   \n",
              "190032  Elizabeth Mirowski  7.032923e+09                 NaN   \n",
              "190037  Elizabeth Mirowski  7.032923e+09                 NaN   \n",
              "190209     Erik Pierstorff  7.032922e+09                 NaN   \n",
              "190329        Rajesh Mehta  7.032922e+09                 NaN   \n",
              "191543       Alastair Monk  7.032924e+09                 NaN   \n",
              "\n",
              "        publicationConference  projectOutComesReport  \n",
              "8                         NaN                    NaN  \n",
              "368                       NaN                    NaN  \n",
              "385                       NaN                    NaN  \n",
              "924                       NaN                    NaN  \n",
              "993                       NaN                    NaN  \n",
              "...                       ...                    ...  \n",
              "190032                    NaN                    NaN  \n",
              "190037                    NaN                    NaN  \n",
              "190209                    NaN                    NaN  \n",
              "190329                    NaN                    NaN  \n",
              "191543                    NaN                    NaN  \n",
              "\n",
              "[359 rows x 52 columns]"
            ]
          },
          "execution_count": 8,
          "metadata": {},
          "output_type": "execute_result"
        }
      ],
      "source": [
        "missing_NSF"
      ]
    },
    {
      "cell_type": "code",
      "execution_count": 111,
      "metadata": {},
      "outputs": [],
      "source": [
        "# missing_values = dfp[dfp['awardeeCounty'].isna()]\n",
        "# for index,row in missing_values.iterrows():\n",
        "#   key = row[\"awardeeName\"]\n",
        "#   mat = dfc[dfc['awardeeName']== key]\n",
        "#   if mat.shape[0]>0:\n",
        "#     dfp.at[index, dfp.columns[1]] = mat.iloc[0][dfc.columns[8]]\n",
        "# mat.shape\n",
        "#dfp.to_csv(\"I-corp-Full.csv\") #for unknown reason we still have 1 missing county \"Chautauqua County\" (manually imputed)"
      ]
    },
    {
      "cell_type": "code",
      "execution_count": null,
      "metadata": {},
      "outputs": [],
      "source": [
        "# df1 = df[['awardeeName', 'awardeeCounty']]\n",
        "# df2 = dfc[['awardeeName', 'awardeeCounty']]\n",
        "# dfc.columns[8]"
      ]
    },
    {
      "cell_type": "code",
      "execution_count": null,
      "metadata": {},
      "outputs": [],
      "source": [
        "# pd.set_option('display.max_columns', None)\n",
        "# df=pd.read_csv('genICorp.csv') \n",
        "# dfp=pd.read_csv('Panel2.csv') #using the already organized data\n",
        "# dfc = pd.read_csv(\"I-Corp_county.csv\") # This is the file I manually updated the county column\n",
        "\n",
        "# #File to create the panel\n",
        "# dfp = pd.read_csv(\"I-corp-Full.csv\")"
      ]
    },
    {
      "attachments": {},
      "cell_type": "markdown",
      "metadata": {},
      "source": [
        "Creating the file with no missing values (later we don't need this because we will have all the Universities with their respective county)"
      ]
    },
    {
      "cell_type": "code",
      "execution_count": 145,
      "metadata": {},
      "outputs": [
        {
          "data": {
            "text/plain": [
              "(187755, 52)"
            ]
          },
          "execution_count": 145,
          "metadata": {},
          "output_type": "execute_result"
        }
      ],
      "source": [
        "nsf_all = nsf[~nsf['awardeeCounty'].isna()] #187755 + 3773 (correct)"
      ]
    },
    {
      "attachments": {},
      "cell_type": "markdown",
      "metadata": {},
      "source": [
        "Creating the first panel"
      ]
    },
    {
      "cell_type": "code",
      "execution_count": 147,
      "metadata": {},
      "outputs": [],
      "source": [
        "def cross_to_panel(df):\n",
        "    df = df.set_index(['Year_date','awardeeCounty'])\n",
        "    df = df.sort_index()\n",
        "    return df\n",
        "panel_data = cross_to_panel(nsf_all)\n",
        "#panel_data.to_csv('panel2.csv')\n",
        "\n",
        "# def cross_to_panel(df):\n",
        "#     df['date'] = pd.to_datetime(df['Year_date'], format='%Y')\n",
        "#     df['year'] = df['date'].dt.year\n",
        "#     df = df.set_index(['year', 'awardeeCounty'])\n",
        "#     return df\n",
        "\n",
        "# # Example usage\n",
        "\n",
        "# panel_data = cross_to_panel(df)\n",
        "# panel_data.to_csv('cross2.csv')\n",
        "#panel_data"
      ]
    },
    {
      "cell_type": "code",
      "execution_count": null,
      "metadata": {},
      "outputs": [],
      "source": []
    },
    {
      "attachments": {},
      "cell_type": "markdown",
      "metadata": {},
      "source": [
        "Creating the Panel with aggregation (I think we don't need this)"
      ]
    },
    {
      "cell_type": "code",
      "execution_count": 148,
      "metadata": {},
      "outputs": [],
      "source": [
        "#grouped_multiple = df.groupby(['Year_date', 'awardeeCounty'])\n",
        "#grouped_multiple = grouped_multiple.reset_index()\n",
        "#print(grouped_multiple)\n",
        "\n",
        "# p_table = pd.pivot_table(nsf_all, index = ['Year_date',\"awardeeCounty\"])\n",
        "# p_table.to_csv(\"panel_nsf_all.csv\")\n",
        "# p_table"
      ]
    },
    {
      "cell_type": "code",
      "execution_count": null,
      "metadata": {},
      "outputs": [],
      "source": []
    },
    {
      "cell_type": "code",
      "execution_count": null,
      "metadata": {},
      "outputs": [],
      "source": []
    },
    {
      "cell_type": "code",
      "execution_count": null,
      "metadata": {},
      "outputs": [],
      "source": []
    },
    {
      "cell_type": "code",
      "execution_count": null,
      "metadata": {},
      "outputs": [],
      "source": []
    },
    {
      "cell_type": "code",
      "execution_count": null,
      "metadata": {},
      "outputs": [],
      "source": []
    },
    {
      "cell_type": "code",
      "execution_count": null,
      "metadata": {},
      "outputs": [],
      "source": []
    },
    {
      "cell_type": "code",
      "execution_count": 149,
      "metadata": {},
      "outputs": [],
      "source": [
        "data = nsf_all.copy()"
      ]
    },
    {
      "attachments": {},
      "cell_type": "markdown",
      "metadata": {},
      "source": [
        "Creating Filters to get the correct programs"
      ]
    },
    {
      "cell_type": "code",
      "execution_count": null,
      "metadata": {},
      "outputs": [
        {
          "data": {
            "text/plain": [
              "1183"
            ]
          },
          "execution_count": 155,
          "metadata": {},
          "output_type": "execute_result"
        }
      ],
      "source": [
        "programs = data.fundProgramName.unique()\n",
        "len(programs)\n",
        "programs"
      ]
    },
    {
      "cell_type": "code",
      "execution_count": 14,
      "metadata": {},
      "outputs": [
        {
          "ename": "KeyError",
          "evalue": "'fundProgramName'",
          "output_type": "error",
          "traceback": [
            "\u001b[1;31m---------------------------------------------------------------------------\u001b[0m",
            "\u001b[1;31mKeyError\u001b[0m                                  Traceback (most recent call last)",
            "Cell \u001b[1;32mIn[14], line 1\u001b[0m\n\u001b[1;32m----> 1\u001b[0m df_corps \u001b[39m=\u001b[39m data[data[\u001b[39m'\u001b[39;49m\u001b[39mfundProgramName\u001b[39;49m\u001b[39m'\u001b[39;49m] \u001b[39m==\u001b[39m \u001b[39m'\u001b[39m\u001b[39mI-Corps\u001b[39m\u001b[39m'\u001b[39m]\n\u001b[0;32m      3\u001b[0m df_SBIR_1 \u001b[39m=\u001b[39m data[data[\u001b[39m'\u001b[39m\u001b[39mfundProgramName\u001b[39m\u001b[39m'\u001b[39m] \u001b[39m==\u001b[39m \u001b[39m'\u001b[39m\u001b[39mSBIR Phase I\u001b[39m\u001b[39m'\u001b[39m]\n\u001b[0;32m      4\u001b[0m df_SBIR_2 \u001b[39m=\u001b[39m data[data[\u001b[39m'\u001b[39m\u001b[39mfundProgramName\u001b[39m\u001b[39m'\u001b[39m] \u001b[39m==\u001b[39m \u001b[39m'\u001b[39m\u001b[39mSBIR Phase II\u001b[39m\u001b[39m'\u001b[39m]\n",
            "\u001b[1;31mKeyError\u001b[0m: 'fundProgramName'"
          ]
        }
      ],
      "source": [
        "df_corps = data[data['fundProgramName'] == 'I-Corps']\n",
        "\n",
        "df_SBIR_1 = data[data['fundProgramName'] == 'SBIR Phase I']\n",
        "df_SBIR_2 = data[data['fundProgramName'] == 'SBIR Phase II']\n",
        "df_STTR = data[data['fundProgramName'] == 'STTR']\n",
        "df_PFI = data[data['fundProgramName'] == 'PFI']\n",
        "df_PFI = data[data['fundProgramName'] == 'IUCRC']\n",
        "\n",
        "#combine all the other ones "
      ]
    },
    {
      "cell_type": "code",
      "execution_count": null,
      "metadata": {},
      "outputs": [],
      "source": []
    },
    {
      "cell_type": "code",
      "execution_count": null,
      "metadata": {},
      "outputs": [],
      "source": []
    },
    {
      "cell_type": "code",
      "execution_count": 159,
      "metadata": {},
      "outputs": [],
      "source": [
        "# pd.set_option('display.max_columns', None)\n",
        "# df=pd.read_csv('genICorp.csv') \n",
        "# dfp=pd.read_csv('Panel2.csv') #using the already organized data\n",
        "# dfc = pd.read_csv(\"I-Corp_county.csv\") # This is the file I manually updated the county column\n",
        "\n",
        "# #File to create the panel\n",
        "# dfp = pd.read_csv(\"I-corp-Full.csv\")"
      ]
    },
    {
      "cell_type": "code",
      "execution_count": null,
      "metadata": {},
      "outputs": [],
      "source": [
        "# pd.set_option('display.max_columns', None)\n",
        "# df=pd.read_csv('genICorp.csv') \n",
        "# dfp=pd.read_csv('Panel2.csv') #using the already organized data\n",
        "# dfc = pd.read_csv(\"I-Corp_county.csv\") # This is the file I manually updated the county column\n",
        "\n",
        "# #File to create the panel\n",
        "# dfp = pd.read_csv(\"I-corp-Full.csv\")"
      ]
    },
    {
      "cell_type": "code",
      "execution_count": null,
      "metadata": {},
      "outputs": [],
      "source": []
    },
    {
      "cell_type": "code",
      "execution_count": null,
      "metadata": {},
      "outputs": [],
      "source": []
    },
    {
      "attachments": {},
      "cell_type": "markdown",
      "metadata": {},
      "source": [
        "# Repeating the same process we did for I-Corps "
      ]
    },
    {
      "cell_type": "markdown",
      "metadata": {},
      "source": []
    },
    {
      "cell_type": "code",
      "execution_count": 127,
      "metadata": {
        "id": "LB3Jx7tpfRGC"
      },
      "outputs": [],
      "source": [
        "data['d_inv'] = data.apply(lambda x: 0 if x.estimatedTotalAmt <= 50000.0 else 1,axis = 1)# cria variavel categorica para valores iguais ou menores que 50.000 e maiores que 50.000\n",
        "data['d_59'] = 1\n",
        "data['d_99'] = 0\n",
        "data['estimatedTotalAmt_d_99'] = 0"
      ]
    },
    {
      "cell_type": "code",
      "execution_count": 128,
      "metadata": {
        "id": "L5LXiEooxPWi"
      },
      "outputs": [],
      "source": [
        "df_clear = data.groupby(['awardeeCounty','Year_date','awardee','d_inv'])[['d_59','estimatedTotalAmt','d_99','estimatedTotalAmt_d_99']].sum()# agrupando por county\n",
        "df_clear = df_clear.reset_index()"
      ]
    },
    {
      "cell_type": "code",
      "execution_count": 129,
      "metadata": {
        "id": "4z8wLbEOPCyA"
      },
      "outputs": [],
      "source": [
        "df_below50 = df_clear[df_clear['d_inv'] == 0].reset_index()\n",
        "df_below50 = df_below50.drop(columns =['index'])\n"
      ]
    },
    {
      "cell_type": "code",
      "execution_count": 130,
      "metadata": {
        "id": "PwWoZ_JfQLRO"
      },
      "outputs": [],
      "source": [
        "df_over50 = df_clear[df_clear['d_inv'] == 1].reset_index()\n",
        "df_over50['d_99'] = df_over50['d_59']\n",
        "df_over50['d_59'] = 0 \n",
        "df_over50['estimatedTotalAmt_d_99'] = df_over50['estimatedTotalAmt']\n",
        "df_over50['estimatedTotalAmt'] = 0\n",
        "df_over50 = df_over50.drop(columns = ['index'])\n",
        "\n"
      ]
    },
    {
      "cell_type": "code",
      "execution_count": 131,
      "metadata": {
        "id": "q-s6NTyre0aN"
      },
      "outputs": [],
      "source": [
        "for index,row in df_below50.iterrows():\n",
        "  key = row['awardee']\n",
        "  met = df_over50[df_over50['awardee'] == key]\n",
        "  key_year = row['Year_date']\n",
        "  met_year = met[met['Year_date'] == key_year]\n",
        "  if met_year.shape[0]>0:\n",
        "    df_below50.at[index,'d_99'] = met_year.iloc[0]['d_99']\n",
        "    df_below50.at[index,'estimatedTotalAmt_d_99'] = met_year.iloc[0]['estimatedTotalAmt_d_99']\n",
        "    df_over50 = df_over50.drop(met_year.index[0])"
      ]
    },
    {
      "cell_type": "code",
      "execution_count": 132,
      "metadata": {
        "id": "mVX70KZ6sKJI"
      },
      "outputs": [],
      "source": [
        "df_below50 = df_below50.merge(df_over50,how = 'outer')\n",
        "df_below50['total'] = df_below50.apply(lambda x: x['estimatedTotalAmt'] + x['estimatedTotalAmt_d_99'],axis = 1)"
      ]
    },
    {
      "cell_type": "code",
      "execution_count": 133,
      "metadata": {
        "id": "NgrBZsDuB-xV"
      },
      "outputs": [],
      "source": [
        "df_final = df_below50.sort_values(by = ['awardeeCounty','Year_date'])\n",
        "df_final = df_final.reset_index(inplace = False).drop(columns = ['index'])"
      ]
    },
    {
      "attachments": {},
      "cell_type": "markdown",
      "metadata": {},
      "source": [
        "Saving the file"
      ]
    },
    {
      "cell_type": "code",
      "execution_count": 134,
      "metadata": {
        "colab": {
          "base_uri": "https://localhost:8080/",
          "height": 655
        },
        "id": "8AlZwMqXFoDa",
        "outputId": "f54e5324-f98e-45a2-9aec-e2d7922dd404"
      },
      "outputs": [],
      "source": [
        "df_final\n",
        "df_final.to_csv(\"nsf_all.csv\", index=False)\n"
      ]
    },
    {
      "cell_type": "code",
      "execution_count": null,
      "metadata": {},
      "outputs": [],
      "source": []
    },
    {
      "cell_type": "code",
      "execution_count": null,
      "metadata": {},
      "outputs": [],
      "source": []
    },
    {
      "cell_type": "code",
      "execution_count": null,
      "metadata": {},
      "outputs": [],
      "source": []
    },
    {
      "cell_type": "code",
      "execution_count": null,
      "metadata": {},
      "outputs": [],
      "source": []
    },
    {
      "cell_type": "code",
      "execution_count": null,
      "metadata": {
        "id": "DvOmScFf4meg"
      },
      "outputs": [],
      "source": [
        "#!!!!!!!!!!!!!!!!!!!!!!!!!!!!!!!!!!!!!!! abaixo so testes !!!!!!!!!!!!!!!!!!!!!!!!!!!!!!!!!!!!!!!"
      ]
    },
    {
      "cell_type": "code",
      "execution_count": null,
      "metadata": {
        "id": "yyAwbV5ZGVCX"
      },
      "outputs": [],
      "source": [
        "x = data[data['awardee']== 'REGENTS OF THE UNIVERSITY OF CALIFORNIA, THE']\n",
        "len(x[x['Year_date']== 2017])"
      ]
    },
    {
      "cell_type": "code",
      "execution_count": null,
      "metadata": {
        "id": "MrxAw7IPXwmS"
      },
      "outputs": [],
      "source": [
        "df_below50[df_below50['awardee'] == 'NATIONAL COLLEGIATE INVENTORS & INNOVATORS ALLIANCE, INC.']"
      ]
    },
    {
      "cell_type": "code",
      "execution_count": null,
      "metadata": {
        "id": "PQBN_ey14Gl1"
      },
      "outputs": [],
      "source": [
        "df_below50[df_below50['awardee'] == 'THE UNIVERSITY OF AKRON']"
      ]
    },
    {
      "cell_type": "code",
      "execution_count": null,
      "metadata": {
        "id": "Hb31yJI-dIgf"
      },
      "outputs": [],
      "source": [
        "df_over50[df_over50['awardee'] == 'NATIONAL COLLEGIATE INVENTORS & INNOVATORS ALLIANCE, INC.']"
      ]
    },
    {
      "cell_type": "code",
      "execution_count": null,
      "metadata": {
        "id": "AsTX24NetFLF"
      },
      "outputs": [],
      "source": [
        "df_final[df_final['awardee'] == 'NATIONAL COLLEGIATE INVENTORS & INNOVATORS ALLIANCE, INC.']"
      ]
    },
    {
      "cell_type": "code",
      "execution_count": null,
      "metadata": {
        "id": "bmNhb-zXdZph"
      },
      "outputs": [],
      "source": [
        "#df_melt = pd.melt(data,id_vars= ['Year_date','awardee','estimatedTotalAmt'], value_vars = ['d_inv'] )\n",
        "#df_melt"
      ]
    },
    {
      "cell_type": "code",
      "execution_count": null,
      "metadata": {
        "id": "Sk3VsBudwP8X"
      },
      "outputs": [],
      "source": [
        "data[data['awardee'] == 'NATIONAL COLLEGIATE INVENTORS & INNOVATORS ALLIANCE, INC.']"
      ]
    },
    {
      "cell_type": "code",
      "execution_count": null,
      "metadata": {
        "id": "K8DpjhZ_ayqU"
      },
      "outputs": [],
      "source": [
        "df_50 = df_50.groupby(['Year_date','awardee'])[['estimatedTotalAmt']].sum()# agrupando por county"
      ]
    },
    {
      "cell_type": "code",
      "execution_count": null,
      "metadata": {
        "id": "O8eJR_0Da_yG"
      },
      "outputs": [],
      "source": [
        "df_50 = df_50.reset_index( )\n"
      ]
    },
    {
      "cell_type": "code",
      "execution_count": null,
      "metadata": {
        "id": "DWOV-wqDNPKV"
      },
      "outputs": [],
      "source": [
        "SELECT * FROM `post` WHERE source_id >= 175 AND created_date < '2023-01-01'\n",
        "85840\n",
        "\n",
        "DELETE epecificar a tabela para apagar os dados FROM `insight` INNER JOIN `post` on insight.post_id = post.id WHERE post.source_id = 175 AND post.created_date < '2023-01-01'; \n",
        " numeros de registros apagados 13377784\n",
        "\n",
        "WITH postIds AS (\n",
        " SELECT id FROM post WHERE source_id >= 175 AND created_date < '2023-01-01'\n",
        ")\n",
        "\n",
        "DELETE * \n",
        "FROM insight\n",
        "WHERE post_id IN postIds"
      ]
    },
    {
      "cell_type": "code",
      "execution_count": null,
      "metadata": {
        "id": "538V_RGwiprO"
      },
      "outputs": [],
      "source": [
        "79+1125"
      ]
    },
    {
      "cell_type": "code",
      "execution_count": null,
      "metadata": {
        "id": "Z_zJxp5ehrOJ"
      },
      "outputs": [],
      "source": [
        "df_over50.shape\n"
      ]
    },
    {
      "cell_type": "code",
      "execution_count": null,
      "metadata": {
        "id": "1GuZkFwUT9BC"
      },
      "outputs": [],
      "source": [
        "x = 0 \n",
        "for index,row in df_below50.iterrows():\n",
        "  key = row['awardee']\n",
        "  met = df_over50[df_over50['awardee'] == key]\n",
        "  key_year = row['Year_date']\n",
        "  met_year = met[met['Year_date'] == key_year]\n",
        "  if met_year.shape[0] > 0:\n",
        "    x+=1\n",
        "    print(met_year.index[0])\n",
        "print(x)"
      ]
    },
    {
      "cell_type": "code",
      "execution_count": null,
      "metadata": {
        "id": "h6yZxmBnjNLT"
      },
      "outputs": [],
      "source": [
        "dif = df_over50[df_over50['awardee'] != key]"
      ]
    },
    {
      "cell_type": "code",
      "execution_count": null,
      "metadata": {
        "id": "WOfg4MpVli1Q"
      },
      "outputs": [],
      "source": [
        "x = df_over50['awardee'] != df_below50['awardee']"
      ]
    },
    {
      "cell_type": "code",
      "execution_count": null,
      "metadata": {
        "colab": {
          "base_uri": "https://localhost:8080/",
          "height": 424
        },
        "id": "PIxplqZAjOO_",
        "outputId": "d77cd096-633e-438b-9178-df97ab7672df"
      },
      "outputs": [
        {
          "data": {
            "text/html": [
              "\n",
              "  <div id=\"df-697ecc51-46fc-4af2-a17d-da17b892ff6a\">\n",
              "    <div class=\"colab-df-container\">\n",
              "      <div>\n",
              "<style scoped>\n",
              "    .dataframe tbody tr th:only-of-type {\n",
              "        vertical-align: middle;\n",
              "    }\n",
              "\n",
              "    .dataframe tbody tr th {\n",
              "        vertical-align: top;\n",
              "    }\n",
              "\n",
              "    .dataframe thead th {\n",
              "        text-align: right;\n",
              "    }\n",
              "</style>\n",
              "<table border=\"1\" class=\"dataframe\">\n",
              "  <thead>\n",
              "    <tr style=\"text-align: right;\">\n",
              "      <th></th>\n",
              "      <th>index</th>\n",
              "      <th>awardeeCounty</th>\n",
              "      <th>Year_date</th>\n",
              "      <th>awardee</th>\n",
              "      <th>d_inv</th>\n",
              "      <th>estimatedTotalAmt</th>\n",
              "      <th>d_59</th>\n",
              "      <th>d_99</th>\n",
              "    </tr>\n",
              "  </thead>\n",
              "  <tbody>\n",
              "    <tr>\n",
              "      <th>0</th>\n",
              "      <td>1</td>\n",
              "      <td>Akron</td>\n",
              "      <td>2013</td>\n",
              "      <td>THE UNIVERSITY OF AKRON</td>\n",
              "      <td>1</td>\n",
              "      <td>300000</td>\n",
              "      <td>1</td>\n",
              "      <td>0</td>\n",
              "    </tr>\n",
              "    <tr>\n",
              "      <th>1</th>\n",
              "      <td>6</td>\n",
              "      <td>Akron</td>\n",
              "      <td>2017</td>\n",
              "      <td>THE UNIVERSITY OF AKRON</td>\n",
              "      <td>1</td>\n",
              "      <td>300000</td>\n",
              "      <td>1</td>\n",
              "      <td>0</td>\n",
              "    </tr>\n",
              "    <tr>\n",
              "      <th>2</th>\n",
              "      <td>18</td>\n",
              "      <td>Albuquerque</td>\n",
              "      <td>2017</td>\n",
              "      <td>UNIVERSITY OF NEW MEXICO, THE</td>\n",
              "      <td>1</td>\n",
              "      <td>443631</td>\n",
              "      <td>1</td>\n",
              "      <td>0</td>\n",
              "    </tr>\n",
              "    <tr>\n",
              "      <th>3</th>\n",
              "      <td>22</td>\n",
              "      <td>Alexandria</td>\n",
              "      <td>2019</td>\n",
              "      <td>GEM CONSORTIUM</td>\n",
              "      <td>1</td>\n",
              "      <td>3498254</td>\n",
              "      <td>1</td>\n",
              "      <td>0</td>\n",
              "    </tr>\n",
              "    <tr>\n",
              "      <th>4</th>\n",
              "      <td>29</td>\n",
              "      <td>Ames</td>\n",
              "      <td>2017</td>\n",
              "      <td>IOWA STATE UNIVERSITY OF SCIENCE AND TECHNOLOGY</td>\n",
              "      <td>1</td>\n",
              "      <td>498750</td>\n",
              "      <td>1</td>\n",
              "      <td>0</td>\n",
              "    </tr>\n",
              "    <tr>\n",
              "      <th>...</th>\n",
              "      <td>...</td>\n",
              "      <td>...</td>\n",
              "      <td>...</td>\n",
              "      <td>...</td>\n",
              "      <td>...</td>\n",
              "      <td>...</td>\n",
              "      <td>...</td>\n",
              "      <td>...</td>\n",
              "    </tr>\n",
              "    <tr>\n",
              "      <th>163</th>\n",
              "      <td>1254</td>\n",
              "      <td>Washington</td>\n",
              "      <td>2017</td>\n",
              "      <td>GEORGE WASHINGTON UNIVERSITY, THE</td>\n",
              "      <td>1</td>\n",
              "      <td>499502</td>\n",
              "      <td>1</td>\n",
              "      <td>0</td>\n",
              "    </tr>\n",
              "    <tr>\n",
              "      <th>164</th>\n",
              "      <td>1265</td>\n",
              "      <td>West Lafayette</td>\n",
              "      <td>2015</td>\n",
              "      <td>PURDUE UNIVERSITY</td>\n",
              "      <td>1</td>\n",
              "      <td>197280</td>\n",
              "      <td>1</td>\n",
              "      <td>0</td>\n",
              "    </tr>\n",
              "    <tr>\n",
              "      <th>165</th>\n",
              "      <td>1269</td>\n",
              "      <td>West Lafayette</td>\n",
              "      <td>2018</td>\n",
              "      <td>PURDUE UNIVERSITY</td>\n",
              "      <td>1</td>\n",
              "      <td>160000</td>\n",
              "      <td>1</td>\n",
              "      <td>0</td>\n",
              "    </tr>\n",
              "    <tr>\n",
              "      <th>166</th>\n",
              "      <td>1275</td>\n",
              "      <td>Wichita</td>\n",
              "      <td>2016</td>\n",
              "      <td>WICHITA STATE UNIVERSITY</td>\n",
              "      <td>1</td>\n",
              "      <td>200000</td>\n",
              "      <td>1</td>\n",
              "      <td>0</td>\n",
              "    </tr>\n",
              "    <tr>\n",
              "      <th>167</th>\n",
              "      <td>1282</td>\n",
              "      <td>Worcester</td>\n",
              "      <td>2018</td>\n",
              "      <td>WORCESTER POLYTECHNIC INSTITUTE</td>\n",
              "      <td>1</td>\n",
              "      <td>255000</td>\n",
              "      <td>1</td>\n",
              "      <td>0</td>\n",
              "    </tr>\n",
              "  </tbody>\n",
              "</table>\n",
              "<p>168 rows × 8 columns</p>\n",
              "</div>\n",
              "      <button class=\"colab-df-convert\" onclick=\"convertToInteractive('df-697ecc51-46fc-4af2-a17d-da17b892ff6a')\"\n",
              "              title=\"Convert this dataframe to an interactive table.\"\n",
              "              style=\"display:none;\">\n",
              "        \n",
              "  <svg xmlns=\"http://www.w3.org/2000/svg\" height=\"24px\"viewBox=\"0 0 24 24\"\n",
              "       width=\"24px\">\n",
              "    <path d=\"M0 0h24v24H0V0z\" fill=\"none\"/>\n",
              "    <path d=\"M18.56 5.44l.94 2.06.94-2.06 2.06-.94-2.06-.94-.94-2.06-.94 2.06-2.06.94zm-11 1L8.5 8.5l.94-2.06 2.06-.94-2.06-.94L8.5 2.5l-.94 2.06-2.06.94zm10 10l.94 2.06.94-2.06 2.06-.94-2.06-.94-.94-2.06-.94 2.06-2.06.94z\"/><path d=\"M17.41 7.96l-1.37-1.37c-.4-.4-.92-.59-1.43-.59-.52 0-1.04.2-1.43.59L10.3 9.45l-7.72 7.72c-.78.78-.78 2.05 0 2.83L4 21.41c.39.39.9.59 1.41.59.51 0 1.02-.2 1.41-.59l7.78-7.78 2.81-2.81c.8-.78.8-2.07 0-2.86zM5.41 20L4 18.59l7.72-7.72 1.47 1.35L5.41 20z\"/>\n",
              "  </svg>\n",
              "      </button>\n",
              "      \n",
              "  <style>\n",
              "    .colab-df-container {\n",
              "      display:flex;\n",
              "      flex-wrap:wrap;\n",
              "      gap: 12px;\n",
              "    }\n",
              "\n",
              "    .colab-df-convert {\n",
              "      background-color: #E8F0FE;\n",
              "      border: none;\n",
              "      border-radius: 50%;\n",
              "      cursor: pointer;\n",
              "      display: none;\n",
              "      fill: #1967D2;\n",
              "      height: 32px;\n",
              "      padding: 0 0 0 0;\n",
              "      width: 32px;\n",
              "    }\n",
              "\n",
              "    .colab-df-convert:hover {\n",
              "      background-color: #E2EBFA;\n",
              "      box-shadow: 0px 1px 2px rgba(60, 64, 67, 0.3), 0px 1px 3px 1px rgba(60, 64, 67, 0.15);\n",
              "      fill: #174EA6;\n",
              "    }\n",
              "\n",
              "    [theme=dark] .colab-df-convert {\n",
              "      background-color: #3B4455;\n",
              "      fill: #D2E3FC;\n",
              "    }\n",
              "\n",
              "    [theme=dark] .colab-df-convert:hover {\n",
              "      background-color: #434B5C;\n",
              "      box-shadow: 0px 1px 3px 1px rgba(0, 0, 0, 0.15);\n",
              "      filter: drop-shadow(0px 1px 2px rgba(0, 0, 0, 0.3));\n",
              "      fill: #FFFFFF;\n",
              "    }\n",
              "  </style>\n",
              "\n",
              "      <script>\n",
              "        const buttonEl =\n",
              "          document.querySelector('#df-697ecc51-46fc-4af2-a17d-da17b892ff6a button.colab-df-convert');\n",
              "        buttonEl.style.display =\n",
              "          google.colab.kernel.accessAllowed ? 'block' : 'none';\n",
              "\n",
              "        async function convertToInteractive(key) {\n",
              "          const element = document.querySelector('#df-697ecc51-46fc-4af2-a17d-da17b892ff6a');\n",
              "          const dataTable =\n",
              "            await google.colab.kernel.invokeFunction('convertToInteractive',\n",
              "                                                     [key], {});\n",
              "          if (!dataTable) return;\n",
              "\n",
              "          const docLinkHtml = 'Like what you see? Visit the ' +\n",
              "            '<a target=\"_blank\" href=https://colab.research.google.com/notebooks/data_table.ipynb>data table notebook</a>'\n",
              "            + ' to learn more about interactive tables.';\n",
              "          element.innerHTML = '';\n",
              "          dataTable['output_type'] = 'display_data';\n",
              "          await google.colab.output.renderOutput(dataTable, element);\n",
              "          const docLink = document.createElement('div');\n",
              "          docLink.innerHTML = docLinkHtml;\n",
              "          element.appendChild(docLink);\n",
              "        }\n",
              "      </script>\n",
              "    </div>\n",
              "  </div>\n",
              "  "
            ],
            "text/plain": [
              "     index   awardeeCounty  Year_date  \\\n",
              "0        1           Akron       2013   \n",
              "1        6           Akron       2017   \n",
              "2       18     Albuquerque       2017   \n",
              "3       22      Alexandria       2019   \n",
              "4       29            Ames       2017   \n",
              "..     ...             ...        ...   \n",
              "163   1254      Washington       2017   \n",
              "164   1265  West Lafayette       2015   \n",
              "165   1269  West Lafayette       2018   \n",
              "166   1275         Wichita       2016   \n",
              "167   1282       Worcester       2018   \n",
              "\n",
              "                                             awardee  d_inv  \\\n",
              "0                            THE UNIVERSITY OF AKRON      1   \n",
              "1                            THE UNIVERSITY OF AKRON      1   \n",
              "2                      UNIVERSITY OF NEW MEXICO, THE      1   \n",
              "3                                     GEM CONSORTIUM      1   \n",
              "4    IOWA STATE UNIVERSITY OF SCIENCE AND TECHNOLOGY      1   \n",
              "..                                               ...    ...   \n",
              "163                GEORGE WASHINGTON UNIVERSITY, THE      1   \n",
              "164                                PURDUE UNIVERSITY      1   \n",
              "165                                PURDUE UNIVERSITY      1   \n",
              "166                         WICHITA STATE UNIVERSITY      1   \n",
              "167                  WORCESTER POLYTECHNIC INSTITUTE      1   \n",
              "\n",
              "     estimatedTotalAmt  d_59  d_99  \n",
              "0               300000     1     0  \n",
              "1               300000     1     0  \n",
              "2               443631     1     0  \n",
              "3              3498254     1     0  \n",
              "4               498750     1     0  \n",
              "..                 ...   ...   ...  \n",
              "163             499502     1     0  \n",
              "164             197280     1     0  \n",
              "165             160000     1     0  \n",
              "166             200000     1     0  \n",
              "167             255000     1     0  \n",
              "\n",
              "[168 rows x 8 columns]"
            ]
          },
          "execution_count": 168,
          "metadata": {},
          "output_type": "execute_result"
        }
      ],
      "source": [
        "dif"
      ]
    },
    {
      "cell_type": "code",
      "execution_count": null,
      "metadata": {
        "id": "cLJmW3X907mW"
      },
      "outputs": [],
      "source": [
        "df_test = data.groupby(['awardeeCounty','Year_date','awardee'])[['estimatedTotalAmt']].sum()# agrupando por county"
      ]
    },
    {
      "cell_type": "code",
      "execution_count": null,
      "metadata": {
        "id": "johzt03wpktj"
      },
      "outputs": [],
      "source": [
        "df_test"
      ]
    },
    {
      "cell_type": "code",
      "execution_count": null,
      "metadata": {
        "id": "8HT-S_zCcvmz"
      },
      "outputs": [],
      "source": [
        "#min_value = data.estimatedTotalAmt.min() # menor valor da coluna cfdaNumber\n",
        "df_50['n_invest'] = df_50.apply(lambda x: x.estimatedTotalAmt/min_value if x.estimatedTotalAmt> min_value else min_value/min_value, axis=1)# add col n"
      ]
    },
    {
      "cell_type": "code",
      "execution_count": null,
      "metadata": {
        "id": "hZf7GfjkHKNM"
      },
      "outputs": [],
      "source": [
        "df_test.reset_index(inplace =True)\n",
        "df_test.head(4)\n"
      ]
    },
    {
      "cell_type": "code",
      "execution_count": null,
      "metadata": {
        "id": "pDAP1Az8V6_R"
      },
      "outputs": [],
      "source": [
        "for index, row in df_test.iterrows():\n",
        "  key = row['awardee']\n",
        "  met = data[data['awardee']==key]\n",
        "  \n",
        "\n",
        "    "
      ]
    }
  ],
  "metadata": {
    "colab": {
      "provenance": []
    },
    "kernelspec": {
      "display_name": "Python 3",
      "name": "python3"
    },
    "language_info": {
      "codemirror_mode": {
        "name": "ipython",
        "version": 3
      },
      "file_extension": ".py",
      "mimetype": "text/x-python",
      "name": "python",
      "nbconvert_exporter": "python",
      "pygments_lexer": "ipython3",
      "version": "3.10.0"
    }
  },
  "nbformat": 4,
  "nbformat_minor": 0
}
