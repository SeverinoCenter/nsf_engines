{
  "cells": [
    {
      "attachments": {},
      "cell_type": "markdown",
      "metadata": {
        "id": "u7bO5ifsty9d"
      },
      "source": [
        "\n",
        "agrupar por cidade\n",
        "agrupar por ano count total por cidade\n",
        "valor de univercidade\n",
        "valor total de univercidade\n",
        "col: distric code\n",
        "county(condado):ano -> col:awardee(univercidades(gerar contador))-> toltal recebido"
      ]
    },
    {
      "attachments": {},
      "cell_type": "markdown",
      "metadata": {
        "id": "GlO3VZiUtrs8"
      },
      "source": [
        "Mantém a D_50 (é redundante, mas deixa la)\n",
        "Cria d_59 que vai ter tudo 0 ai quando agregarmos ela vai receber o valor de quantas vezes uma mesma universidade apareceu e vc pode usar a coluna d_50 para contar (se quiser)\n",
        "e uma outra coluna d_99 que vai receber também 0 no começo e quando agregar ela fica com 1,2,3,4... conforme aparecer a mesma universidade mais vezes com valores acima de 50k\n",
        "No fim temos 3 colunas\n",
        "d_50 que é uma dummy mesmo\n",
        "d_59 que tem quantas vezes uma universidade apareceu por ano com valor de 50k, 1,2,3,4...\n",
        "d_99 que tem quantas vezes uma universidade apareceu por ano com valor ACIMA de 50k, 1,2,3,4..."
      ]
    },
    {
      "cell_type": "code",
      "execution_count": 115,
      "metadata": {
        "id": "FuDxkZwrrtXo"
      },
      "outputs": [
        {
          "name": "stderr",
          "output_type": "stream",
          "text": [
            "C:\\Users\\fernav4\\AppData\\Local\\Temp\\ipykernel_19212\\3674381822.py:9: DtypeWarning: Columns (12,13,17,25,32,37,45,50,51) have mixed types. Specify dtype option on import or set low_memory=False.\n",
            "  nsf=pd.read_csv(base/ 'allNSF1.csv',index_col = False) #Change this to the clean data later\n"
          ]
        }
      ],
      "source": [
        "import pandas as pd\n",
        "import numpy as np\n",
        "from pathlib import Path\n",
        "\n",
        "#path append\n",
        "#base = Path('C:/workspace/nsf-award-extract') # Vitor's PC\n",
        "base = Path('C:/collaboration/vitor/NSF_DATA') # Server\n",
        "\n",
        "nsf=pd.read_csv(base/ 'allNSF1.csv',index_col = False) #Change this to the clean data later\n",
        "#dft=pd.read_csv(base/ 'test.csv',index_col = False) #Change this to the clean data later"
      ]
    },
    {
      "cell_type": "code",
      "execution_count": 116,
      "metadata": {},
      "outputs": [],
      "source": [
        "#Just checking if we have the same amount of register in each year as in this link https://www.nsf.gov/awardsearch/download.jsp\n",
        "#nsf['year'] = pd.to_datetime(nsf['date'], format='%m/%d/%Y').dt.year"
      ]
    },
    {
      "cell_type": "code",
      "execution_count": 117,
      "metadata": {},
      "outputs": [
        {
          "data": {
            "text/plain": [
              "Index(['Column', 'abstractText', 'agency', 'awardAgencyCode', 'awardee',\n",
              "       'awardeeAddress', 'awardeeCity', 'awardeeCountryCode', 'awardeeCounty',\n",
              "       'awardeeDistrictCode', 'awardeeName', 'awardeeStateCode',\n",
              "       'awardeeZipCode', 'cfdaNumber', 'month_date', 'day_date', 'Year_date',\n",
              "       'dunsNumber', 'estimatedTotalAmt', 'expDate 1', 'expDate 2',\n",
              "       'expDate 3', 'fundAgencyCode', 'fundProgramName', 'fundsObligatedAmt',\n",
              "       'id', 'parentDunsNumber', 'pdPIName', 'perfAddress', 'perfCity',\n",
              "       'perfCountryCode', 'perfLocation', 'perfZipCode', 'piEmail',\n",
              "       'piFirstName', 'piLastName', 'piMiddeInitial', 'piPhone', 'poEmail',\n",
              "       'startDate', 'title', 'transType', 'perfCounty', 'perfDistrictCode',\n",
              "       'perfStateCode', 'primaryProgram', 'coPDPI', 'poName', 'poPhone',\n",
              "       'publicationResearch', 'publicationConference',\n",
              "       'projectOutComesReport'],\n",
              "      dtype='object')"
            ]
          },
          "execution_count": 117,
          "metadata": {},
          "output_type": "execute_result"
        }
      ],
      "source": [
        "nsf.columns\n"
      ]
    },
    {
      "attachments": {},
      "cell_type": "markdown",
      "metadata": {},
      "source": [
        "Filling the missing county"
      ]
    },
    {
      "cell_type": "code",
      "execution_count": 118,
      "metadata": {},
      "outputs": [],
      "source": [
        "mapping = nsf.groupby('awardee')['awardeeCounty'].first().to_dict()\n",
        "nsf['awardeeCounty'] = nsf['awardeeCounty'].fillna(nsf['awardee'].map(mapping))"
      ]
    },
    {
      "attachments": {},
      "cell_type": "markdown",
      "metadata": {},
      "source": [
        "Keeping only the funding with fundProgramName specified "
      ]
    },
    {
      "cell_type": "code",
      "execution_count": 141,
      "metadata": {},
      "outputs": [],
      "source": [
        "nsf = nsf[~nsf['fundProgramName'].isna()]"
      ]
    },
    {
      "attachments": {},
      "cell_type": "markdown",
      "metadata": {},
      "source": [
        "# Extracting the Universities that has missing county\n",
        "We need to use this list to find the county and later use the filled file to map this location back to the main file"
      ]
    },
    {
      "cell_type": "code",
      "execution_count": 142,
      "metadata": {},
      "outputs": [
        {
          "data": {
            "text/html": [
              "<div>\n",
              "<style scoped>\n",
              "    .dataframe tbody tr th:only-of-type {\n",
              "        vertical-align: middle;\n",
              "    }\n",
              "\n",
              "    .dataframe tbody tr th {\n",
              "        vertical-align: top;\n",
              "    }\n",
              "\n",
              "    .dataframe thead th {\n",
              "        text-align: right;\n",
              "    }\n",
              "</style>\n",
              "<table border=\"1\" class=\"dataframe\">\n",
              "  <thead>\n",
              "    <tr style=\"text-align: right;\">\n",
              "      <th></th>\n",
              "      <th>Column</th>\n",
              "      <th>abstractText</th>\n",
              "      <th>agency</th>\n",
              "      <th>awardAgencyCode</th>\n",
              "      <th>awardee</th>\n",
              "      <th>awardeeAddress</th>\n",
              "      <th>awardeeCity</th>\n",
              "      <th>awardeeCountryCode</th>\n",
              "      <th>awardeeCounty</th>\n",
              "      <th>awardeeDistrictCode</th>\n",
              "      <th>...</th>\n",
              "      <th>perfCounty</th>\n",
              "      <th>perfDistrictCode</th>\n",
              "      <th>perfStateCode</th>\n",
              "      <th>primaryProgram</th>\n",
              "      <th>coPDPI</th>\n",
              "      <th>poName</th>\n",
              "      <th>poPhone</th>\n",
              "      <th>publicationResearch</th>\n",
              "      <th>publicationConference</th>\n",
              "      <th>projectOutComesReport</th>\n",
              "    </tr>\n",
              "  </thead>\n",
              "  <tbody>\n",
              "    <tr>\n",
              "      <th>8</th>\n",
              "      <td>7</td>\n",
              "      <td>Continuous aseptic processing and packaging is...</td>\n",
              "      <td>NSF</td>\n",
              "      <td>4900.0</td>\n",
              "      <td>NORTH CAROLINA STATE UNIVERSITY</td>\n",
              "      <td>2601 Wolf Village Way</td>\n",
              "      <td>Raleigh</td>\n",
              "      <td>US</td>\n",
              "      <td>None</td>\n",
              "      <td>NC04</td>\n",
              "      <td>...</td>\n",
              "      <td>NaN</td>\n",
              "      <td>NaN</td>\n",
              "      <td>NaN</td>\n",
              "      <td>NaN</td>\n",
              "      <td>NaN</td>\n",
              "      <td>NaN</td>\n",
              "      <td>NaN</td>\n",
              "      <td>NaN</td>\n",
              "      <td>NaN</td>\n",
              "      <td>NaN</td>\n",
              "    </tr>\n",
              "    <tr>\n",
              "      <th>368</th>\n",
              "      <td>38</td>\n",
              "      <td>The Trek of the Mammoth is a three-week multid...</td>\n",
              "      <td>NSF</td>\n",
              "      <td>4900.0</td>\n",
              "      <td>CHADRON STATE COLLEGE</td>\n",
              "      <td>10th and Main Streets</td>\n",
              "      <td>chadron</td>\n",
              "      <td>US</td>\n",
              "      <td>None</td>\n",
              "      <td>NE03</td>\n",
              "      <td>...</td>\n",
              "      <td>NaN</td>\n",
              "      <td>NaN</td>\n",
              "      <td>NaN</td>\n",
              "      <td>NaN</td>\n",
              "      <td>Ronald R Weedon</td>\n",
              "      <td>NaN</td>\n",
              "      <td>NaN</td>\n",
              "      <td>NaN</td>\n",
              "      <td>NaN</td>\n",
              "      <td>NaN</td>\n",
              "    </tr>\n",
              "    <tr>\n",
              "      <th>385</th>\n",
              "      <td>55</td>\n",
              "      <td>This three-year project is designed to improve...</td>\n",
              "      <td>NSF</td>\n",
              "      <td>4900.0</td>\n",
              "      <td>MCNEESE STATE UNIVERSITY</td>\n",
              "      <td>Box 90655</td>\n",
              "      <td>Lake Charles</td>\n",
              "      <td>US</td>\n",
              "      <td>None</td>\n",
              "      <td>LA07</td>\n",
              "      <td>...</td>\n",
              "      <td>NaN</td>\n",
              "      <td>NaN</td>\n",
              "      <td>NaN</td>\n",
              "      <td>NaN</td>\n",
              "      <td>Gary D Kratzer</td>\n",
              "      <td>NaN</td>\n",
              "      <td>NaN</td>\n",
              "      <td>NaN</td>\n",
              "      <td>NaN</td>\n",
              "      <td>NaN</td>\n",
              "    </tr>\n",
              "    <tr>\n",
              "      <th>924</th>\n",
              "      <td>7</td>\n",
              "      <td>PROJECT PTRA-PLUS is a program of the American...</td>\n",
              "      <td>NSF</td>\n",
              "      <td>4900.0</td>\n",
              "      <td>AMERICAN ASSOCIATION OF PHYSICS TEACHERS INC</td>\n",
              "      <td>One Physics Ellipse</td>\n",
              "      <td>College Park</td>\n",
              "      <td>US</td>\n",
              "      <td>None</td>\n",
              "      <td>MD05</td>\n",
              "      <td>...</td>\n",
              "      <td>NaN</td>\n",
              "      <td>MD05</td>\n",
              "      <td>MD</td>\n",
              "      <td>490106 NSF, EDUCATION &amp; HUMAN RESOURC</td>\n",
              "      <td>James H Nelson</td>\n",
              "      <td>NaN</td>\n",
              "      <td>NaN</td>\n",
              "      <td>NaN</td>\n",
              "      <td>NaN</td>\n",
              "      <td>NaN</td>\n",
              "    </tr>\n",
              "    <tr>\n",
              "      <th>993</th>\n",
              "      <td>76</td>\n",
              "      <td>The Bermuda Biological Station will receive su...</td>\n",
              "      <td>NSF</td>\n",
              "      <td>4900.0</td>\n",
              "      <td>BERMUDA INSTITUTE OF OCEAN SCIENCES (BIOS) INC.</td>\n",
              "      <td>17 Biological Station</td>\n",
              "      <td>St. George's    GE01</td>\n",
              "      <td>BD</td>\n",
              "      <td>None</td>\n",
              "      <td>NaN</td>\n",
              "      <td>...</td>\n",
              "      <td>NaN</td>\n",
              "      <td>NaN</td>\n",
              "      <td>NaN</td>\n",
              "      <td>490100 NSF RESEARCH &amp; RELATED ACTIVIT</td>\n",
              "      <td>NaN</td>\n",
              "      <td>NaN</td>\n",
              "      <td>NaN</td>\n",
              "      <td>NaN</td>\n",
              "      <td>NaN</td>\n",
              "      <td>NaN</td>\n",
              "    </tr>\n",
              "    <tr>\n",
              "      <th>...</th>\n",
              "      <td>...</td>\n",
              "      <td>...</td>\n",
              "      <td>...</td>\n",
              "      <td>...</td>\n",
              "      <td>...</td>\n",
              "      <td>...</td>\n",
              "      <td>...</td>\n",
              "      <td>...</td>\n",
              "      <td>...</td>\n",
              "      <td>...</td>\n",
              "      <td>...</td>\n",
              "      <td>...</td>\n",
              "      <td>...</td>\n",
              "      <td>...</td>\n",
              "      <td>...</td>\n",
              "      <td>...</td>\n",
              "      <td>...</td>\n",
              "      <td>...</td>\n",
              "      <td>...</td>\n",
              "      <td>...</td>\n",
              "      <td>...</td>\n",
              "    </tr>\n",
              "    <tr>\n",
              "      <th>191110</th>\n",
              "      <td>11257</td>\n",
              "      <td>New cryptographic systems can improve the secu...</td>\n",
              "      <td>NSF</td>\n",
              "      <td>4900.0</td>\n",
              "      <td>NORTH CAROLINA STATE UNIVERSITY</td>\n",
              "      <td>2601 Wolf Village Way</td>\n",
              "      <td>Raleigh</td>\n",
              "      <td>US</td>\n",
              "      <td>None</td>\n",
              "      <td>NC04</td>\n",
              "      <td>...</td>\n",
              "      <td>RALEIGH</td>\n",
              "      <td>NC02</td>\n",
              "      <td>NC</td>\n",
              "      <td>NaN</td>\n",
              "      <td>NaN</td>\n",
              "      <td>Sankar Basu</td>\n",
              "      <td>7.032928e+09</td>\n",
              "      <td>NaN</td>\n",
              "      <td>NaN</td>\n",
              "      <td>NaN</td>\n",
              "    </tr>\n",
              "    <tr>\n",
              "      <th>191356</th>\n",
              "      <td>11503</td>\n",
              "      <td>The U.S. Southwest is a drought-prone region t...</td>\n",
              "      <td>NSF</td>\n",
              "      <td>4900.0</td>\n",
              "      <td>NaN</td>\n",
              "      <td>NaN</td>\n",
              "      <td>Ann Arbor</td>\n",
              "      <td>US</td>\n",
              "      <td>NaN</td>\n",
              "      <td>MI</td>\n",
              "      <td>...</td>\n",
              "      <td>DAVIS</td>\n",
              "      <td>CA04</td>\n",
              "      <td>CA</td>\n",
              "      <td>NaN</td>\n",
              "      <td>NaN</td>\n",
              "      <td>Soumaya Belmecheri</td>\n",
              "      <td>7.032929e+09</td>\n",
              "      <td>Macarewich, Sophia I. and Poulsen, Christopher...</td>\n",
              "      <td>NaN</td>\n",
              "      <td>Water resource use in the southwestern U.S. (h...</td>\n",
              "    </tr>\n",
              "    <tr>\n",
              "      <th>191433</th>\n",
              "      <td>11580</td>\n",
              "      <td>Extreme weather events (heat waves and cold sn...</td>\n",
              "      <td>NSF</td>\n",
              "      <td>4900.0</td>\n",
              "      <td>NORTH CAROLINA STATE UNIVERSITY</td>\n",
              "      <td>2601 Wolf Village Way</td>\n",
              "      <td>Raleigh</td>\n",
              "      <td>US</td>\n",
              "      <td>None</td>\n",
              "      <td>NC04</td>\n",
              "      <td>...</td>\n",
              "      <td>Raleigh</td>\n",
              "      <td>NC02</td>\n",
              "      <td>NC</td>\n",
              "      <td>NaN</td>\n",
              "      <td>NaN</td>\n",
              "      <td>Bruce Hamilton</td>\n",
              "      <td>7.032920e+09</td>\n",
              "      <td>NaN</td>\n",
              "      <td>NaN</td>\n",
              "      <td>NaN</td>\n",
              "    </tr>\n",
              "    <tr>\n",
              "      <th>191476</th>\n",
              "      <td>11623</td>\n",
              "      <td>This award is funded in whole or in part under...</td>\n",
              "      <td>NSF</td>\n",
              "      <td>4900.0</td>\n",
              "      <td>NORTH CAROLINA STATE UNIVERSITY</td>\n",
              "      <td>2601 Wolf Village Way</td>\n",
              "      <td>Raleigh</td>\n",
              "      <td>US</td>\n",
              "      <td>None</td>\n",
              "      <td>NC04</td>\n",
              "      <td>...</td>\n",
              "      <td>RALEIGH</td>\n",
              "      <td>NC02</td>\n",
              "      <td>NC</td>\n",
              "      <td>NaN</td>\n",
              "      <td>NaN</td>\n",
              "      <td>Bianca Garner</td>\n",
              "      <td>7.032928e+09</td>\n",
              "      <td>NaN</td>\n",
              "      <td>NaN</td>\n",
              "      <td>NaN</td>\n",
              "    </tr>\n",
              "    <tr>\n",
              "      <th>191543</th>\n",
              "      <td>11690</td>\n",
              "      <td>The broader impact /commercial potential of th...</td>\n",
              "      <td>NSF</td>\n",
              "      <td>4900.0</td>\n",
              "      <td>LIV LABS INC.</td>\n",
              "      <td>1415 LAKE AVE</td>\n",
              "      <td>Wilmette</td>\n",
              "      <td>US</td>\n",
              "      <td>None</td>\n",
              "      <td>IL02</td>\n",
              "      <td>...</td>\n",
              "      <td>BOSTON</td>\n",
              "      <td>MA07</td>\n",
              "      <td>MA</td>\n",
              "      <td>NaN</td>\n",
              "      <td>Holly B Jimison</td>\n",
              "      <td>Alastair Monk</td>\n",
              "      <td>7.032924e+09</td>\n",
              "      <td>NaN</td>\n",
              "      <td>NaN</td>\n",
              "      <td>NaN</td>\n",
              "    </tr>\n",
              "  </tbody>\n",
              "</table>\n",
              "<p>3773 rows × 52 columns</p>\n",
              "</div>"
            ],
            "text/plain": [
              "        Column                                       abstractText agency  \\\n",
              "8            7  Continuous aseptic processing and packaging is...    NSF   \n",
              "368         38  The Trek of the Mammoth is a three-week multid...    NSF   \n",
              "385         55  This three-year project is designed to improve...    NSF   \n",
              "924          7  PROJECT PTRA-PLUS is a program of the American...    NSF   \n",
              "993         76  The Bermuda Biological Station will receive su...    NSF   \n",
              "...        ...                                                ...    ...   \n",
              "191110   11257  New cryptographic systems can improve the secu...    NSF   \n",
              "191356   11503  The U.S. Southwest is a drought-prone region t...    NSF   \n",
              "191433   11580  Extreme weather events (heat waves and cold sn...    NSF   \n",
              "191476   11623  This award is funded in whole or in part under...    NSF   \n",
              "191543   11690  The broader impact /commercial potential of th...    NSF   \n",
              "\n",
              "        awardAgencyCode                                          awardee  \\\n",
              "8                4900.0                  NORTH CAROLINA STATE UNIVERSITY   \n",
              "368              4900.0                            CHADRON STATE COLLEGE   \n",
              "385              4900.0                         MCNEESE STATE UNIVERSITY   \n",
              "924              4900.0     AMERICAN ASSOCIATION OF PHYSICS TEACHERS INC   \n",
              "993              4900.0  BERMUDA INSTITUTE OF OCEAN SCIENCES (BIOS) INC.   \n",
              "...                 ...                                              ...   \n",
              "191110           4900.0                  NORTH CAROLINA STATE UNIVERSITY   \n",
              "191356           4900.0                                              NaN   \n",
              "191433           4900.0                  NORTH CAROLINA STATE UNIVERSITY   \n",
              "191476           4900.0                  NORTH CAROLINA STATE UNIVERSITY   \n",
              "191543           4900.0                                    LIV LABS INC.   \n",
              "\n",
              "               awardeeAddress           awardeeCity awardeeCountryCode  \\\n",
              "8       2601 Wolf Village Way               Raleigh                 US   \n",
              "368     10th and Main Streets               chadron                 US   \n",
              "385                 Box 90655          Lake Charles                 US   \n",
              "924       One Physics Ellipse          College Park                 US   \n",
              "993     17 Biological Station  St. George's    GE01                 BD   \n",
              "...                       ...                   ...                ...   \n",
              "191110  2601 Wolf Village Way               Raleigh                 US   \n",
              "191356                    NaN             Ann Arbor                 US   \n",
              "191433  2601 Wolf Village Way               Raleigh                 US   \n",
              "191476  2601 Wolf Village Way               Raleigh                 US   \n",
              "191543          1415 LAKE AVE              Wilmette                 US   \n",
              "\n",
              "       awardeeCounty awardeeDistrictCode  ... perfCounty perfDistrictCode  \\\n",
              "8               None                NC04  ...        NaN              NaN   \n",
              "368             None                NE03  ...        NaN              NaN   \n",
              "385             None                LA07  ...        NaN              NaN   \n",
              "924             None                MD05  ...        NaN             MD05   \n",
              "993             None                 NaN  ...        NaN              NaN   \n",
              "...              ...                 ...  ...        ...              ...   \n",
              "191110          None                NC04  ...    RALEIGH             NC02   \n",
              "191356           NaN                  MI  ...      DAVIS             CA04   \n",
              "191433          None                NC04  ...    Raleigh             NC02   \n",
              "191476          None                NC04  ...    RALEIGH             NC02   \n",
              "191543          None                IL02  ...     BOSTON             MA07   \n",
              "\n",
              "       perfStateCode                         primaryProgram           coPDPI  \\\n",
              "8                NaN                                    NaN              NaN   \n",
              "368              NaN                                    NaN  Ronald R Weedon   \n",
              "385              NaN                                    NaN   Gary D Kratzer   \n",
              "924               MD  490106 NSF, EDUCATION & HUMAN RESOURC   James H Nelson   \n",
              "993              NaN  490100 NSF RESEARCH & RELATED ACTIVIT              NaN   \n",
              "...              ...                                    ...              ...   \n",
              "191110            NC                                    NaN              NaN   \n",
              "191356            CA                                    NaN              NaN   \n",
              "191433            NC                                    NaN              NaN   \n",
              "191476            NC                                    NaN              NaN   \n",
              "191543            MA                                    NaN  Holly B Jimison   \n",
              "\n",
              "                    poName       poPhone  \\\n",
              "8                      NaN           NaN   \n",
              "368                    NaN           NaN   \n",
              "385                    NaN           NaN   \n",
              "924                    NaN           NaN   \n",
              "993                    NaN           NaN   \n",
              "...                    ...           ...   \n",
              "191110         Sankar Basu  7.032928e+09   \n",
              "191356  Soumaya Belmecheri  7.032929e+09   \n",
              "191433      Bruce Hamilton  7.032920e+09   \n",
              "191476       Bianca Garner  7.032928e+09   \n",
              "191543       Alastair Monk  7.032924e+09   \n",
              "\n",
              "                                      publicationResearch  \\\n",
              "8                                                     NaN   \n",
              "368                                                   NaN   \n",
              "385                                                   NaN   \n",
              "924                                                   NaN   \n",
              "993                                                   NaN   \n",
              "...                                                   ...   \n",
              "191110                                                NaN   \n",
              "191356  Macarewich, Sophia I. and Poulsen, Christopher...   \n",
              "191433                                                NaN   \n",
              "191476                                                NaN   \n",
              "191543                                                NaN   \n",
              "\n",
              "        publicationConference  \\\n",
              "8                         NaN   \n",
              "368                       NaN   \n",
              "385                       NaN   \n",
              "924                       NaN   \n",
              "993                       NaN   \n",
              "...                       ...   \n",
              "191110                    NaN   \n",
              "191356                    NaN   \n",
              "191433                    NaN   \n",
              "191476                    NaN   \n",
              "191543                    NaN   \n",
              "\n",
              "                                    projectOutComesReport  \n",
              "8                                                     NaN  \n",
              "368                                                   NaN  \n",
              "385                                                   NaN  \n",
              "924                                                   NaN  \n",
              "993                                                   NaN  \n",
              "...                                                   ...  \n",
              "191110                                                NaN  \n",
              "191356  Water resource use in the southwestern U.S. (h...  \n",
              "191433                                                NaN  \n",
              "191476                                                NaN  \n",
              "191543                                                NaN  \n",
              "\n",
              "[3773 rows x 52 columns]"
            ]
          },
          "execution_count": 142,
          "metadata": {},
          "output_type": "execute_result"
        }
      ],
      "source": [
        "nsf[nsf['awardeeCounty'].isna()]"
      ]
    },
    {
      "cell_type": "code",
      "execution_count": 143,
      "metadata": {},
      "outputs": [],
      "source": [
        "filtered_nsf = nsf[nsf['awardeeCounty'].isna()].drop_duplicates(subset='awardee')\n",
        "filtered_nsf.to_csv(base/ \"missing_NSF.csv\", index = False)\n"
      ]
    },
    {
      "attachments": {},
      "cell_type": "markdown",
      "metadata": {},
      "source": [
        "Code for filling the missing value should come here"
      ]
    },
    {
      "cell_type": "code",
      "execution_count": 105,
      "metadata": {},
      "outputs": [
        {
          "data": {
            "text/plain": [
              "191555"
            ]
          },
          "execution_count": 105,
          "metadata": {},
          "output_type": "execute_result"
        }
      ],
      "source": []
    },
    {
      "cell_type": "code",
      "execution_count": 111,
      "metadata": {},
      "outputs": [],
      "source": [
        "# missing_values = dfp[dfp['awardeeCounty'].isna()]\n",
        "# for index,row in missing_values.iterrows():\n",
        "#   key = row[\"awardeeName\"]\n",
        "#   mat = dfc[dfc['awardeeName']== key]\n",
        "#   if mat.shape[0]>0:\n",
        "#     dfp.at[index, dfp.columns[1]] = mat.iloc[0][dfc.columns[8]]\n",
        "# mat.shape\n",
        "#dfp.to_csv(\"I-corp-Full.csv\") #for unknown reason we still have 1 missing county \"Chautauqua County\" (manually imputed)"
      ]
    },
    {
      "cell_type": "code",
      "execution_count": null,
      "metadata": {},
      "outputs": [],
      "source": [
        "# df1 = df[['awardeeName', 'awardeeCounty']]\n",
        "# df2 = dfc[['awardeeName', 'awardeeCounty']]\n",
        "# dfc.columns[8]"
      ]
    },
    {
      "cell_type": "code",
      "execution_count": null,
      "metadata": {},
      "outputs": [],
      "source": [
        "# pd.set_option('display.max_columns', None)\n",
        "# df=pd.read_csv('genICorp.csv') \n",
        "# dfp=pd.read_csv('Panel2.csv') #using the already organized data\n",
        "# dfc = pd.read_csv(\"I-Corp_county.csv\") # This is the file I manually updated the county column\n",
        "\n",
        "# #File to create the panel\n",
        "# dfp = pd.read_csv(\"I-corp-Full.csv\")"
      ]
    },
    {
      "attachments": {},
      "cell_type": "markdown",
      "metadata": {},
      "source": [
        "Creating the file with no missing values (later we don't need this because we will have all the Universities with their respective county)"
      ]
    },
    {
      "cell_type": "code",
      "execution_count": 145,
      "metadata": {},
      "outputs": [
        {
          "data": {
            "text/plain": [
              "(187755, 52)"
            ]
          },
          "execution_count": 145,
          "metadata": {},
          "output_type": "execute_result"
        }
      ],
      "source": [
        "nsf_all = nsf[~nsf['awardeeCounty'].isna()] #187755 + 3773 (correct)"
      ]
    },
    {
      "attachments": {},
      "cell_type": "markdown",
      "metadata": {},
      "source": [
        "Creating the first panel"
      ]
    },
    {
      "cell_type": "code",
      "execution_count": 147,
      "metadata": {},
      "outputs": [],
      "source": [
        "def cross_to_panel(df):\n",
        "    df = df.set_index(['Year_date','awardeeCounty'])\n",
        "    df = df.sort_index()\n",
        "    return df\n",
        "panel_data = cross_to_panel(nsf_all)\n",
        "#panel_data.to_csv('panel2.csv')\n",
        "\n",
        "# def cross_to_panel(df):\n",
        "#     df['date'] = pd.to_datetime(df['Year_date'], format='%Y')\n",
        "#     df['year'] = df['date'].dt.year\n",
        "#     df = df.set_index(['year', 'awardeeCounty'])\n",
        "#     return df\n",
        "\n",
        "# # Example usage\n",
        "\n",
        "# panel_data = cross_to_panel(df)\n",
        "# panel_data.to_csv('cross2.csv')\n",
        "#panel_data"
      ]
    },
    {
      "cell_type": "code",
      "execution_count": null,
      "metadata": {},
      "outputs": [],
      "source": []
    },
    {
      "attachments": {},
      "cell_type": "markdown",
      "metadata": {},
      "source": [
        "Creating the Panel with aggregation (I think we don't need this)"
      ]
    },
    {
      "cell_type": "code",
      "execution_count": 148,
      "metadata": {},
      "outputs": [],
      "source": [
        "#grouped_multiple = df.groupby(['Year_date', 'awardeeCounty'])\n",
        "#grouped_multiple = grouped_multiple.reset_index()\n",
        "#print(grouped_multiple)\n",
        "\n",
        "# p_table = pd.pivot_table(nsf_all, index = ['Year_date',\"awardeeCounty\"])\n",
        "# p_table.to_csv(\"panel_nsf_all.csv\")\n",
        "# p_table"
      ]
    },
    {
      "cell_type": "code",
      "execution_count": null,
      "metadata": {},
      "outputs": [],
      "source": []
    },
    {
      "cell_type": "code",
      "execution_count": null,
      "metadata": {},
      "outputs": [],
      "source": []
    },
    {
      "cell_type": "code",
      "execution_count": null,
      "metadata": {},
      "outputs": [],
      "source": []
    },
    {
      "cell_type": "code",
      "execution_count": null,
      "metadata": {},
      "outputs": [],
      "source": []
    },
    {
      "cell_type": "code",
      "execution_count": null,
      "metadata": {},
      "outputs": [],
      "source": []
    },
    {
      "cell_type": "code",
      "execution_count": null,
      "metadata": {},
      "outputs": [],
      "source": []
    },
    {
      "attachments": {},
      "cell_type": "markdown",
      "metadata": {},
      "source": [
        "# Repeating the same process we did for I-Corps "
      ]
    },
    {
      "cell_type": "code",
      "execution_count": 149,
      "metadata": {},
      "outputs": [],
      "source": [
        "data = nsf_all.copy()"
      ]
    },
    {
      "attachments": {},
      "cell_type": "markdown",
      "metadata": {},
      "source": [
        "Creating Filters to get the correct programs"
      ]
    },
    {
      "cell_type": "code",
      "execution_count": 155,
      "metadata": {},
      "outputs": [
        {
          "data": {
            "text/plain": [
              "1183"
            ]
          },
          "execution_count": 155,
          "metadata": {},
          "output_type": "execute_result"
        }
      ],
      "source": [
        "programs = data.fundProgramName.unique()\n",
        "len(programs)"
      ]
    },
    {
      "cell_type": "code",
      "execution_count": 162,
      "metadata": {},
      "outputs": [
        {
          "data": {
            "text/html": [
              "<div>\n",
              "<style scoped>\n",
              "    .dataframe tbody tr th:only-of-type {\n",
              "        vertical-align: middle;\n",
              "    }\n",
              "\n",
              "    .dataframe tbody tr th {\n",
              "        vertical-align: top;\n",
              "    }\n",
              "\n",
              "    .dataframe thead th {\n",
              "        text-align: right;\n",
              "    }\n",
              "</style>\n",
              "<table border=\"1\" class=\"dataframe\">\n",
              "  <thead>\n",
              "    <tr style=\"text-align: right;\">\n",
              "      <th></th>\n",
              "      <th>Column</th>\n",
              "      <th>abstractText</th>\n",
              "      <th>agency</th>\n",
              "      <th>awardAgencyCode</th>\n",
              "      <th>awardee</th>\n",
              "      <th>awardeeAddress</th>\n",
              "      <th>awardeeCity</th>\n",
              "      <th>awardeeCountryCode</th>\n",
              "      <th>awardeeCounty</th>\n",
              "      <th>awardeeDistrictCode</th>\n",
              "      <th>...</th>\n",
              "      <th>perfCounty</th>\n",
              "      <th>perfDistrictCode</th>\n",
              "      <th>perfStateCode</th>\n",
              "      <th>primaryProgram</th>\n",
              "      <th>coPDPI</th>\n",
              "      <th>poName</th>\n",
              "      <th>poPhone</th>\n",
              "      <th>publicationResearch</th>\n",
              "      <th>publicationConference</th>\n",
              "      <th>projectOutComesReport</th>\n",
              "    </tr>\n",
              "  </thead>\n",
              "  <tbody>\n",
              "    <tr>\n",
              "      <th>11262</th>\n",
              "      <td>224</td>\n",
              "      <td>9360320 Spooner  This project is funded under ...</td>\n",
              "      <td>NSF</td>\n",
              "      <td>4900.0</td>\n",
              "      <td>MISSION RESEARCH CORPORATION</td>\n",
              "      <td>735 State Street</td>\n",
              "      <td>Santa Barbara</td>\n",
              "      <td>US</td>\n",
              "      <td>Santa Barbara</td>\n",
              "      <td>CA24</td>\n",
              "      <td>...</td>\n",
              "      <td>Santa Barbara</td>\n",
              "      <td>CA24</td>\n",
              "      <td>CA</td>\n",
              "      <td>NaN</td>\n",
              "      <td>NaN</td>\n",
              "      <td>NaN</td>\n",
              "      <td>NaN</td>\n",
              "      <td>NaN</td>\n",
              "      <td>NaN</td>\n",
              "      <td>NaN</td>\n",
              "    </tr>\n",
              "    <tr>\n",
              "      <th>11288</th>\n",
              "      <td>250</td>\n",
              "      <td>9360294 Abramson  This project is funded under...</td>\n",
              "      <td>NSF</td>\n",
              "      <td>4900.0</td>\n",
              "      <td>OUSD(AT&amp;L)</td>\n",
              "      <td>P.O. Box 1838</td>\n",
              "      <td>Honolulu</td>\n",
              "      <td>US</td>\n",
              "      <td>Honolulu</td>\n",
              "      <td>HI01</td>\n",
              "      <td>...</td>\n",
              "      <td>Honolulu</td>\n",
              "      <td>HI01</td>\n",
              "      <td>HI</td>\n",
              "      <td>NaN</td>\n",
              "      <td>NaN</td>\n",
              "      <td>NaN</td>\n",
              "      <td>NaN</td>\n",
              "      <td>NaN</td>\n",
              "      <td>NaN</td>\n",
              "      <td>NaN</td>\n",
              "    </tr>\n",
              "    <tr>\n",
              "      <th>11289</th>\n",
              "      <td>251</td>\n",
              "      <td>WPC                2           B         J    ...</td>\n",
              "      <td>NSF</td>\n",
              "      <td>4900.0</td>\n",
              "      <td>OUSD(AT&amp;L)</td>\n",
              "      <td>2402 Clover Basin Drive</td>\n",
              "      <td>LONGMONT</td>\n",
              "      <td>US</td>\n",
              "      <td>Longmont</td>\n",
              "      <td>CO04</td>\n",
              "      <td>...</td>\n",
              "      <td>Longmont</td>\n",
              "      <td>CO04</td>\n",
              "      <td>CO</td>\n",
              "      <td>NaN</td>\n",
              "      <td>NaN</td>\n",
              "      <td>NaN</td>\n",
              "      <td>NaN</td>\n",
              "      <td>NaN</td>\n",
              "      <td>NaN</td>\n",
              "      <td>NaN</td>\n",
              "    </tr>\n",
              "    <tr>\n",
              "      <th>11295</th>\n",
              "      <td>257</td>\n",
              "      <td>9361690 Jacobsmeyer  This project is funded un...</td>\n",
              "      <td>NSF</td>\n",
              "      <td>4900.0</td>\n",
              "      <td>OUSD(AT&amp;L)</td>\n",
              "      <td>P O Box 50378</td>\n",
              "      <td>Colorado Springs</td>\n",
              "      <td>US</td>\n",
              "      <td>Colorado Springs</td>\n",
              "      <td>CO05</td>\n",
              "      <td>...</td>\n",
              "      <td>Colorado Springs</td>\n",
              "      <td>CO05</td>\n",
              "      <td>CO</td>\n",
              "      <td>NaN</td>\n",
              "      <td>NaN</td>\n",
              "      <td>NaN</td>\n",
              "      <td>NaN</td>\n",
              "      <td>NaN</td>\n",
              "      <td>NaN</td>\n",
              "      <td>NaN</td>\n",
              "    </tr>\n",
              "    <tr>\n",
              "      <th>11854</th>\n",
              "      <td>816</td>\n",
              "      <td>A method is proposed to enable full-energy inj...</td>\n",
              "      <td>NSF</td>\n",
              "      <td>4900.0</td>\n",
              "      <td>DULY RESEARCH, INC.</td>\n",
              "      <td>1912 MacArthur Street</td>\n",
              "      <td>Rancho Palos Verdes</td>\n",
              "      <td>US</td>\n",
              "      <td>Rancho Palos Verdes</td>\n",
              "      <td>CA33</td>\n",
              "      <td>...</td>\n",
              "      <td>Rancho Palos Verdes</td>\n",
              "      <td>CA33</td>\n",
              "      <td>CA</td>\n",
              "      <td>NaN</td>\n",
              "      <td>NaN</td>\n",
              "      <td>NaN</td>\n",
              "      <td>NaN</td>\n",
              "      <td>NaN</td>\n",
              "      <td>NaN</td>\n",
              "      <td>NaN</td>\n",
              "    </tr>\n",
              "    <tr>\n",
              "      <th>...</th>\n",
              "      <td>...</td>\n",
              "      <td>...</td>\n",
              "      <td>...</td>\n",
              "      <td>...</td>\n",
              "      <td>...</td>\n",
              "      <td>...</td>\n",
              "      <td>...</td>\n",
              "      <td>...</td>\n",
              "      <td>...</td>\n",
              "      <td>...</td>\n",
              "      <td>...</td>\n",
              "      <td>...</td>\n",
              "      <td>...</td>\n",
              "      <td>...</td>\n",
              "      <td>...</td>\n",
              "      <td>...</td>\n",
              "      <td>...</td>\n",
              "      <td>...</td>\n",
              "      <td>...</td>\n",
              "      <td>...</td>\n",
              "      <td>...</td>\n",
              "    </tr>\n",
              "    <tr>\n",
              "      <th>191395</th>\n",
              "      <td>11542</td>\n",
              "      <td>The broader impact /commercial potential of th...</td>\n",
              "      <td>NSF</td>\n",
              "      <td>4900.0</td>\n",
              "      <td>INNOVISION, LLC.</td>\n",
              "      <td>5600 KENTSHIRE DRIVE, UNIT 5</td>\n",
              "      <td>DAYTON</td>\n",
              "      <td>US</td>\n",
              "      <td>Dayton</td>\n",
              "      <td>OH10</td>\n",
              "      <td>...</td>\n",
              "      <td>DAYTON</td>\n",
              "      <td>OH10</td>\n",
              "      <td>OH</td>\n",
              "      <td>NaN</td>\n",
              "      <td>NaN</td>\n",
              "      <td>Alastair Monk</td>\n",
              "      <td>7.032924e+09</td>\n",
              "      <td>NaN</td>\n",
              "      <td>NaN</td>\n",
              "      <td>Scoliosis is an abnormal curvature of the spin...</td>\n",
              "    </tr>\n",
              "    <tr>\n",
              "      <th>191398</th>\n",
              "      <td>11545</td>\n",
              "      <td>The broader impact of this Small Business Inno...</td>\n",
              "      <td>NSF</td>\n",
              "      <td>4900.0</td>\n",
              "      <td>CIPHERMODE LABS, INC.</td>\n",
              "      <td>445 S FIGUEROA ST STE 3190</td>\n",
              "      <td>LOS ANGELES</td>\n",
              "      <td>US</td>\n",
              "      <td>Los Angeles</td>\n",
              "      <td>CA</td>\n",
              "      <td>...</td>\n",
              "      <td>LOS ANGELES</td>\n",
              "      <td>CA37</td>\n",
              "      <td>CA</td>\n",
              "      <td>NaN</td>\n",
              "      <td>NaN</td>\n",
              "      <td>Peter Atherton</td>\n",
              "      <td>7.032929e+09</td>\n",
              "      <td>NaN</td>\n",
              "      <td>NaN</td>\n",
              "      <td>This project proposes a new software platform ...</td>\n",
              "    </tr>\n",
              "    <tr>\n",
              "      <th>191491</th>\n",
              "      <td>11638</td>\n",
              "      <td>The broader impact /commercial potential of th...</td>\n",
              "      <td>NSF</td>\n",
              "      <td>4900.0</td>\n",
              "      <td>SURGIVANCE INC.</td>\n",
              "      <td>310 E 67TH ST</td>\n",
              "      <td>NEW YORK</td>\n",
              "      <td>US</td>\n",
              "      <td>New York</td>\n",
              "      <td>NY12</td>\n",
              "      <td>...</td>\n",
              "      <td>NEW YORK</td>\n",
              "      <td>NY12</td>\n",
              "      <td>NY</td>\n",
              "      <td>NaN</td>\n",
              "      <td>NaN</td>\n",
              "      <td>Alastair Monk</td>\n",
              "      <td>7.032924e+09</td>\n",
              "      <td>NaN</td>\n",
              "      <td>NaN</td>\n",
              "      <td>NaN</td>\n",
              "    </tr>\n",
              "    <tr>\n",
              "      <th>191535</th>\n",
              "      <td>11682</td>\n",
              "      <td>The broader impact/commercial potential of thi...</td>\n",
              "      <td>NSF</td>\n",
              "      <td>4900.0</td>\n",
              "      <td>OPEN SOURCE INSTRUMENTS INC.</td>\n",
              "      <td>22 BEDFORD ST</td>\n",
              "      <td>WALTHAM</td>\n",
              "      <td>US</td>\n",
              "      <td>Waltham</td>\n",
              "      <td>MA05</td>\n",
              "      <td>...</td>\n",
              "      <td>WATERTOWN</td>\n",
              "      <td>MA05</td>\n",
              "      <td>MA</td>\n",
              "      <td>NaN</td>\n",
              "      <td>NaN</td>\n",
              "      <td>Anna Brady</td>\n",
              "      <td>7.032927e+09</td>\n",
              "      <td>NaN</td>\n",
              "      <td>NaN</td>\n",
              "      <td>When we add up the masses of the galaxies that...</td>\n",
              "    </tr>\n",
              "    <tr>\n",
              "      <th>191537</th>\n",
              "      <td>11684</td>\n",
              "      <td>The broader impact/commercial potential of thi...</td>\n",
              "      <td>NSF</td>\n",
              "      <td>4900.0</td>\n",
              "      <td>NANOFLEX POWER CORPORATION</td>\n",
              "      <td>8950 E RAINTREE DR</td>\n",
              "      <td>SCOTTSDALE</td>\n",
              "      <td>US</td>\n",
              "      <td>Scottsdale</td>\n",
              "      <td>AZ</td>\n",
              "      <td>...</td>\n",
              "      <td>ANN ARBOR</td>\n",
              "      <td>MI06</td>\n",
              "      <td>MI</td>\n",
              "      <td>NaN</td>\n",
              "      <td>NaN</td>\n",
              "      <td>Samir M. Iqbal</td>\n",
              "      <td>7.032928e+09</td>\n",
              "      <td>NaN</td>\n",
              "      <td>NaN</td>\n",
              "      <td>1.0 Intellectual merit and broader impacts\\n\\n...</td>\n",
              "    </tr>\n",
              "  </tbody>\n",
              "</table>\n",
              "<p>1980 rows × 52 columns</p>\n",
              "</div>"
            ],
            "text/plain": [
              "        Column                                       abstractText agency  \\\n",
              "11262      224  9360320 Spooner  This project is funded under ...    NSF   \n",
              "11288      250  9360294 Abramson  This project is funded under...    NSF   \n",
              "11289      251  WPC                2           B         J    ...    NSF   \n",
              "11295      257  9361690 Jacobsmeyer  This project is funded un...    NSF   \n",
              "11854      816  A method is proposed to enable full-energy inj...    NSF   \n",
              "...        ...                                                ...    ...   \n",
              "191395   11542  The broader impact /commercial potential of th...    NSF   \n",
              "191398   11545  The broader impact of this Small Business Inno...    NSF   \n",
              "191491   11638  The broader impact /commercial potential of th...    NSF   \n",
              "191535   11682  The broader impact/commercial potential of thi...    NSF   \n",
              "191537   11684  The broader impact/commercial potential of thi...    NSF   \n",
              "\n",
              "        awardAgencyCode                       awardee  \\\n",
              "11262            4900.0  MISSION RESEARCH CORPORATION   \n",
              "11288            4900.0                    OUSD(AT&L)   \n",
              "11289            4900.0                    OUSD(AT&L)   \n",
              "11295            4900.0                    OUSD(AT&L)   \n",
              "11854            4900.0           DULY RESEARCH, INC.   \n",
              "...                 ...                           ...   \n",
              "191395           4900.0              INNOVISION, LLC.   \n",
              "191398           4900.0         CIPHERMODE LABS, INC.   \n",
              "191491           4900.0               SURGIVANCE INC.   \n",
              "191535           4900.0  OPEN SOURCE INSTRUMENTS INC.   \n",
              "191537           4900.0    NANOFLEX POWER CORPORATION   \n",
              "\n",
              "                      awardeeAddress          awardeeCity awardeeCountryCode  \\\n",
              "11262               735 State Street        Santa Barbara                 US   \n",
              "11288                  P.O. Box 1838             Honolulu                 US   \n",
              "11289        2402 Clover Basin Drive             LONGMONT                 US   \n",
              "11295                  P O Box 50378     Colorado Springs                 US   \n",
              "11854          1912 MacArthur Street  Rancho Palos Verdes                 US   \n",
              "...                              ...                  ...                ...   \n",
              "191395  5600 KENTSHIRE DRIVE, UNIT 5               DAYTON                 US   \n",
              "191398    445 S FIGUEROA ST STE 3190          LOS ANGELES                 US   \n",
              "191491                 310 E 67TH ST             NEW YORK                 US   \n",
              "191535                 22 BEDFORD ST              WALTHAM                 US   \n",
              "191537            8950 E RAINTREE DR           SCOTTSDALE                 US   \n",
              "\n",
              "              awardeeCounty awardeeDistrictCode  ...           perfCounty  \\\n",
              "11262         Santa Barbara                CA24  ...        Santa Barbara   \n",
              "11288              Honolulu                HI01  ...             Honolulu   \n",
              "11289              Longmont                CO04  ...             Longmont   \n",
              "11295      Colorado Springs                CO05  ...     Colorado Springs   \n",
              "11854   Rancho Palos Verdes                CA33  ...  Rancho Palos Verdes   \n",
              "...                     ...                 ...  ...                  ...   \n",
              "191395               Dayton                OH10  ...               DAYTON   \n",
              "191398          Los Angeles                  CA  ...          LOS ANGELES   \n",
              "191491             New York                NY12  ...             NEW YORK   \n",
              "191535              Waltham                MA05  ...            WATERTOWN   \n",
              "191537           Scottsdale                  AZ  ...            ANN ARBOR   \n",
              "\n",
              "       perfDistrictCode perfStateCode primaryProgram  coPDPI          poName  \\\n",
              "11262              CA24            CA            NaN     NaN             NaN   \n",
              "11288              HI01            HI            NaN     NaN             NaN   \n",
              "11289              CO04            CO            NaN     NaN             NaN   \n",
              "11295              CO05            CO            NaN     NaN             NaN   \n",
              "11854              CA33            CA            NaN     NaN             NaN   \n",
              "...                 ...           ...            ...     ...             ...   \n",
              "191395             OH10            OH            NaN     NaN   Alastair Monk   \n",
              "191398             CA37            CA            NaN     NaN  Peter Atherton   \n",
              "191491             NY12            NY            NaN     NaN   Alastair Monk   \n",
              "191535             MA05            MA            NaN     NaN      Anna Brady   \n",
              "191537             MI06            MI            NaN     NaN  Samir M. Iqbal   \n",
              "\n",
              "             poPhone publicationResearch  publicationConference  \\\n",
              "11262            NaN                 NaN                    NaN   \n",
              "11288            NaN                 NaN                    NaN   \n",
              "11289            NaN                 NaN                    NaN   \n",
              "11295            NaN                 NaN                    NaN   \n",
              "11854            NaN                 NaN                    NaN   \n",
              "...              ...                 ...                    ...   \n",
              "191395  7.032924e+09                 NaN                    NaN   \n",
              "191398  7.032929e+09                 NaN                    NaN   \n",
              "191491  7.032924e+09                 NaN                    NaN   \n",
              "191535  7.032927e+09                 NaN                    NaN   \n",
              "191537  7.032928e+09                 NaN                    NaN   \n",
              "\n",
              "                                    projectOutComesReport  \n",
              "11262                                                 NaN  \n",
              "11288                                                 NaN  \n",
              "11289                                                 NaN  \n",
              "11295                                                 NaN  \n",
              "11854                                                 NaN  \n",
              "...                                                   ...  \n",
              "191395  Scoliosis is an abnormal curvature of the spin...  \n",
              "191398  This project proposes a new software platform ...  \n",
              "191491                                                NaN  \n",
              "191535  When we add up the masses of the galaxies that...  \n",
              "191537  1.0 Intellectual merit and broader impacts\\n\\n...  \n",
              "\n",
              "[1980 rows x 52 columns]"
            ]
          },
          "execution_count": 162,
          "metadata": {},
          "output_type": "execute_result"
        }
      ],
      "source": [
        "df_corps = data[data['fundProgramName'] == 'I-Corps']\n",
        "\n",
        "df_SBIR_1 = data[data['fundProgramName'] == 'SBIR Phase I']\n",
        "df_SBIR_2 = data[data['fundProgramName'] == 'SBIR Phase II']\n",
        "# df_corps = data[data['fundProgramName'] == 'I-Corps']\n",
        "# df_corps = data[data['fundProgramName'] == 'I-Corps']\n"
      ]
    },
    {
      "cell_type": "code",
      "execution_count": null,
      "metadata": {},
      "outputs": [],
      "source": []
    },
    {
      "cell_type": "code",
      "execution_count": null,
      "metadata": {},
      "outputs": [],
      "source": []
    },
    {
      "cell_type": "code",
      "execution_count": null,
      "metadata": {},
      "outputs": [],
      "source": []
    },
    {
      "cell_type": "code",
      "execution_count": null,
      "metadata": {},
      "outputs": [],
      "source": []
    },
    {
      "cell_type": "code",
      "execution_count": 159,
      "metadata": {},
      "outputs": [],
      "source": [
        "# pd.set_option('display.max_columns', None)\n",
        "# df=pd.read_csv('genICorp.csv') \n",
        "# dfp=pd.read_csv('Panel2.csv') #using the already organized data\n",
        "# dfc = pd.read_csv(\"I-Corp_county.csv\") # This is the file I manually updated the county column\n",
        "\n",
        "# #File to create the panel\n",
        "# dfp = pd.read_csv(\"I-corp-Full.csv\")"
      ]
    },
    {
      "cell_type": "code",
      "execution_count": null,
      "metadata": {},
      "outputs": [],
      "source": [
        "# pd.set_option('display.max_columns', None)\n",
        "# df=pd.read_csv('genICorp.csv') \n",
        "# dfp=pd.read_csv('Panel2.csv') #using the already organized data\n",
        "# dfc = pd.read_csv(\"I-Corp_county.csv\") # This is the file I manually updated the county column\n",
        "\n",
        "# #File to create the panel\n",
        "# dfp = pd.read_csv(\"I-corp-Full.csv\")"
      ]
    },
    {
      "cell_type": "code",
      "execution_count": null,
      "metadata": {},
      "outputs": [],
      "source": []
    },
    {
      "cell_type": "code",
      "execution_count": null,
      "metadata": {},
      "outputs": [],
      "source": []
    },
    {
      "cell_type": "code",
      "execution_count": null,
      "metadata": {},
      "outputs": [],
      "source": []
    },
    {
      "cell_type": "code",
      "execution_count": null,
      "metadata": {},
      "outputs": [],
      "source": []
    },
    {
      "cell_type": "code",
      "execution_count": null,
      "metadata": {},
      "outputs": [],
      "source": []
    },
    {
      "cell_type": "code",
      "execution_count": 127,
      "metadata": {
        "id": "LB3Jx7tpfRGC"
      },
      "outputs": [],
      "source": [
        "data['d_inv'] = data.apply(lambda x: 0 if x.estimatedTotalAmt <= 50000.0 else 1,axis = 1)# cria variavel categorica para valores iguais ou menores que 50.000 e maiores que 50.000\n",
        "data['d_59'] = 1\n",
        "data['d_99'] = 0\n",
        "data['estimatedTotalAmt_d_99'] = 0"
      ]
    },
    {
      "cell_type": "code",
      "execution_count": 128,
      "metadata": {
        "id": "L5LXiEooxPWi"
      },
      "outputs": [],
      "source": [
        "df_clear = data.groupby(['awardeeCounty','Year_date','awardee','d_inv'])[['d_59','estimatedTotalAmt','d_99','estimatedTotalAmt_d_99']].sum()# agrupando por county\n",
        "df_clear = df_clear.reset_index()"
      ]
    },
    {
      "cell_type": "code",
      "execution_count": 129,
      "metadata": {
        "id": "4z8wLbEOPCyA"
      },
      "outputs": [],
      "source": [
        "df_below50 = df_clear[df_clear['d_inv'] == 0].reset_index()\n",
        "df_below50 = df_below50.drop(columns =['index'])\n"
      ]
    },
    {
      "cell_type": "code",
      "execution_count": 130,
      "metadata": {
        "id": "PwWoZ_JfQLRO"
      },
      "outputs": [],
      "source": [
        "df_over50 = df_clear[df_clear['d_inv'] == 1].reset_index()\n",
        "df_over50['d_99'] = df_over50['d_59']\n",
        "df_over50['d_59'] = 0 \n",
        "df_over50['estimatedTotalAmt_d_99'] = df_over50['estimatedTotalAmt']\n",
        "df_over50['estimatedTotalAmt'] = 0\n",
        "df_over50 = df_over50.drop(columns = ['index'])\n",
        "\n"
      ]
    },
    {
      "cell_type": "code",
      "execution_count": 131,
      "metadata": {
        "id": "q-s6NTyre0aN"
      },
      "outputs": [],
      "source": [
        "for index,row in df_below50.iterrows():\n",
        "  key = row['awardee']\n",
        "  met = df_over50[df_over50['awardee'] == key]\n",
        "  key_year = row['Year_date']\n",
        "  met_year = met[met['Year_date'] == key_year]\n",
        "  if met_year.shape[0]>0:\n",
        "    df_below50.at[index,'d_99'] = met_year.iloc[0]['d_99']\n",
        "    df_below50.at[index,'estimatedTotalAmt_d_99'] = met_year.iloc[0]['estimatedTotalAmt_d_99']\n",
        "    df_over50 = df_over50.drop(met_year.index[0])"
      ]
    },
    {
      "cell_type": "code",
      "execution_count": 132,
      "metadata": {
        "id": "mVX70KZ6sKJI"
      },
      "outputs": [],
      "source": [
        "df_below50 = df_below50.merge(df_over50,how = 'outer')\n",
        "df_below50['total'] = df_below50.apply(lambda x: x['estimatedTotalAmt'] + x['estimatedTotalAmt_d_99'],axis = 1)"
      ]
    },
    {
      "cell_type": "code",
      "execution_count": 133,
      "metadata": {
        "id": "NgrBZsDuB-xV"
      },
      "outputs": [],
      "source": [
        "df_final = df_below50.sort_values(by = ['awardeeCounty','Year_date'])\n",
        "df_final = df_final.reset_index(inplace = False).drop(columns = ['index'])"
      ]
    },
    {
      "attachments": {},
      "cell_type": "markdown",
      "metadata": {},
      "source": [
        "Saving the file"
      ]
    },
    {
      "cell_type": "code",
      "execution_count": 134,
      "metadata": {
        "colab": {
          "base_uri": "https://localhost:8080/",
          "height": 655
        },
        "id": "8AlZwMqXFoDa",
        "outputId": "f54e5324-f98e-45a2-9aec-e2d7922dd404"
      },
      "outputs": [],
      "source": [
        "df_final\n",
        "df_final.to_csv(\"nsf_all.csv\", index=False)\n"
      ]
    },
    {
      "cell_type": "code",
      "execution_count": null,
      "metadata": {},
      "outputs": [],
      "source": []
    },
    {
      "cell_type": "code",
      "execution_count": null,
      "metadata": {},
      "outputs": [],
      "source": []
    },
    {
      "cell_type": "code",
      "execution_count": null,
      "metadata": {},
      "outputs": [],
      "source": []
    },
    {
      "cell_type": "code",
      "execution_count": null,
      "metadata": {},
      "outputs": [],
      "source": []
    },
    {
      "cell_type": "code",
      "execution_count": null,
      "metadata": {
        "id": "DvOmScFf4meg"
      },
      "outputs": [],
      "source": [
        "#!!!!!!!!!!!!!!!!!!!!!!!!!!!!!!!!!!!!!!! abaixo so testes !!!!!!!!!!!!!!!!!!!!!!!!!!!!!!!!!!!!!!!"
      ]
    },
    {
      "cell_type": "code",
      "execution_count": null,
      "metadata": {
        "id": "yyAwbV5ZGVCX"
      },
      "outputs": [],
      "source": [
        "x = data[data['awardee']== 'REGENTS OF THE UNIVERSITY OF CALIFORNIA, THE']\n",
        "len(x[x['Year_date']== 2017])"
      ]
    },
    {
      "cell_type": "code",
      "execution_count": null,
      "metadata": {
        "id": "MrxAw7IPXwmS"
      },
      "outputs": [],
      "source": [
        "df_below50[df_below50['awardee'] == 'NATIONAL COLLEGIATE INVENTORS & INNOVATORS ALLIANCE, INC.']"
      ]
    },
    {
      "cell_type": "code",
      "execution_count": null,
      "metadata": {
        "id": "PQBN_ey14Gl1"
      },
      "outputs": [],
      "source": [
        "df_below50[df_below50['awardee'] == 'THE UNIVERSITY OF AKRON']"
      ]
    },
    {
      "cell_type": "code",
      "execution_count": null,
      "metadata": {
        "id": "Hb31yJI-dIgf"
      },
      "outputs": [],
      "source": [
        "df_over50[df_over50['awardee'] == 'NATIONAL COLLEGIATE INVENTORS & INNOVATORS ALLIANCE, INC.']"
      ]
    },
    {
      "cell_type": "code",
      "execution_count": null,
      "metadata": {
        "id": "AsTX24NetFLF"
      },
      "outputs": [],
      "source": [
        "df_final[df_final['awardee'] == 'NATIONAL COLLEGIATE INVENTORS & INNOVATORS ALLIANCE, INC.']"
      ]
    },
    {
      "cell_type": "code",
      "execution_count": null,
      "metadata": {
        "id": "bmNhb-zXdZph"
      },
      "outputs": [],
      "source": [
        "#df_melt = pd.melt(data,id_vars= ['Year_date','awardee','estimatedTotalAmt'], value_vars = ['d_inv'] )\n",
        "#df_melt"
      ]
    },
    {
      "cell_type": "code",
      "execution_count": null,
      "metadata": {
        "id": "Sk3VsBudwP8X"
      },
      "outputs": [],
      "source": [
        "data[data['awardee'] == 'NATIONAL COLLEGIATE INVENTORS & INNOVATORS ALLIANCE, INC.']"
      ]
    },
    {
      "cell_type": "code",
      "execution_count": null,
      "metadata": {
        "id": "K8DpjhZ_ayqU"
      },
      "outputs": [],
      "source": [
        "df_50 = df_50.groupby(['Year_date','awardee'])[['estimatedTotalAmt']].sum()# agrupando por county"
      ]
    },
    {
      "cell_type": "code",
      "execution_count": null,
      "metadata": {
        "id": "O8eJR_0Da_yG"
      },
      "outputs": [],
      "source": [
        "df_50 = df_50.reset_index( )\n"
      ]
    },
    {
      "cell_type": "code",
      "execution_count": null,
      "metadata": {
        "id": "DWOV-wqDNPKV"
      },
      "outputs": [],
      "source": [
        "SELECT * FROM `post` WHERE source_id >= 175 AND created_date < '2023-01-01'\n",
        "85840\n",
        "\n",
        "DELETE epecificar a tabela para apagar os dados FROM `insight` INNER JOIN `post` on insight.post_id = post.id WHERE post.source_id = 175 AND post.created_date < '2023-01-01'; \n",
        " numeros de registros apagados 13377784\n",
        "\n",
        "WITH postIds AS (\n",
        " SELECT id FROM post WHERE source_id >= 175 AND created_date < '2023-01-01'\n",
        ")\n",
        "\n",
        "DELETE * \n",
        "FROM insight\n",
        "WHERE post_id IN postIds"
      ]
    },
    {
      "cell_type": "code",
      "execution_count": null,
      "metadata": {
        "id": "538V_RGwiprO"
      },
      "outputs": [],
      "source": [
        "79+1125"
      ]
    },
    {
      "cell_type": "code",
      "execution_count": null,
      "metadata": {
        "id": "Z_zJxp5ehrOJ"
      },
      "outputs": [],
      "source": [
        "df_over50.shape\n"
      ]
    },
    {
      "cell_type": "code",
      "execution_count": null,
      "metadata": {
        "id": "1GuZkFwUT9BC"
      },
      "outputs": [],
      "source": [
        "x = 0 \n",
        "for index,row in df_below50.iterrows():\n",
        "  key = row['awardee']\n",
        "  met = df_over50[df_over50['awardee'] == key]\n",
        "  key_year = row['Year_date']\n",
        "  met_year = met[met['Year_date'] == key_year]\n",
        "  if met_year.shape[0] > 0:\n",
        "    x+=1\n",
        "    print(met_year.index[0])\n",
        "print(x)"
      ]
    },
    {
      "cell_type": "code",
      "execution_count": null,
      "metadata": {
        "id": "h6yZxmBnjNLT"
      },
      "outputs": [],
      "source": [
        "dif = df_over50[df_over50['awardee'] != key]"
      ]
    },
    {
      "cell_type": "code",
      "execution_count": null,
      "metadata": {
        "id": "WOfg4MpVli1Q"
      },
      "outputs": [],
      "source": [
        "x = df_over50['awardee'] != df_below50['awardee']"
      ]
    },
    {
      "cell_type": "code",
      "execution_count": null,
      "metadata": {
        "colab": {
          "base_uri": "https://localhost:8080/",
          "height": 424
        },
        "id": "PIxplqZAjOO_",
        "outputId": "d77cd096-633e-438b-9178-df97ab7672df"
      },
      "outputs": [
        {
          "data": {
            "text/html": [
              "\n",
              "  <div id=\"df-697ecc51-46fc-4af2-a17d-da17b892ff6a\">\n",
              "    <div class=\"colab-df-container\">\n",
              "      <div>\n",
              "<style scoped>\n",
              "    .dataframe tbody tr th:only-of-type {\n",
              "        vertical-align: middle;\n",
              "    }\n",
              "\n",
              "    .dataframe tbody tr th {\n",
              "        vertical-align: top;\n",
              "    }\n",
              "\n",
              "    .dataframe thead th {\n",
              "        text-align: right;\n",
              "    }\n",
              "</style>\n",
              "<table border=\"1\" class=\"dataframe\">\n",
              "  <thead>\n",
              "    <tr style=\"text-align: right;\">\n",
              "      <th></th>\n",
              "      <th>index</th>\n",
              "      <th>awardeeCounty</th>\n",
              "      <th>Year_date</th>\n",
              "      <th>awardee</th>\n",
              "      <th>d_inv</th>\n",
              "      <th>estimatedTotalAmt</th>\n",
              "      <th>d_59</th>\n",
              "      <th>d_99</th>\n",
              "    </tr>\n",
              "  </thead>\n",
              "  <tbody>\n",
              "    <tr>\n",
              "      <th>0</th>\n",
              "      <td>1</td>\n",
              "      <td>Akron</td>\n",
              "      <td>2013</td>\n",
              "      <td>THE UNIVERSITY OF AKRON</td>\n",
              "      <td>1</td>\n",
              "      <td>300000</td>\n",
              "      <td>1</td>\n",
              "      <td>0</td>\n",
              "    </tr>\n",
              "    <tr>\n",
              "      <th>1</th>\n",
              "      <td>6</td>\n",
              "      <td>Akron</td>\n",
              "      <td>2017</td>\n",
              "      <td>THE UNIVERSITY OF AKRON</td>\n",
              "      <td>1</td>\n",
              "      <td>300000</td>\n",
              "      <td>1</td>\n",
              "      <td>0</td>\n",
              "    </tr>\n",
              "    <tr>\n",
              "      <th>2</th>\n",
              "      <td>18</td>\n",
              "      <td>Albuquerque</td>\n",
              "      <td>2017</td>\n",
              "      <td>UNIVERSITY OF NEW MEXICO, THE</td>\n",
              "      <td>1</td>\n",
              "      <td>443631</td>\n",
              "      <td>1</td>\n",
              "      <td>0</td>\n",
              "    </tr>\n",
              "    <tr>\n",
              "      <th>3</th>\n",
              "      <td>22</td>\n",
              "      <td>Alexandria</td>\n",
              "      <td>2019</td>\n",
              "      <td>GEM CONSORTIUM</td>\n",
              "      <td>1</td>\n",
              "      <td>3498254</td>\n",
              "      <td>1</td>\n",
              "      <td>0</td>\n",
              "    </tr>\n",
              "    <tr>\n",
              "      <th>4</th>\n",
              "      <td>29</td>\n",
              "      <td>Ames</td>\n",
              "      <td>2017</td>\n",
              "      <td>IOWA STATE UNIVERSITY OF SCIENCE AND TECHNOLOGY</td>\n",
              "      <td>1</td>\n",
              "      <td>498750</td>\n",
              "      <td>1</td>\n",
              "      <td>0</td>\n",
              "    </tr>\n",
              "    <tr>\n",
              "      <th>...</th>\n",
              "      <td>...</td>\n",
              "      <td>...</td>\n",
              "      <td>...</td>\n",
              "      <td>...</td>\n",
              "      <td>...</td>\n",
              "      <td>...</td>\n",
              "      <td>...</td>\n",
              "      <td>...</td>\n",
              "    </tr>\n",
              "    <tr>\n",
              "      <th>163</th>\n",
              "      <td>1254</td>\n",
              "      <td>Washington</td>\n",
              "      <td>2017</td>\n",
              "      <td>GEORGE WASHINGTON UNIVERSITY, THE</td>\n",
              "      <td>1</td>\n",
              "      <td>499502</td>\n",
              "      <td>1</td>\n",
              "      <td>0</td>\n",
              "    </tr>\n",
              "    <tr>\n",
              "      <th>164</th>\n",
              "      <td>1265</td>\n",
              "      <td>West Lafayette</td>\n",
              "      <td>2015</td>\n",
              "      <td>PURDUE UNIVERSITY</td>\n",
              "      <td>1</td>\n",
              "      <td>197280</td>\n",
              "      <td>1</td>\n",
              "      <td>0</td>\n",
              "    </tr>\n",
              "    <tr>\n",
              "      <th>165</th>\n",
              "      <td>1269</td>\n",
              "      <td>West Lafayette</td>\n",
              "      <td>2018</td>\n",
              "      <td>PURDUE UNIVERSITY</td>\n",
              "      <td>1</td>\n",
              "      <td>160000</td>\n",
              "      <td>1</td>\n",
              "      <td>0</td>\n",
              "    </tr>\n",
              "    <tr>\n",
              "      <th>166</th>\n",
              "      <td>1275</td>\n",
              "      <td>Wichita</td>\n",
              "      <td>2016</td>\n",
              "      <td>WICHITA STATE UNIVERSITY</td>\n",
              "      <td>1</td>\n",
              "      <td>200000</td>\n",
              "      <td>1</td>\n",
              "      <td>0</td>\n",
              "    </tr>\n",
              "    <tr>\n",
              "      <th>167</th>\n",
              "      <td>1282</td>\n",
              "      <td>Worcester</td>\n",
              "      <td>2018</td>\n",
              "      <td>WORCESTER POLYTECHNIC INSTITUTE</td>\n",
              "      <td>1</td>\n",
              "      <td>255000</td>\n",
              "      <td>1</td>\n",
              "      <td>0</td>\n",
              "    </tr>\n",
              "  </tbody>\n",
              "</table>\n",
              "<p>168 rows × 8 columns</p>\n",
              "</div>\n",
              "      <button class=\"colab-df-convert\" onclick=\"convertToInteractive('df-697ecc51-46fc-4af2-a17d-da17b892ff6a')\"\n",
              "              title=\"Convert this dataframe to an interactive table.\"\n",
              "              style=\"display:none;\">\n",
              "        \n",
              "  <svg xmlns=\"http://www.w3.org/2000/svg\" height=\"24px\"viewBox=\"0 0 24 24\"\n",
              "       width=\"24px\">\n",
              "    <path d=\"M0 0h24v24H0V0z\" fill=\"none\"/>\n",
              "    <path d=\"M18.56 5.44l.94 2.06.94-2.06 2.06-.94-2.06-.94-.94-2.06-.94 2.06-2.06.94zm-11 1L8.5 8.5l.94-2.06 2.06-.94-2.06-.94L8.5 2.5l-.94 2.06-2.06.94zm10 10l.94 2.06.94-2.06 2.06-.94-2.06-.94-.94-2.06-.94 2.06-2.06.94z\"/><path d=\"M17.41 7.96l-1.37-1.37c-.4-.4-.92-.59-1.43-.59-.52 0-1.04.2-1.43.59L10.3 9.45l-7.72 7.72c-.78.78-.78 2.05 0 2.83L4 21.41c.39.39.9.59 1.41.59.51 0 1.02-.2 1.41-.59l7.78-7.78 2.81-2.81c.8-.78.8-2.07 0-2.86zM5.41 20L4 18.59l7.72-7.72 1.47 1.35L5.41 20z\"/>\n",
              "  </svg>\n",
              "      </button>\n",
              "      \n",
              "  <style>\n",
              "    .colab-df-container {\n",
              "      display:flex;\n",
              "      flex-wrap:wrap;\n",
              "      gap: 12px;\n",
              "    }\n",
              "\n",
              "    .colab-df-convert {\n",
              "      background-color: #E8F0FE;\n",
              "      border: none;\n",
              "      border-radius: 50%;\n",
              "      cursor: pointer;\n",
              "      display: none;\n",
              "      fill: #1967D2;\n",
              "      height: 32px;\n",
              "      padding: 0 0 0 0;\n",
              "      width: 32px;\n",
              "    }\n",
              "\n",
              "    .colab-df-convert:hover {\n",
              "      background-color: #E2EBFA;\n",
              "      box-shadow: 0px 1px 2px rgba(60, 64, 67, 0.3), 0px 1px 3px 1px rgba(60, 64, 67, 0.15);\n",
              "      fill: #174EA6;\n",
              "    }\n",
              "\n",
              "    [theme=dark] .colab-df-convert {\n",
              "      background-color: #3B4455;\n",
              "      fill: #D2E3FC;\n",
              "    }\n",
              "\n",
              "    [theme=dark] .colab-df-convert:hover {\n",
              "      background-color: #434B5C;\n",
              "      box-shadow: 0px 1px 3px 1px rgba(0, 0, 0, 0.15);\n",
              "      filter: drop-shadow(0px 1px 2px rgba(0, 0, 0, 0.3));\n",
              "      fill: #FFFFFF;\n",
              "    }\n",
              "  </style>\n",
              "\n",
              "      <script>\n",
              "        const buttonEl =\n",
              "          document.querySelector('#df-697ecc51-46fc-4af2-a17d-da17b892ff6a button.colab-df-convert');\n",
              "        buttonEl.style.display =\n",
              "          google.colab.kernel.accessAllowed ? 'block' : 'none';\n",
              "\n",
              "        async function convertToInteractive(key) {\n",
              "          const element = document.querySelector('#df-697ecc51-46fc-4af2-a17d-da17b892ff6a');\n",
              "          const dataTable =\n",
              "            await google.colab.kernel.invokeFunction('convertToInteractive',\n",
              "                                                     [key], {});\n",
              "          if (!dataTable) return;\n",
              "\n",
              "          const docLinkHtml = 'Like what you see? Visit the ' +\n",
              "            '<a target=\"_blank\" href=https://colab.research.google.com/notebooks/data_table.ipynb>data table notebook</a>'\n",
              "            + ' to learn more about interactive tables.';\n",
              "          element.innerHTML = '';\n",
              "          dataTable['output_type'] = 'display_data';\n",
              "          await google.colab.output.renderOutput(dataTable, element);\n",
              "          const docLink = document.createElement('div');\n",
              "          docLink.innerHTML = docLinkHtml;\n",
              "          element.appendChild(docLink);\n",
              "        }\n",
              "      </script>\n",
              "    </div>\n",
              "  </div>\n",
              "  "
            ],
            "text/plain": [
              "     index   awardeeCounty  Year_date  \\\n",
              "0        1           Akron       2013   \n",
              "1        6           Akron       2017   \n",
              "2       18     Albuquerque       2017   \n",
              "3       22      Alexandria       2019   \n",
              "4       29            Ames       2017   \n",
              "..     ...             ...        ...   \n",
              "163   1254      Washington       2017   \n",
              "164   1265  West Lafayette       2015   \n",
              "165   1269  West Lafayette       2018   \n",
              "166   1275         Wichita       2016   \n",
              "167   1282       Worcester       2018   \n",
              "\n",
              "                                             awardee  d_inv  \\\n",
              "0                            THE UNIVERSITY OF AKRON      1   \n",
              "1                            THE UNIVERSITY OF AKRON      1   \n",
              "2                      UNIVERSITY OF NEW MEXICO, THE      1   \n",
              "3                                     GEM CONSORTIUM      1   \n",
              "4    IOWA STATE UNIVERSITY OF SCIENCE AND TECHNOLOGY      1   \n",
              "..                                               ...    ...   \n",
              "163                GEORGE WASHINGTON UNIVERSITY, THE      1   \n",
              "164                                PURDUE UNIVERSITY      1   \n",
              "165                                PURDUE UNIVERSITY      1   \n",
              "166                         WICHITA STATE UNIVERSITY      1   \n",
              "167                  WORCESTER POLYTECHNIC INSTITUTE      1   \n",
              "\n",
              "     estimatedTotalAmt  d_59  d_99  \n",
              "0               300000     1     0  \n",
              "1               300000     1     0  \n",
              "2               443631     1     0  \n",
              "3              3498254     1     0  \n",
              "4               498750     1     0  \n",
              "..                 ...   ...   ...  \n",
              "163             499502     1     0  \n",
              "164             197280     1     0  \n",
              "165             160000     1     0  \n",
              "166             200000     1     0  \n",
              "167             255000     1     0  \n",
              "\n",
              "[168 rows x 8 columns]"
            ]
          },
          "execution_count": 168,
          "metadata": {},
          "output_type": "execute_result"
        }
      ],
      "source": [
        "dif"
      ]
    },
    {
      "cell_type": "code",
      "execution_count": null,
      "metadata": {
        "id": "cLJmW3X907mW"
      },
      "outputs": [],
      "source": [
        "df_test = data.groupby(['awardeeCounty','Year_date','awardee'])[['estimatedTotalAmt']].sum()# agrupando por county"
      ]
    },
    {
      "cell_type": "code",
      "execution_count": null,
      "metadata": {
        "id": "johzt03wpktj"
      },
      "outputs": [],
      "source": [
        "df_test"
      ]
    },
    {
      "cell_type": "code",
      "execution_count": null,
      "metadata": {
        "id": "8HT-S_zCcvmz"
      },
      "outputs": [],
      "source": [
        "#min_value = data.estimatedTotalAmt.min() # menor valor da coluna cfdaNumber\n",
        "df_50['n_invest'] = df_50.apply(lambda x: x.estimatedTotalAmt/min_value if x.estimatedTotalAmt> min_value else min_value/min_value, axis=1)# add col n"
      ]
    },
    {
      "cell_type": "code",
      "execution_count": null,
      "metadata": {
        "id": "hZf7GfjkHKNM"
      },
      "outputs": [],
      "source": [
        "df_test.reset_index(inplace =True)\n",
        "df_test.head(4)\n"
      ]
    },
    {
      "cell_type": "code",
      "execution_count": null,
      "metadata": {
        "id": "pDAP1Az8V6_R"
      },
      "outputs": [],
      "source": [
        "for index, row in df_test.iterrows():\n",
        "  key = row['awardee']\n",
        "  met = data[data['awardee']==key]\n",
        "  \n",
        "\n",
        "    "
      ]
    }
  ],
  "metadata": {
    "colab": {
      "provenance": []
    },
    "kernelspec": {
      "display_name": "Python 3",
      "name": "python3"
    },
    "language_info": {
      "codemirror_mode": {
        "name": "ipython",
        "version": 3
      },
      "file_extension": ".py",
      "mimetype": "text/x-python",
      "name": "python",
      "nbconvert_exporter": "python",
      "pygments_lexer": "ipython3",
      "version": "3.9.13"
    }
  },
  "nbformat": 4,
  "nbformat_minor": 0
}
