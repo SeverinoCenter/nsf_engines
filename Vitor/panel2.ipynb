{
  "cells": [
    {
      "attachments": {},
      "cell_type": "markdown",
      "metadata": {
        "id": "u7bO5ifsty9d"
      },
      "source": [
        "\n",
        "agrupar por cidade\n",
        "agrupar por ano count total por cidade\n",
        "valor de univercidade\n",
        "valor total de univercidade\n",
        "col: distric code\n",
        "county(condado):ano -> col:awardee(univercidades(gerar contador))-> toltal recebido"
      ]
    },
    {
      "attachments": {},
      "cell_type": "markdown",
      "metadata": {
        "id": "GlO3VZiUtrs8"
      },
      "source": [
        "Mantém a D_50 (é redundante, mas deixa la)\n",
        "Cria d_59 que vai ter tudo 0 ai quando agregarmos ela vai receber o valor de quantas vezes uma mesma universidade apareceu e vc pode usar a coluna d_50 para contar (se quiser)\n",
        "e uma outra coluna d_99 que vai receber também 0 no começo e quando agregar ela fica com 1,2,3,4... conforme aparecer a mesma universidade mais vezes com valores acima de 50k\n",
        "No fim temos 3 colunas\n",
        "d_50 que é uma dummy mesmo\n",
        "d_59 que tem quantas vezes uma universidade apareceu por ano com valor de 50k, 1,2,3,4...\n",
        "d_99 que tem quantas vezes uma universidade apareceu por ano com valor ACIMA de 50k, 1,2,3,4..."
      ]
    },
    {
      "cell_type": "code",
      "execution_count": 1,
      "metadata": {
        "id": "FuDxkZwrrtXo"
      },
      "outputs": [],
      "source": [
        "import pandas as pd\n",
        "import numpy as np"
      ]
    },
    {
      "cell_type": "code",
      "execution_count": 42,
      "metadata": {
        "colab": {
          "base_uri": "https://localhost:8080/",
          "height": 225
        },
        "id": "zCByGmGXsDzS",
        "outputId": "47b204ad-a5d6-43e2-c2d0-eb08e479ed21"
      },
      "outputs": [],
      "source": [
        "data = pd.read_csv('I-corp-Full.csv', index_col = False)"
      ]
    },
    {
      "cell_type": "code",
      "execution_count": 3,
      "metadata": {
        "id": "LB3Jx7tpfRGC"
      },
      "outputs": [],
      "source": [
        "data['d_inv'] = data.apply(lambda x: 0 if x.estimatedTotalAmt <= 50000.0 else 1,axis = 1)# cria variavel categorica para valores iguais ou menores que 50.000 e maiores que 50.000\n",
        "data['d_59'] = 1\n",
        "data['d_99'] = 0\n",
        "data['estimatedTotalAmt_d_99'] = 0"
      ]
    },
    {
      "cell_type": "code",
      "execution_count": 4,
      "metadata": {
        "id": "L5LXiEooxPWi"
      },
      "outputs": [],
      "source": [
        "df_clear = data.groupby(['awardeeCounty','Year_date','awardee','d_inv'])[['d_59','estimatedTotalAmt','d_99','estimatedTotalAmt_d_99']].sum()# agrupando por county\n",
        "df_clear = df_clear.reset_index()"
      ]
    },
    {
      "cell_type": "code",
      "execution_count": 5,
      "metadata": {
        "id": "4z8wLbEOPCyA"
      },
      "outputs": [],
      "source": [
        "df_below50 = df_clear[df_clear['d_inv'] == 0].reset_index()\n",
        "df_below50 = df_below50.drop(columns =['index'])\n"
      ]
    },
    {
      "cell_type": "code",
      "execution_count": 6,
      "metadata": {
        "id": "PwWoZ_JfQLRO"
      },
      "outputs": [],
      "source": [
        "df_over50 = df_clear[df_clear['d_inv'] == 1].reset_index()\n",
        "df_over50['d_99'] = df_over50['d_59']\n",
        "df_over50['d_59'] = 0 \n",
        "df_over50['estimatedTotalAmt_d_99'] = df_over50['estimatedTotalAmt']\n",
        "df_over50['estimatedTotalAmt'] = 0\n",
        "df_over50 = df_over50.drop(columns = ['index'])\n",
        "\n"
      ]
    },
    {
      "cell_type": "code",
      "execution_count": 7,
      "metadata": {
        "id": "q-s6NTyre0aN"
      },
      "outputs": [],
      "source": [
        "for index,row in df_below50.iterrows():\n",
        "  key = row['awardee']\n",
        "  met = df_over50[df_over50['awardee'] == key]\n",
        "  key_year = row['Year_date']\n",
        "  met_year = met[met['Year_date'] == key_year]\n",
        "  if met_year.shape[0]>0:\n",
        "    df_below50.at[index,'d_99'] = met_year.iloc[0]['d_99']\n",
        "    df_below50.at[index,'estimatedTotalAmt_d_99'] = met_year.iloc[0]['estimatedTotalAmt_d_99']\n",
        "    df_over50 = df_over50.drop(met_year.index[0])"
      ]
    },
    {
      "cell_type": "code",
      "execution_count": 8,
      "metadata": {
        "id": "mVX70KZ6sKJI"
      },
      "outputs": [],
      "source": [
        "df_below50 = df_below50.merge(df_over50,how = 'outer')\n",
        "df_below50['total'] = df_below50.apply(lambda x: x['estimatedTotalAmt'] + x['estimatedTotalAmt_d_99'],axis = 1)"
      ]
    },
    {
      "cell_type": "code",
      "execution_count": 9,
      "metadata": {
        "id": "NgrBZsDuB-xV"
      },
      "outputs": [],
      "source": [
        "df_final = df_below50.sort_values(by = ['awardeeCounty','Year_date'])\n",
        "df_final = df_final.reset_index(inplace = False).drop(columns = ['index'])"
      ]
    },
    {
      "attachments": {},
      "cell_type": "markdown",
      "metadata": {},
      "source": [
        "Saving the file"
      ]
    },
    {
      "cell_type": "code",
      "execution_count": 10,
      "metadata": {
        "colab": {
          "base_uri": "https://localhost:8080/",
          "height": 655
        },
        "id": "8AlZwMqXFoDa",
        "outputId": "f54e5324-f98e-45a2-9aec-e2d7922dd404"
      },
      "outputs": [
        {
          "data": {
            "text/html": [
              "<div>\n",
              "<style scoped>\n",
              "    .dataframe tbody tr th:only-of-type {\n",
              "        vertical-align: middle;\n",
              "    }\n",
              "\n",
              "    .dataframe tbody tr th {\n",
              "        vertical-align: top;\n",
              "    }\n",
              "\n",
              "    .dataframe thead th {\n",
              "        text-align: right;\n",
              "    }\n",
              "</style>\n",
              "<table border=\"1\" class=\"dataframe\">\n",
              "  <thead>\n",
              "    <tr style=\"text-align: right;\">\n",
              "      <th></th>\n",
              "      <th>awardeeCounty</th>\n",
              "      <th>Year_date</th>\n",
              "      <th>awardee</th>\n",
              "      <th>d_inv</th>\n",
              "      <th>d_59</th>\n",
              "      <th>estimatedTotalAmt</th>\n",
              "      <th>d_99</th>\n",
              "      <th>estimatedTotalAmt_d_99</th>\n",
              "      <th>total</th>\n",
              "    </tr>\n",
              "  </thead>\n",
              "  <tbody>\n",
              "    <tr>\n",
              "      <th>0</th>\n",
              "      <td>Akron</td>\n",
              "      <td>2012</td>\n",
              "      <td>THE UNIVERSITY OF AKRON</td>\n",
              "      <td>0</td>\n",
              "      <td>2</td>\n",
              "      <td>100000</td>\n",
              "      <td>0</td>\n",
              "      <td>0</td>\n",
              "      <td>100000</td>\n",
              "    </tr>\n",
              "    <tr>\n",
              "      <th>1</th>\n",
              "      <td>Akron</td>\n",
              "      <td>2013</td>\n",
              "      <td>THE UNIVERSITY OF AKRON</td>\n",
              "      <td>1</td>\n",
              "      <td>0</td>\n",
              "      <td>0</td>\n",
              "      <td>1</td>\n",
              "      <td>300000</td>\n",
              "      <td>300000</td>\n",
              "    </tr>\n",
              "    <tr>\n",
              "      <th>2</th>\n",
              "      <td>Akron</td>\n",
              "      <td>2014</td>\n",
              "      <td>THE UNIVERSITY OF AKRON</td>\n",
              "      <td>0</td>\n",
              "      <td>4</td>\n",
              "      <td>200000</td>\n",
              "      <td>0</td>\n",
              "      <td>0</td>\n",
              "      <td>200000</td>\n",
              "    </tr>\n",
              "    <tr>\n",
              "      <th>3</th>\n",
              "      <td>Akron</td>\n",
              "      <td>2015</td>\n",
              "      <td>THE UNIVERSITY OF AKRON</td>\n",
              "      <td>0</td>\n",
              "      <td>1</td>\n",
              "      <td>50000</td>\n",
              "      <td>0</td>\n",
              "      <td>0</td>\n",
              "      <td>50000</td>\n",
              "    </tr>\n",
              "    <tr>\n",
              "      <th>4</th>\n",
              "      <td>Akron</td>\n",
              "      <td>2016</td>\n",
              "      <td>THE UNIVERSITY OF AKRON</td>\n",
              "      <td>0</td>\n",
              "      <td>2</td>\n",
              "      <td>100000</td>\n",
              "      <td>0</td>\n",
              "      <td>0</td>\n",
              "      <td>100000</td>\n",
              "    </tr>\n",
              "    <tr>\n",
              "      <th>...</th>\n",
              "      <td>...</td>\n",
              "      <td>...</td>\n",
              "      <td>...</td>\n",
              "      <td>...</td>\n",
              "      <td>...</td>\n",
              "      <td>...</td>\n",
              "      <td>...</td>\n",
              "      <td>...</td>\n",
              "      <td>...</td>\n",
              "    </tr>\n",
              "    <tr>\n",
              "      <th>1199</th>\n",
              "      <td>morgantown</td>\n",
              "      <td>2019</td>\n",
              "      <td>WEST VIRGINIA UNIVERSITY RESEARCH CORPORATION</td>\n",
              "      <td>0</td>\n",
              "      <td>2</td>\n",
              "      <td>100000</td>\n",
              "      <td>0</td>\n",
              "      <td>0</td>\n",
              "      <td>100000</td>\n",
              "    </tr>\n",
              "    <tr>\n",
              "      <th>1200</th>\n",
              "      <td>morgantown</td>\n",
              "      <td>2020</td>\n",
              "      <td>WEST VIRGINIA UNIVERSITY RESEARCH CORPORATION</td>\n",
              "      <td>0</td>\n",
              "      <td>1</td>\n",
              "      <td>50000</td>\n",
              "      <td>0</td>\n",
              "      <td>0</td>\n",
              "      <td>50000</td>\n",
              "    </tr>\n",
              "    <tr>\n",
              "      <th>1201</th>\n",
              "      <td>morgantown</td>\n",
              "      <td>2021</td>\n",
              "      <td>WEST VIRGINIA UNIVERSITY RESEARCH CORPORATION</td>\n",
              "      <td>0</td>\n",
              "      <td>2</td>\n",
              "      <td>100000</td>\n",
              "      <td>0</td>\n",
              "      <td>0</td>\n",
              "      <td>100000</td>\n",
              "    </tr>\n",
              "    <tr>\n",
              "      <th>1202</th>\n",
              "      <td>morgantown</td>\n",
              "      <td>2022</td>\n",
              "      <td>WEST VIRGINIA UNIVERSITY RESEARCH CORPORATION</td>\n",
              "      <td>0</td>\n",
              "      <td>1</td>\n",
              "      <td>50000</td>\n",
              "      <td>0</td>\n",
              "      <td>0</td>\n",
              "      <td>50000</td>\n",
              "    </tr>\n",
              "    <tr>\n",
              "      <th>1203</th>\n",
              "      <td>Chesterfield</td>\n",
              "      <td>2019</td>\n",
              "      <td>VIRGINIA STATE UNIVERSITY</td>\n",
              "      <td>0</td>\n",
              "      <td>1</td>\n",
              "      <td>50000</td>\n",
              "      <td>0</td>\n",
              "      <td>0</td>\n",
              "      <td>50000</td>\n",
              "    </tr>\n",
              "  </tbody>\n",
              "</table>\n",
              "<p>1204 rows × 9 columns</p>\n",
              "</div>"
            ],
            "text/plain": [
              "      awardeeCounty  Year_date                                        awardee  \\\n",
              "0             Akron       2012                        THE UNIVERSITY OF AKRON   \n",
              "1             Akron       2013                        THE UNIVERSITY OF AKRON   \n",
              "2             Akron       2014                        THE UNIVERSITY OF AKRON   \n",
              "3             Akron       2015                        THE UNIVERSITY OF AKRON   \n",
              "4             Akron       2016                        THE UNIVERSITY OF AKRON   \n",
              "...             ...        ...                                            ...   \n",
              "1199     morgantown       2019  WEST VIRGINIA UNIVERSITY RESEARCH CORPORATION   \n",
              "1200     morgantown       2020  WEST VIRGINIA UNIVERSITY RESEARCH CORPORATION   \n",
              "1201     morgantown       2021  WEST VIRGINIA UNIVERSITY RESEARCH CORPORATION   \n",
              "1202     morgantown       2022  WEST VIRGINIA UNIVERSITY RESEARCH CORPORATION   \n",
              "1203   Chesterfield       2019                      VIRGINIA STATE UNIVERSITY   \n",
              "\n",
              "      d_inv  d_59  estimatedTotalAmt  d_99  estimatedTotalAmt_d_99   total  \n",
              "0         0     2             100000     0                       0  100000  \n",
              "1         1     0                  0     1                  300000  300000  \n",
              "2         0     4             200000     0                       0  200000  \n",
              "3         0     1              50000     0                       0   50000  \n",
              "4         0     2             100000     0                       0  100000  \n",
              "...     ...   ...                ...   ...                     ...     ...  \n",
              "1199      0     2             100000     0                       0  100000  \n",
              "1200      0     1              50000     0                       0   50000  \n",
              "1201      0     2             100000     0                       0  100000  \n",
              "1202      0     1              50000     0                       0   50000  \n",
              "1203      0     1              50000     0                       0   50000  \n",
              "\n",
              "[1204 rows x 9 columns]"
            ]
          },
          "execution_count": 10,
          "metadata": {},
          "output_type": "execute_result"
        }
      ],
      "source": [
        "df_final\n",
        "df_final.to_csv(\"I-corp_panel.csv\", index=False)\n"
      ]
    },
    {
      "cell_type": "code",
      "execution_count": null,
      "metadata": {},
      "outputs": [],
      "source": []
    },
    {
      "cell_type": "code",
      "execution_count": null,
      "metadata": {},
      "outputs": [],
      "source": []
    },
    {
      "cell_type": "code",
      "execution_count": null,
      "metadata": {},
      "outputs": [],
      "source": []
    },
    {
      "cell_type": "code",
      "execution_count": null,
      "metadata": {},
      "outputs": [],
      "source": []
    },
    {
      "cell_type": "code",
      "execution_count": null,
      "metadata": {
        "id": "DvOmScFf4meg"
      },
      "outputs": [],
      "source": [
        "#!!!!!!!!!!!!!!!!!!!!!!!!!!!!!!!!!!!!!!! abaixo so testes !!!!!!!!!!!!!!!!!!!!!!!!!!!!!!!!!!!!!!!"
      ]
    },
    {
      "cell_type": "code",
      "execution_count": null,
      "metadata": {
        "id": "yyAwbV5ZGVCX"
      },
      "outputs": [],
      "source": [
        "x = data[data['awardee']== 'REGENTS OF THE UNIVERSITY OF CALIFORNIA, THE']\n",
        "len(x[x['Year_date']== 2017])"
      ]
    },
    {
      "cell_type": "code",
      "execution_count": null,
      "metadata": {
        "id": "MrxAw7IPXwmS"
      },
      "outputs": [],
      "source": [
        "df_below50[df_below50['awardee'] == 'NATIONAL COLLEGIATE INVENTORS & INNOVATORS ALLIANCE, INC.']"
      ]
    },
    {
      "cell_type": "code",
      "execution_count": null,
      "metadata": {
        "id": "PQBN_ey14Gl1"
      },
      "outputs": [],
      "source": [
        "df_below50[df_below50['awardee'] == 'THE UNIVERSITY OF AKRON']"
      ]
    },
    {
      "cell_type": "code",
      "execution_count": null,
      "metadata": {
        "id": "Hb31yJI-dIgf"
      },
      "outputs": [],
      "source": [
        "df_over50[df_over50['awardee'] == 'NATIONAL COLLEGIATE INVENTORS & INNOVATORS ALLIANCE, INC.']"
      ]
    },
    {
      "cell_type": "code",
      "execution_count": null,
      "metadata": {
        "id": "AsTX24NetFLF"
      },
      "outputs": [],
      "source": [
        "df_final[df_final['awardee'] == 'NATIONAL COLLEGIATE INVENTORS & INNOVATORS ALLIANCE, INC.']"
      ]
    },
    {
      "cell_type": "code",
      "execution_count": null,
      "metadata": {
        "id": "bmNhb-zXdZph"
      },
      "outputs": [],
      "source": [
        "#df_melt = pd.melt(data,id_vars= ['Year_date','awardee','estimatedTotalAmt'], value_vars = ['d_inv'] )\n",
        "#df_melt"
      ]
    },
    {
      "cell_type": "code",
      "execution_count": null,
      "metadata": {
        "id": "Sk3VsBudwP8X"
      },
      "outputs": [],
      "source": [
        "data[data['awardee'] == 'NATIONAL COLLEGIATE INVENTORS & INNOVATORS ALLIANCE, INC.']"
      ]
    },
    {
      "cell_type": "code",
      "execution_count": null,
      "metadata": {
        "id": "K8DpjhZ_ayqU"
      },
      "outputs": [],
      "source": [
        "df_50 = df_50.groupby(['Year_date','awardee'])[['estimatedTotalAmt']].sum()# agrupando por county"
      ]
    },
    {
      "cell_type": "code",
      "execution_count": null,
      "metadata": {
        "id": "O8eJR_0Da_yG"
      },
      "outputs": [],
      "source": [
        "df_50 = df_50.reset_index( )\n"
      ]
    },
    {
      "cell_type": "code",
      "execution_count": null,
      "metadata": {
        "id": "DWOV-wqDNPKV"
      },
      "outputs": [],
      "source": [
        "SELECT * FROM `post` WHERE source_id >= 175 AND created_date < '2023-01-01'\n",
        "85840\n",
        "\n",
        "DELETE epecificar a tabela para apagar os dados FROM `insight` INNER JOIN `post` on insight.post_id = post.id WHERE post.source_id = 175 AND post.created_date < '2023-01-01'; \n",
        " numeros de registros apagados 13377784\n",
        "\n",
        "WITH postIds AS (\n",
        " SELECT id FROM post WHERE source_id >= 175 AND created_date < '2023-01-01'\n",
        ")\n",
        "\n",
        "DELETE * \n",
        "FROM insight\n",
        "WHERE post_id IN postIds"
      ]
    },
    {
      "cell_type": "code",
      "execution_count": null,
      "metadata": {
        "id": "538V_RGwiprO"
      },
      "outputs": [],
      "source": [
        "79+1125"
      ]
    },
    {
      "cell_type": "code",
      "execution_count": null,
      "metadata": {
        "id": "Z_zJxp5ehrOJ"
      },
      "outputs": [],
      "source": [
        "df_over50.shape\n"
      ]
    },
    {
      "cell_type": "code",
      "execution_count": null,
      "metadata": {
        "id": "1GuZkFwUT9BC"
      },
      "outputs": [],
      "source": [
        "x = 0 \n",
        "for index,row in df_below50.iterrows():\n",
        "  key = row['awardee']\n",
        "  met = df_over50[df_over50['awardee'] == key]\n",
        "  key_year = row['Year_date']\n",
        "  met_year = met[met['Year_date'] == key_year]\n",
        "  if met_year.shape[0] > 0:\n",
        "    x+=1\n",
        "    print(met_year.index[0])\n",
        "print(x)"
      ]
    },
    {
      "cell_type": "code",
      "execution_count": null,
      "metadata": {
        "id": "h6yZxmBnjNLT"
      },
      "outputs": [],
      "source": [
        "dif = df_over50[df_over50['awardee'] != key]"
      ]
    },
    {
      "cell_type": "code",
      "execution_count": null,
      "metadata": {
        "id": "WOfg4MpVli1Q"
      },
      "outputs": [],
      "source": [
        "x = df_over50['awardee'] != df_below50['awardee']"
      ]
    },
    {
      "cell_type": "code",
      "execution_count": null,
      "metadata": {
        "colab": {
          "base_uri": "https://localhost:8080/",
          "height": 424
        },
        "id": "PIxplqZAjOO_",
        "outputId": "d77cd096-633e-438b-9178-df97ab7672df"
      },
      "outputs": [
        {
          "data": {
            "text/html": [
              "\n",
              "  <div id=\"df-697ecc51-46fc-4af2-a17d-da17b892ff6a\">\n",
              "    <div class=\"colab-df-container\">\n",
              "      <div>\n",
              "<style scoped>\n",
              "    .dataframe tbody tr th:only-of-type {\n",
              "        vertical-align: middle;\n",
              "    }\n",
              "\n",
              "    .dataframe tbody tr th {\n",
              "        vertical-align: top;\n",
              "    }\n",
              "\n",
              "    .dataframe thead th {\n",
              "        text-align: right;\n",
              "    }\n",
              "</style>\n",
              "<table border=\"1\" class=\"dataframe\">\n",
              "  <thead>\n",
              "    <tr style=\"text-align: right;\">\n",
              "      <th></th>\n",
              "      <th>index</th>\n",
              "      <th>awardeeCounty</th>\n",
              "      <th>Year_date</th>\n",
              "      <th>awardee</th>\n",
              "      <th>d_inv</th>\n",
              "      <th>estimatedTotalAmt</th>\n",
              "      <th>d_59</th>\n",
              "      <th>d_99</th>\n",
              "    </tr>\n",
              "  </thead>\n",
              "  <tbody>\n",
              "    <tr>\n",
              "      <th>0</th>\n",
              "      <td>1</td>\n",
              "      <td>Akron</td>\n",
              "      <td>2013</td>\n",
              "      <td>THE UNIVERSITY OF AKRON</td>\n",
              "      <td>1</td>\n",
              "      <td>300000</td>\n",
              "      <td>1</td>\n",
              "      <td>0</td>\n",
              "    </tr>\n",
              "    <tr>\n",
              "      <th>1</th>\n",
              "      <td>6</td>\n",
              "      <td>Akron</td>\n",
              "      <td>2017</td>\n",
              "      <td>THE UNIVERSITY OF AKRON</td>\n",
              "      <td>1</td>\n",
              "      <td>300000</td>\n",
              "      <td>1</td>\n",
              "      <td>0</td>\n",
              "    </tr>\n",
              "    <tr>\n",
              "      <th>2</th>\n",
              "      <td>18</td>\n",
              "      <td>Albuquerque</td>\n",
              "      <td>2017</td>\n",
              "      <td>UNIVERSITY OF NEW MEXICO, THE</td>\n",
              "      <td>1</td>\n",
              "      <td>443631</td>\n",
              "      <td>1</td>\n",
              "      <td>0</td>\n",
              "    </tr>\n",
              "    <tr>\n",
              "      <th>3</th>\n",
              "      <td>22</td>\n",
              "      <td>Alexandria</td>\n",
              "      <td>2019</td>\n",
              "      <td>GEM CONSORTIUM</td>\n",
              "      <td>1</td>\n",
              "      <td>3498254</td>\n",
              "      <td>1</td>\n",
              "      <td>0</td>\n",
              "    </tr>\n",
              "    <tr>\n",
              "      <th>4</th>\n",
              "      <td>29</td>\n",
              "      <td>Ames</td>\n",
              "      <td>2017</td>\n",
              "      <td>IOWA STATE UNIVERSITY OF SCIENCE AND TECHNOLOGY</td>\n",
              "      <td>1</td>\n",
              "      <td>498750</td>\n",
              "      <td>1</td>\n",
              "      <td>0</td>\n",
              "    </tr>\n",
              "    <tr>\n",
              "      <th>...</th>\n",
              "      <td>...</td>\n",
              "      <td>...</td>\n",
              "      <td>...</td>\n",
              "      <td>...</td>\n",
              "      <td>...</td>\n",
              "      <td>...</td>\n",
              "      <td>...</td>\n",
              "      <td>...</td>\n",
              "    </tr>\n",
              "    <tr>\n",
              "      <th>163</th>\n",
              "      <td>1254</td>\n",
              "      <td>Washington</td>\n",
              "      <td>2017</td>\n",
              "      <td>GEORGE WASHINGTON UNIVERSITY, THE</td>\n",
              "      <td>1</td>\n",
              "      <td>499502</td>\n",
              "      <td>1</td>\n",
              "      <td>0</td>\n",
              "    </tr>\n",
              "    <tr>\n",
              "      <th>164</th>\n",
              "      <td>1265</td>\n",
              "      <td>West Lafayette</td>\n",
              "      <td>2015</td>\n",
              "      <td>PURDUE UNIVERSITY</td>\n",
              "      <td>1</td>\n",
              "      <td>197280</td>\n",
              "      <td>1</td>\n",
              "      <td>0</td>\n",
              "    </tr>\n",
              "    <tr>\n",
              "      <th>165</th>\n",
              "      <td>1269</td>\n",
              "      <td>West Lafayette</td>\n",
              "      <td>2018</td>\n",
              "      <td>PURDUE UNIVERSITY</td>\n",
              "      <td>1</td>\n",
              "      <td>160000</td>\n",
              "      <td>1</td>\n",
              "      <td>0</td>\n",
              "    </tr>\n",
              "    <tr>\n",
              "      <th>166</th>\n",
              "      <td>1275</td>\n",
              "      <td>Wichita</td>\n",
              "      <td>2016</td>\n",
              "      <td>WICHITA STATE UNIVERSITY</td>\n",
              "      <td>1</td>\n",
              "      <td>200000</td>\n",
              "      <td>1</td>\n",
              "      <td>0</td>\n",
              "    </tr>\n",
              "    <tr>\n",
              "      <th>167</th>\n",
              "      <td>1282</td>\n",
              "      <td>Worcester</td>\n",
              "      <td>2018</td>\n",
              "      <td>WORCESTER POLYTECHNIC INSTITUTE</td>\n",
              "      <td>1</td>\n",
              "      <td>255000</td>\n",
              "      <td>1</td>\n",
              "      <td>0</td>\n",
              "    </tr>\n",
              "  </tbody>\n",
              "</table>\n",
              "<p>168 rows × 8 columns</p>\n",
              "</div>\n",
              "      <button class=\"colab-df-convert\" onclick=\"convertToInteractive('df-697ecc51-46fc-4af2-a17d-da17b892ff6a')\"\n",
              "              title=\"Convert this dataframe to an interactive table.\"\n",
              "              style=\"display:none;\">\n",
              "        \n",
              "  <svg xmlns=\"http://www.w3.org/2000/svg\" height=\"24px\"viewBox=\"0 0 24 24\"\n",
              "       width=\"24px\">\n",
              "    <path d=\"M0 0h24v24H0V0z\" fill=\"none\"/>\n",
              "    <path d=\"M18.56 5.44l.94 2.06.94-2.06 2.06-.94-2.06-.94-.94-2.06-.94 2.06-2.06.94zm-11 1L8.5 8.5l.94-2.06 2.06-.94-2.06-.94L8.5 2.5l-.94 2.06-2.06.94zm10 10l.94 2.06.94-2.06 2.06-.94-2.06-.94-.94-2.06-.94 2.06-2.06.94z\"/><path d=\"M17.41 7.96l-1.37-1.37c-.4-.4-.92-.59-1.43-.59-.52 0-1.04.2-1.43.59L10.3 9.45l-7.72 7.72c-.78.78-.78 2.05 0 2.83L4 21.41c.39.39.9.59 1.41.59.51 0 1.02-.2 1.41-.59l7.78-7.78 2.81-2.81c.8-.78.8-2.07 0-2.86zM5.41 20L4 18.59l7.72-7.72 1.47 1.35L5.41 20z\"/>\n",
              "  </svg>\n",
              "      </button>\n",
              "      \n",
              "  <style>\n",
              "    .colab-df-container {\n",
              "      display:flex;\n",
              "      flex-wrap:wrap;\n",
              "      gap: 12px;\n",
              "    }\n",
              "\n",
              "    .colab-df-convert {\n",
              "      background-color: #E8F0FE;\n",
              "      border: none;\n",
              "      border-radius: 50%;\n",
              "      cursor: pointer;\n",
              "      display: none;\n",
              "      fill: #1967D2;\n",
              "      height: 32px;\n",
              "      padding: 0 0 0 0;\n",
              "      width: 32px;\n",
              "    }\n",
              "\n",
              "    .colab-df-convert:hover {\n",
              "      background-color: #E2EBFA;\n",
              "      box-shadow: 0px 1px 2px rgba(60, 64, 67, 0.3), 0px 1px 3px 1px rgba(60, 64, 67, 0.15);\n",
              "      fill: #174EA6;\n",
              "    }\n",
              "\n",
              "    [theme=dark] .colab-df-convert {\n",
              "      background-color: #3B4455;\n",
              "      fill: #D2E3FC;\n",
              "    }\n",
              "\n",
              "    [theme=dark] .colab-df-convert:hover {\n",
              "      background-color: #434B5C;\n",
              "      box-shadow: 0px 1px 3px 1px rgba(0, 0, 0, 0.15);\n",
              "      filter: drop-shadow(0px 1px 2px rgba(0, 0, 0, 0.3));\n",
              "      fill: #FFFFFF;\n",
              "    }\n",
              "  </style>\n",
              "\n",
              "      <script>\n",
              "        const buttonEl =\n",
              "          document.querySelector('#df-697ecc51-46fc-4af2-a17d-da17b892ff6a button.colab-df-convert');\n",
              "        buttonEl.style.display =\n",
              "          google.colab.kernel.accessAllowed ? 'block' : 'none';\n",
              "\n",
              "        async function convertToInteractive(key) {\n",
              "          const element = document.querySelector('#df-697ecc51-46fc-4af2-a17d-da17b892ff6a');\n",
              "          const dataTable =\n",
              "            await google.colab.kernel.invokeFunction('convertToInteractive',\n",
              "                                                     [key], {});\n",
              "          if (!dataTable) return;\n",
              "\n",
              "          const docLinkHtml = 'Like what you see? Visit the ' +\n",
              "            '<a target=\"_blank\" href=https://colab.research.google.com/notebooks/data_table.ipynb>data table notebook</a>'\n",
              "            + ' to learn more about interactive tables.';\n",
              "          element.innerHTML = '';\n",
              "          dataTable['output_type'] = 'display_data';\n",
              "          await google.colab.output.renderOutput(dataTable, element);\n",
              "          const docLink = document.createElement('div');\n",
              "          docLink.innerHTML = docLinkHtml;\n",
              "          element.appendChild(docLink);\n",
              "        }\n",
              "      </script>\n",
              "    </div>\n",
              "  </div>\n",
              "  "
            ],
            "text/plain": [
              "     index   awardeeCounty  Year_date  \\\n",
              "0        1           Akron       2013   \n",
              "1        6           Akron       2017   \n",
              "2       18     Albuquerque       2017   \n",
              "3       22      Alexandria       2019   \n",
              "4       29            Ames       2017   \n",
              "..     ...             ...        ...   \n",
              "163   1254      Washington       2017   \n",
              "164   1265  West Lafayette       2015   \n",
              "165   1269  West Lafayette       2018   \n",
              "166   1275         Wichita       2016   \n",
              "167   1282       Worcester       2018   \n",
              "\n",
              "                                             awardee  d_inv  \\\n",
              "0                            THE UNIVERSITY OF AKRON      1   \n",
              "1                            THE UNIVERSITY OF AKRON      1   \n",
              "2                      UNIVERSITY OF NEW MEXICO, THE      1   \n",
              "3                                     GEM CONSORTIUM      1   \n",
              "4    IOWA STATE UNIVERSITY OF SCIENCE AND TECHNOLOGY      1   \n",
              "..                                               ...    ...   \n",
              "163                GEORGE WASHINGTON UNIVERSITY, THE      1   \n",
              "164                                PURDUE UNIVERSITY      1   \n",
              "165                                PURDUE UNIVERSITY      1   \n",
              "166                         WICHITA STATE UNIVERSITY      1   \n",
              "167                  WORCESTER POLYTECHNIC INSTITUTE      1   \n",
              "\n",
              "     estimatedTotalAmt  d_59  d_99  \n",
              "0               300000     1     0  \n",
              "1               300000     1     0  \n",
              "2               443631     1     0  \n",
              "3              3498254     1     0  \n",
              "4               498750     1     0  \n",
              "..                 ...   ...   ...  \n",
              "163             499502     1     0  \n",
              "164             197280     1     0  \n",
              "165             160000     1     0  \n",
              "166             200000     1     0  \n",
              "167             255000     1     0  \n",
              "\n",
              "[168 rows x 8 columns]"
            ]
          },
          "execution_count": 168,
          "metadata": {},
          "output_type": "execute_result"
        }
      ],
      "source": [
        "dif"
      ]
    },
    {
      "cell_type": "code",
      "execution_count": null,
      "metadata": {
        "id": "cLJmW3X907mW"
      },
      "outputs": [],
      "source": [
        "df_test = data.groupby(['awardeeCounty','Year_date','awardee'])[['estimatedTotalAmt']].sum()# agrupando por county"
      ]
    },
    {
      "cell_type": "code",
      "execution_count": null,
      "metadata": {
        "id": "johzt03wpktj"
      },
      "outputs": [],
      "source": [
        "df_test"
      ]
    },
    {
      "cell_type": "code",
      "execution_count": null,
      "metadata": {
        "id": "8HT-S_zCcvmz"
      },
      "outputs": [],
      "source": [
        "#min_value = data.estimatedTotalAmt.min() # menor valor da coluna cfdaNumber\n",
        "df_50['n_invest'] = df_50.apply(lambda x: x.estimatedTotalAmt/min_value if x.estimatedTotalAmt> min_value else min_value/min_value, axis=1)# add col n"
      ]
    },
    {
      "cell_type": "code",
      "execution_count": null,
      "metadata": {
        "id": "hZf7GfjkHKNM"
      },
      "outputs": [],
      "source": [
        "df_test.reset_index(inplace =True)\n",
        "df_test.head(4)\n"
      ]
    },
    {
      "cell_type": "code",
      "execution_count": null,
      "metadata": {
        "id": "pDAP1Az8V6_R"
      },
      "outputs": [],
      "source": [
        "for index, row in df_test.iterrows():\n",
        "  key = row['awardee']\n",
        "  met = data[data['awardee']==key]\n",
        "  \n",
        "\n",
        "    "
      ]
    }
  ],
  "metadata": {
    "colab": {
      "provenance": []
    },
    "kernelspec": {
      "display_name": "Python 3",
      "name": "python3"
    },
    "language_info": {
      "codemirror_mode": {
        "name": "ipython",
        "version": 3
      },
      "file_extension": ".py",
      "mimetype": "text/x-python",
      "name": "python",
      "nbconvert_exporter": "python",
      "pygments_lexer": "ipython3",
      "version": "3.9.7"
    }
  },
  "nbformat": 4,
  "nbformat_minor": 0
}
